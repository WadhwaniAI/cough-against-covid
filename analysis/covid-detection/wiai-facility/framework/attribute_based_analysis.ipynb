{
 "cells": [
  {
   "cell_type": "code",
   "execution_count": null,
   "metadata": {},
   "outputs": [],
   "source": [
    "%load_ext autoreload\n",
    "%autoreload 2"
   ]
  },
  {
   "cell_type": "code",
   "execution_count": null,
   "metadata": {},
   "outputs": [],
   "source": [
    "import os\n",
    "from os.path import dirname, join, exists\n",
    "from copy import deepcopy\n",
    "from typing import List\n",
    "import multiprocessing as mp\n",
    "import torch\n",
    "import numpy as np\n",
    "import pandas as pd\n",
    "from scipy.special import softmax\n",
    "import matplotlib.pyplot as plt\n",
    "import matplotlib.cm as cm\n",
    "import seaborn as sns\n",
    "from tqdm import tqdm\n",
    "from IPython.display import display, HTML, clear_output, Markdown, Audio\n",
    "from ipywidgets import HBox, Label, VBox, Dropdown, Layout, Output, Image\n",
    "\n",
    "from cac.config import Config, DATA_ROOT\n",
    "from cac.utils.logger import set_logger, color\n",
    "from cac.data.dataloader import get_dataloader\n",
    "from cac.analysis.classification import ClassificationAnalyzer"
   ]
  },
  {
   "cell_type": "code",
   "execution_count": null,
   "metadata": {},
   "outputs": [],
   "source": [
    "import warnings\n",
    "warnings.simplefilter('ignore')"
   ]
  },
  {
   "cell_type": "markdown",
   "metadata": {},
   "source": [
    "### Define inputs"
   ]
  },
  {
   "cell_type": "code",
   "execution_count": null,
   "metadata": {},
   "outputs": [],
   "source": [
    "VERSION = 'experiments/covid-detection/v9_4_cough_adam_1e-4.yml'\n",
    "USER = 'piyush'\n",
    "BEST_EPOCH = 99"
   ]
  },
  {
   "cell_type": "code",
   "execution_count": null,
   "metadata": {},
   "outputs": [],
   "source": [
    "BATCH_SIZE = 10\n",
    "NUM_WORKERS = 10"
   ]
  },
  {
   "cell_type": "markdown",
   "metadata": {},
   "source": [
    "### Define config"
   ]
  },
  {
   "cell_type": "code",
   "execution_count": null,
   "metadata": {},
   "outputs": [],
   "source": [
    "config = Config(VERSION, USER)"
   ]
  },
  {
   "cell_type": "markdown",
   "metadata": {},
   "source": [
    "### Load data"
   ]
  },
  {
   "cell_type": "code",
   "execution_count": null,
   "metadata": {},
   "outputs": [],
   "source": [
    "val_dataloader, _ = get_dataloader(\n",
    "    config.data, 'val',\n",
    "    BATCH_SIZE,\n",
    "    num_workers=NUM_WORKERS,\n",
    "    shuffle=False,\n",
    "    drop_last=False\n",
    ")"
   ]
  },
  {
   "cell_type": "markdown",
   "metadata": {},
   "source": [
    "### Initialize the analyzer module"
   ]
  },
  {
   "cell_type": "code",
   "execution_count": null,
   "metadata": {},
   "outputs": [],
   "source": [
    "analyzer = ClassificationAnalyzer(config, checkpoint=BEST_EPOCH, load_best=False, debug=True)"
   ]
  },
  {
   "cell_type": "markdown",
   "metadata": {},
   "source": [
    "## Data Summary"
   ]
  },
  {
   "cell_type": "code",
   "execution_count": null,
   "metadata": {},
   "outputs": [],
   "source": [
    "val_logs = analyzer.load_epochwise_logs(mode='val', get_metrics=False)"
   ]
  },
  {
   "cell_type": "code",
   "execution_count": null,
   "metadata": {},
   "outputs": [],
   "source": [
    "val_logs['attributes'].shape"
   ]
  },
  {
   "cell_type": "code",
   "execution_count": null,
   "metadata": {},
   "outputs": [],
   "source": [
    "def plot_distributions(df, attribute):\n",
    "    \n",
    "    assert 'targets' in df.columns\n",
    "    assert 'predictions' in df.columns\n",
    "\n",
    "    fig, ax = plt.subplots(1, 2, figsize=(14, 6))\n",
    "\n",
    "    sns.countplot(data=df, x=attribute, hue='targets', ax=ax[0])\n",
    "    ax[0].grid()\n",
    "    ax[0].set_ylim([0, df.shape[0]])\n",
    "    ax[0].set_title('Distribution of {} based on ground truth labels'.format(attribute))\n",
    "\n",
    "    sns.countplot(data=df, x=attribute, hue='predictions', ax=ax[1])\n",
    "    ax[1].grid()\n",
    "    ax[1].set_ylim([0, df.shape[0]])\n",
    "    ax[1].set_title('Distribution of {} based on predicted labels'.format(attribute))\n",
    "\n",
    "    plt.show()"
   ]
  },
  {
   "cell_type": "code",
   "execution_count": null,
   "metadata": {},
   "outputs": [],
   "source": [
    "def define_dropdown(options, default=None, desc='Dropdown', layout=Layout(), style={}):\n",
    "    dropdown = Dropdown(\n",
    "        options=options,\n",
    "        value=default,\n",
    "        description=desc,\n",
    "        disabled=False,\n",
    "        layout=layout,\n",
    "        style=style\n",
    "    )\n",
    "    return dropdown\n",
    "\n",
    "def on_select_plot(change):\n",
    "    global output\n",
    "    global display_metrics\n",
    "\n",
    "    if change['type'] == 'change' and change['name'] == 'value':\n",
    "\n",
    "        if change['new'] == 'confusion_matrix':\n",
    "            with output:\n",
    "                clear_output()\n",
    "                sns.heatmap(display_metrics['confusion_matrix'], annot=True, annot_kws={'fontsize': 13}, cmap='GnBu', cbar=False)\n",
    "                plt.show()\n",
    "        else:\n",
    "            with output:\n",
    "                clear_output()\n",
    "                display(display_metrics[change['new']])\n",
    "\n",
    "def on_select_plot_wrapper(display_metrics, output):\n",
    "\n",
    "    def on_select_plot_(change):\n",
    "\n",
    "        if change['type'] == 'change' and change['name'] == 'value':\n",
    "\n",
    "            if change['new'] == 'confusion_matrix':\n",
    "                with output:\n",
    "                    clear_output()\n",
    "                    sns.heatmap(display_metrics['confusion_matrix'], annot=True, annot_kws={'fontsize': 13}, cmap='GnBu', cbar=False)\n",
    "                    plt.show()\n",
    "            else:\n",
    "                with output:\n",
    "                    clear_output()\n",
    "                    display(display_metrics[change['new']])\n",
    "    \n",
    "    return on_select_plot_"
   ]
  },
  {
   "cell_type": "code",
   "execution_count": null,
   "metadata": {},
   "outputs": [],
   "source": [
    "def attribute_summary(attribute, epoch, threshold=None, recall=0.9):\n",
    "    \n",
    "    predicted_labels = val_logs['predict_labels'][['epoch_{}'.format(epoch)]]\n",
    "    predicted_proba = val_logs['predict_probs'][['epoch_{}'.format(epoch)]]\n",
    "    targets = val_logs['predict_probs'][['targets']]\n",
    "    attribute_col = val_logs['attributes'][[attribute]]\n",
    "\n",
    "    df = pd.concat([attribute_col, predicted_labels, predicted_proba, targets], axis=1)\n",
    "    df.columns = [attribute, 'predictions', 'predicted_outputs', 'targets']\n",
    "    plot_distributions(df, attribute)\n",
    "    \n",
    "    group_df = df.groupby(attribute)\n",
    "    groups = group_df.groups\n",
    "    \n",
    "    for key in groups.keys():\n",
    "        display(Markdown('### {}'.format(key)))\n",
    "        display(Markdown('---'))\n",
    "\n",
    "        sub_df = df.loc[groups[key]]\n",
    "\n",
    "        # sub_df.predicted_outputs: need to convert Series(list) into np.ndarray\n",
    "        metrics, display_metrics = analyzer.compute_metrics(\n",
    "            sub_df.predicted_outputs.apply(pd.Series).values,\n",
    "            sub_df.targets.values,\n",
    "            threshold=threshold,\n",
    "            recall=recall,\n",
    "        )\n",
    "        \n",
    "        metrics_df = pd.DataFrame(metrics.items(), columns=['Metric', 'Value'])\n",
    "        metrics_df.Metric = metrics_df.Metric.apply(lambda x: x.upper())\n",
    "        \n",
    "        plot_selector = define_dropdown(display_metrics.keys(), desc='Select plot')\n",
    "        metrics_to_show = metrics_df.set_index('Metric')\n",
    "        \n",
    "        output = Output()\n",
    "        display_plots = VBox([plot_selector, output])\n",
    "        display(metrics_to_show.T, display_plots)\n",
    "        \n",
    "        plot_selector.observe(on_select_plot_wrapper(display_metrics, output))"
   ]
  },
  {
   "cell_type": "code",
   "execution_count": null,
   "metadata": {},
   "outputs": [],
   "source": [
    "attribute_summary(attribute='enroll_fever', epoch='99')"
   ]
  },
  {
   "cell_type": "code",
   "execution_count": null,
   "metadata": {},
   "outputs": [],
   "source": []
  },
  {
   "cell_type": "code",
   "execution_count": null,
   "metadata": {},
   "outputs": [],
   "source": []
  }
 ],
 "metadata": {
  "kernelspec": {
   "display_name": "Python 3",
   "language": "python",
   "name": "python3"
  },
  "language_info": {
   "codemirror_mode": {
    "name": "ipython",
    "version": 3
   },
   "file_extension": ".py",
   "mimetype": "text/x-python",
   "name": "python",
   "nbconvert_exporter": "python",
   "pygments_lexer": "ipython3",
   "version": "3.6.9"
  }
 },
 "nbformat": 4,
 "nbformat_minor": 4
}
