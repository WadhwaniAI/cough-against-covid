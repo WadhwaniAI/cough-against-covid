{
 "cells": [
  {
   "cell_type": "code",
   "execution_count": null,
   "metadata": {},
   "outputs": [],
   "source": [
    "%load_ext autoreload\n",
    "%autoreload 2"
   ]
  },
  {
   "cell_type": "code",
   "execution_count": null,
   "metadata": {},
   "outputs": [],
   "source": [
    "import os\n",
    "from os.path import dirname, join, exists, splitext, isdir\n",
    "from copy import deepcopy\n",
    "from typing import List\n",
    "import multiprocessing as mp\n",
    "from glob import glob\n",
    "import torch\n",
    "import numpy as np\n",
    "import pandas as pd\n",
    "from scipy.special import softmax\n",
    "import matplotlib.pyplot as plt\n",
    "import matplotlib.cm as cm\n",
    "from matplotlib.colors import ListedColormap\n",
    "import seaborn as sns\n",
    "from tqdm import tqdm\n",
    "from IPython.display import display, HTML, clear_output, Markdown, Audio\n",
    "from ipywidgets import HBox, Label, VBox, Dropdown, Layout, Output, Image\n",
    "\n",
    "from cac.config import Config, DATA_ROOT\n",
    "from cac.utils.logger import set_logger, color\n",
    "from cac.utils.metrics import PrecisionAtRecall\n",
    "from cac.data.dataloader import get_dataloader\n",
    "from cac.analysis.classification import ClassificationAnalyzer"
   ]
  },
  {
   "cell_type": "code",
   "execution_count": null,
   "metadata": {},
   "outputs": [],
   "source": [
    "import warnings\n",
    "warnings.simplefilter('ignore')"
   ]
  },
  {
   "cell_type": "markdown",
   "metadata": {},
   "source": [
    "### Define inputs"
   ]
  },
  {
   "cell_type": "code",
   "execution_count": null,
   "metadata": {},
   "outputs": [],
   "source": [
    "VERSION = 'experiments/covid-detection/v9_4_cough_adam_1e-4.yml'\n",
    "USER = 'piyush'\n",
    "BEST_EPOCH = 99"
   ]
  },
  {
   "cell_type": "code",
   "execution_count": null,
   "metadata": {},
   "outputs": [],
   "source": [
    "BATCH_SIZE = 10\n",
    "NUM_WORKERS = 10"
   ]
  },
  {
   "cell_type": "markdown",
   "metadata": {},
   "source": [
    "### Define config"
   ]
  },
  {
   "cell_type": "code",
   "execution_count": null,
   "metadata": {},
   "outputs": [],
   "source": [
    "config = Config(VERSION, USER)"
   ]
  },
  {
   "cell_type": "markdown",
   "metadata": {},
   "source": [
    "### Load data"
   ]
  },
  {
   "cell_type": "code",
   "execution_count": null,
   "metadata": {},
   "outputs": [],
   "source": [
    "val_dataloader, _ = get_dataloader(\n",
    "    config.data, 'val',\n",
    "    BATCH_SIZE,\n",
    "    num_workers=NUM_WORKERS,\n",
    "    shuffle=False,\n",
    "    drop_last=False\n",
    ")"
   ]
  },
  {
   "cell_type": "markdown",
   "metadata": {},
   "source": [
    "### Initialize the analyzer module"
   ]
  },
  {
   "cell_type": "code",
   "execution_count": null,
   "metadata": {},
   "outputs": [],
   "source": [
    "analyzer = ClassificationAnalyzer(config, checkpoint=BEST_EPOCH, load_best=False, debug=True)"
   ]
  },
  {
   "cell_type": "markdown",
   "metadata": {},
   "source": [
    "### Load epochwise logs"
   ]
  },
  {
   "cell_type": "code",
   "execution_count": null,
   "metadata": {},
   "outputs": [],
   "source": [
    "logs = analyzer.load_epochwise_logs(mode='val', get_metrics=False)"
   ]
  },
  {
   "cell_type": "code",
   "execution_count": null,
   "metadata": {},
   "outputs": [],
   "source": [
    "logs.keys()"
   ]
  },
  {
   "cell_type": "markdown",
   "metadata": {},
   "source": [
    "#### Instance loss"
   ]
  },
  {
   "cell_type": "code",
   "execution_count": null,
   "metadata": {},
   "outputs": [],
   "source": [
    "instance_losses = logs['instance_loss']"
   ]
  },
  {
   "cell_type": "code",
   "execution_count": null,
   "metadata": {},
   "outputs": [],
   "source": [
    "batch_losses = logs['batch_loss']"
   ]
  },
  {
   "cell_type": "markdown",
   "metadata": {},
   "source": [
    "#### Predictions: Labels"
   ]
  },
  {
   "cell_type": "code",
   "execution_count": null,
   "metadata": {},
   "outputs": [],
   "source": [
    "predict_labels = logs['predict_labels']"
   ]
  },
  {
   "cell_type": "markdown",
   "metadata": {},
   "source": [
    "#### Predictions: Probabilities"
   ]
  },
  {
   "cell_type": "code",
   "execution_count": null,
   "metadata": {},
   "outputs": [],
   "source": [
    "predict_probs = logs['predict_probs']"
   ]
  },
  {
   "cell_type": "markdown",
   "metadata": {},
   "source": [
    "### Estimate predict_labels if it doesn't exist"
   ]
  },
  {
   "cell_type": "code",
   "execution_count": null,
   "metadata": {},
   "outputs": [],
   "source": [
    "recall = 0.9\n",
    "\n",
    "if len(predict_labels.columns) == 3:\n",
    "    targets = torch.tensor(predict_labels['targets'])\n",
    "    epoch_columns = [col for col in predict_probs.columns if 'epoch' in col]\n",
    "    for epoch_column in tqdm(epoch_columns):\n",
    "        predict_proba = torch.from_numpy(np.stack(predict_probs[epoch_column].values))\n",
    "        # only for binary\n",
    "        predict_proba = predict_proba[:, 1]\n",
    "        _, _, threshold = PrecisionAtRecall(recall=recall)(targets, predict_proba)\n",
    "        predict_labels[epoch_column] = predict_proba.ge(threshold).int().tolist()"
   ]
  },
  {
   "cell_type": "markdown",
   "metadata": {},
   "source": [
    "## Model Prediction Grid"
   ]
  },
  {
   "cell_type": "code",
   "execution_count": null,
   "metadata": {},
   "outputs": [],
   "source": [
    "epochs = [x for x in predict_probs.columns if 'epoch' in x]"
   ]
  },
  {
   "cell_type": "code",
   "execution_count": null,
   "metadata": {},
   "outputs": [],
   "source": [
    "COLOR_CODES = {\n",
    "    0: 'red',\n",
    "    1: 'blue'\n",
    "}"
   ]
  },
  {
   "cell_type": "code",
   "execution_count": null,
   "metadata": {},
   "outputs": [],
   "source": [
    "epoch_predictions = predict_labels[epochs]"
   ]
  },
  {
   "cell_type": "code",
   "execution_count": null,
   "metadata": {},
   "outputs": [],
   "source": [
    "targets = predict_labels['targets']"
   ]
  },
  {
   "cell_type": "code",
   "execution_count": null,
   "metadata": {},
   "outputs": [],
   "source": [
    "prediction_correctness = predict_labels[epochs].copy()\n",
    "\n",
    "for epoch in epochs:\n",
    "    prediction_correctness[epoch] = 1 * (predict_labels[epoch] == targets)"
   ]
  },
  {
   "cell_type": "code",
   "execution_count": null,
   "metadata": {},
   "outputs": [],
   "source": [
    "fig, ax = plt.subplots(figsize=(25,15))\n",
    "\n",
    "for row_idx in prediction_correctness.index:\n",
    "    row = prediction_correctness.loc[row_idx]\n",
    "    right = [int(x.split('_')[-1]) for x in list(row[row == 1].index)]\n",
    "    yarray = [row_idx for _ in range(len(right))]\n",
    "    plt.scatter(right, yarray, c='blue', s=0.4)\n",
    "\n",
    "    wrong = [int(x.split('_')[-1]) for x in list(row[row == 0].index)]\n",
    "    yarray = [row_idx for _ in range(len(wrong))]\n",
    "    plt.scatter(wrong, yarray, c='red', s=0.4)\n",
    "\n",
    "plt.title('Model prediction grid: $(t, x): (t, P(x | t))$')\n",
    "plt.xlabel('Epochs')\n",
    "plt.ylabel('Samples')\n",
    "ax.set_xlim([0, prediction_correctness.shape[1]])\n",
    "ax.set_ylim([0, prediction_correctness.shape[0]])\n",
    "plt.grid()\n",
    "plt.show()"
   ]
  }
 ],
 "metadata": {
  "kernelspec": {
   "display_name": "Python 3",
   "language": "python",
   "name": "python3"
  },
  "language_info": {
   "codemirror_mode": {
    "name": "ipython",
    "version": 3
   },
   "file_extension": ".py",
   "mimetype": "text/x-python",
   "name": "python",
   "nbconvert_exporter": "python",
   "pygments_lexer": "ipython3",
   "version": "3.6.9"
  }
 },
 "nbformat": 4,
 "nbformat_minor": 4
}
