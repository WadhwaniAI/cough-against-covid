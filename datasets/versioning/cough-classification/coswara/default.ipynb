{
 "cells": [
  {
   "cell_type": "markdown",
   "metadata": {},
   "source": [
    "### Random split across patients"
   ]
  },
  {
   "cell_type": "code",
   "execution_count": null,
   "metadata": {},
   "outputs": [],
   "source": [
    "%load_ext autoreload\n",
    "%autoreload 2"
   ]
  },
  {
   "cell_type": "code",
   "execution_count": null,
   "metadata": {},
   "outputs": [],
   "source": [
    "from os import makedirs\n",
    "from os.path import join, dirname\n",
    "from collections import defaultdict\n",
    "from random import shuffle\n",
    "import pandas as pd\n",
    "import numpy as np\n",
    "from tqdm import tqdm\n",
    "from sklearn.model_selection import train_test_split\n",
    "import matplotlib.pyplot as plt\n",
    "from librosa.core import get_duration\n",
    "\n",
    "from cac.utils.io import save_yml\n",
    "from cac.utils.pandas import apply_filters"
   ]
  },
  {
   "cell_type": "code",
   "execution_count": null,
   "metadata": {},
   "outputs": [],
   "source": [
    "data_root = '/data/coswara-15-03-21/processed/'"
   ]
  },
  {
   "cell_type": "code",
   "execution_count": null,
   "metadata": {},
   "outputs": [],
   "source": [
    "annotation = pd.read_csv(join(data_root, 'annotation.csv'))\n",
    "attributes = pd.read_csv(join(data_root, 'attributes.csv'))"
   ]
  },
  {
   "cell_type": "code",
   "execution_count": null,
   "metadata": {},
   "outputs": [],
   "source": [
    "annotation.shape, attributes.shape"
   ]
  },
  {
   "cell_type": "code",
   "execution_count": null,
   "metadata": {},
   "outputs": [],
   "source": [
    "len(attributes.id.unique())"
   ]
  },
  {
   "cell_type": "markdown",
   "metadata": {},
   "source": [
    "#### Extract patients that have a COVID test result and rows with cough sounds"
   ]
  },
  {
   "cell_type": "code",
   "execution_count": null,
   "metadata": {},
   "outputs": [],
   "source": [
    "attributes['covid_status'].value_counts()"
   ]
  },
  {
   "cell_type": "code",
   "execution_count": null,
   "metadata": {},
   "outputs": [],
   "source": [
    "attributes['label'].value_counts()"
   ]
  },
  {
   "cell_type": "code",
   "execution_count": null,
   "metadata": {},
   "outputs": [],
   "source": [
    "# attributes['label'] = attributes['label'].apply(lambda x: eval(x))"
   ]
  },
  {
   "cell_type": "code",
   "execution_count": null,
   "metadata": {},
   "outputs": [],
   "source": [
    "attributes['covid_label'].value_counts()"
   ]
  },
  {
   "cell_type": "code",
   "execution_count": null,
   "metadata": {},
   "outputs": [],
   "source": [
    "# only select those rows that are cough and either COVID positive or negative\n",
    "selected_attribute_rows = apply_filters(\n",
    "    attributes,\n",
    "    filters={\n",
    "        'label': [\"['cough-shallow', 'positive']\", \"['cough-heavy', 'positive']\", \"['cough-shallow', 'negative']\", \"['cough-heavy', 'negative']\"]\n",
    "    }\n",
    ")"
   ]
  },
  {
   "cell_type": "code",
   "execution_count": null,
   "metadata": {},
   "outputs": [],
   "source": [
    "selected_attribute_rows.shape"
   ]
  },
  {
   "cell_type": "code",
   "execution_count": null,
   "metadata": {},
   "outputs": [],
   "source": [
    "selected_annotation_rows = annotation.loc[selected_attribute_rows.index]"
   ]
  },
  {
   "cell_type": "code",
   "execution_count": null,
   "metadata": {},
   "outputs": [],
   "source": [
    "selected_annotation_rows"
   ]
  },
  {
   "cell_type": "markdown",
   "metadata": {},
   "source": [
    "#### Creating a random split"
   ]
  },
  {
   "cell_type": "code",
   "execution_count": null,
   "metadata": {},
   "outputs": [],
   "source": [
    "selected_ids = list(selected_attribute_rows.id.unique())"
   ]
  },
  {
   "cell_type": "code",
   "execution_count": null,
   "metadata": {},
   "outputs": [],
   "source": [
    "dev_ids, test_ids = train_test_split(selected_ids, test_size=0.15, random_state=0)"
   ]
  },
  {
   "cell_type": "code",
   "execution_count": null,
   "metadata": {},
   "outputs": [],
   "source": [
    "train_ids, val_ids = train_test_split(dev_ids, test_size=0.1875, random_state=0)"
   ]
  },
  {
   "cell_type": "code",
   "execution_count": null,
   "metadata": {},
   "outputs": [],
   "source": [
    "len(train_ids), len(val_ids), len(test_ids), len(selected_ids)"
   ]
  },
  {
   "cell_type": "code",
   "execution_count": null,
   "metadata": {},
   "outputs": [],
   "source": [
    "selected_attribute_rows['set'] = None\n",
    "selected_attribute_rows.loc[selected_attribute_rows.id.isin(train_ids), 'set'] = 'train'\n",
    "selected_attribute_rows.loc[selected_attribute_rows.id.isin(val_ids), 'set'] = 'val'\n",
    "selected_attribute_rows.loc[selected_attribute_rows.id.isin(test_ids), 'set'] = 'test'"
   ]
  },
  {
   "cell_type": "code",
   "execution_count": null,
   "metadata": {},
   "outputs": [],
   "source": [
    "from cac.utils.plot import plot_categorical_attribute"
   ]
  },
  {
   "cell_type": "code",
   "execution_count": null,
   "metadata": {},
   "outputs": [],
   "source": [
    "plot_categorical_attribute(selected_attribute_rows, attribute='set', hue='covid_label', title='Dataset; Coswara | Version: default')"
   ]
  },
  {
   "cell_type": "markdown",
   "metadata": {},
   "source": [
    "#### Create and save the data version"
   ]
  },
  {
   "cell_type": "code",
   "execution_count": null,
   "metadata": {},
   "outputs": [],
   "source": [
    "files = [join(data_root, 'audio', '{}-{}-{}'.format(date, _id, file)) \\\n",
    "         for date, _id, file in zip(selected_annotation_rows['date'], selected_annotation_rows['id'], selected_annotation_rows['file'])]\n",
    "ids = list(selected_annotation_rows['id'])"
   ]
  },
  {
   "cell_type": "code",
   "execution_count": null,
   "metadata": {},
   "outputs": [],
   "source": [
    "labels = [\n",
    "    {'classification': ['covid']} if 'positive' in eval(label) else {'classification': []} for label in selected_annotation_rows['classification']\n",
    "]"
   ]
  },
  {
   "cell_type": "code",
   "execution_count": null,
   "metadata": {},
   "outputs": [],
   "source": [
    "starts = [0.0 for _ in files]\n",
    "ends = [get_duration(filename=x) for x in tqdm(files)]"
   ]
  },
  {
   "cell_type": "code",
   "execution_count": null,
   "metadata": {},
   "outputs": [],
   "source": [
    "df = pd.DataFrame({'file': files, 'label': labels, 'start': starts, 'end': ends, 'id': ids})"
   ]
  },
  {
   "cell_type": "code",
   "execution_count": null,
   "metadata": {},
   "outputs": [],
   "source": [
    "df_all = apply_filters(df, {'id': selected_ids}, reset_index=True)\n",
    "df_train = apply_filters(df, {'id': train_ids}, reset_index=True)\n",
    "df_val = apply_filters(df, {'id': val_ids}, reset_index=True)\n",
    "df_test = apply_filters(df, {'id': test_ids}, reset_index=True)"
   ]
  },
  {
   "cell_type": "code",
   "execution_count": null,
   "metadata": {},
   "outputs": [],
   "source": [
    "df_all.shape, df_train.shape, df_val.shape, df_test.shape"
   ]
  },
  {
   "cell_type": "code",
   "execution_count": null,
   "metadata": {},
   "outputs": [],
   "source": [
    "version = 'default'\n",
    "save_path = join(data_root, 'versions', '{}.yml'.format(version))"
   ]
  },
  {
   "cell_type": "code",
   "execution_count": null,
   "metadata": {},
   "outputs": [],
   "source": [
    "description = dict()\n",
    "description['description'] = 'cough vs non-cough with random split'\n",
    "\n",
    "for name, _df in zip(['all', 'train', 'val', 'test'], [df, df_train, df_val, df_test]):\n",
    "    description[name] = {\n",
    "        'file': _df['file'].values.tolist(),\n",
    "        'label': _df['label'].values.tolist(),\n",
    "        'start': _df['start'].values.tolist(),\n",
    "        'end': _df['end'].values.tolist(),\n",
    "    }"
   ]
  },
  {
   "cell_type": "code",
   "execution_count": null,
   "metadata": {},
   "outputs": [],
   "source": [
    "# save description\n",
    "makedirs(dirname(save_path), exist_ok=True)\n",
    "save_yml(description, save_path)"
   ]
  },
  {
   "cell_type": "code",
   "execution_count": null,
   "metadata": {},
   "outputs": [],
   "source": []
  }
 ],
 "metadata": {
  "kernelspec": {
   "display_name": "Python 3",
   "language": "python",
   "name": "python3"
  },
  "language_info": {
   "codemirror_mode": {
    "name": "ipython",
    "version": 3
   },
   "file_extension": ".py",
   "mimetype": "text/x-python",
   "name": "python",
   "nbconvert_exporter": "python",
   "pygments_lexer": "ipython3",
   "version": "3.6.9"
  }
 },
 "nbformat": 4,
 "nbformat_minor": 4
}
