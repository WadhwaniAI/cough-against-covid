{
 "cells": [
  {
   "cell_type": "code",
   "execution_count": null,
   "metadata": {},
   "outputs": [],
   "source": [
    "%load_ext autoreload\n",
    "%autoreload 2"
   ]
  },
  {
   "cell_type": "code",
   "execution_count": null,
   "metadata": {},
   "outputs": [],
   "source": [
    "import os\n",
    "from os.path import join\n",
    "import numpy as np\n",
    "import pandas as pd\n",
    "from tqdm import tqdm\n",
    "import matplotlib.pyplot as plt\n",
    "import seaborn as sns\n",
    "import matplotlib.colors as mc\n",
    "from matplotlib import rc\n",
    "import matplotlib.cm as cm\n",
    "import colorsys\n",
    "\n",
    "from cac.analysis.utils import get_audio_type, get_unique_id\n",
    "from cac.utils.audio import get_duration\n",
    "from cac.utils.io import read_yml"
   ]
  },
  {
   "cell_type": "code",
   "execution_count": null,
   "metadata": {},
   "outputs": [],
   "source": [
    "rc('text', usetex=True)\n",
    "rc(\"font\", family=\"serif\", serif='Computer Modern Roman')"
   ]
  },
  {
   "cell_type": "code",
   "execution_count": null,
   "metadata": {},
   "outputs": [],
   "source": [
    "FIGURES_SAVE_DIR = '/all-output/paper/iclrw/figures'\n",
    "os.makedirs(FIGURES_SAVE_DIR, exist_ok=True)"
   ]
  },
  {
   "cell_type": "markdown",
   "metadata": {},
   "source": [
    "#### Helper functions"
   ]
  },
  {
   "cell_type": "code",
   "execution_count": null,
   "metadata": {},
   "outputs": [],
   "source": [
    "def apply_filters(df, filters):\n",
    "    X = df.copy()\n",
    "    \n",
    "    for key, value in filters.items():\n",
    "        if isinstance(value, (list, np.ndarray)):\n",
    "            indices = X[key].isin(value)\n",
    "        else:\n",
    "            indices = X[key] == value\n",
    "        X = X[indices].copy()\n",
    "        X = X.reset_index(drop=True)\n",
    "\n",
    "    return X"
   ]
  },
  {
   "cell_type": "code",
   "execution_count": null,
   "metadata": {},
   "outputs": [],
   "source": [
    "def custom_eval(x):\n",
    "    if isinstance(x, str):\n",
    "        x = x.replace('[', '')\n",
    "        x = x.replace(']', '')\n",
    "\n",
    "        x = x.split(',')\n",
    "        x = [y.rstrip().lstrip() for y in x]\n",
    "        return x\n",
    "    else:\n",
    "        return ['NA']"
   ]
  },
  {
   "cell_type": "code",
   "execution_count": null,
   "metadata": {},
   "outputs": [],
   "source": [
    "def split_column_into_columns(df, column):\n",
    "    df[column] = df[column].apply(custom_eval)\n",
    "\n",
    "    unique_values = []\n",
    "\n",
    "    for i in tqdm(range(len(df))):\n",
    "        index = df.index[i]\n",
    "\n",
    "        list_of_values = df.loc[index, column]\n",
    "\n",
    "        for x in list_of_values:\n",
    "            if (x != 'NA') and (x != ''):\n",
    "                attributes.at[index, x] = 'Yes'\n",
    "                if x not in unique_values:\n",
    "                    unique_values.append(x)\n",
    "\n",
    "    df[unique_values] = df[unique_values].fillna('No')\n",
    "    df[f'any_{column}'] = df[unique_values].apply(lambda x: 'Yes' if 'Yes' in list(x) else 'No', axis=1)\n",
    "    return df"
   ]
  },
  {
   "cell_type": "markdown",
   "metadata": {},
   "source": [
    "#### Load attributes"
   ]
  },
  {
   "cell_type": "code",
   "execution_count": null,
   "metadata": {},
   "outputs": [],
   "source": [
    "attributes = pd.read_csv('/data/wiai-facility/processed/attributes.csv')"
   ]
  },
  {
   "cell_type": "code",
   "execution_count": null,
   "metadata": {},
   "outputs": [],
   "source": [
    "attributes = split_column_into_columns(attributes, 'enroll_comorbidities')"
   ]
  },
  {
   "cell_type": "code",
   "execution_count": null,
   "metadata": {},
   "outputs": [],
   "source": [
    "attributes = split_column_into_columns(attributes, 'enroll_habits')"
   ]
  },
  {
   "cell_type": "code",
   "execution_count": null,
   "metadata": {},
   "outputs": [],
   "source": [
    "attributes.shape"
   ]
  },
  {
   "cell_type": "markdown",
   "metadata": {},
   "source": [
    "#### Load annotations"
   ]
  },
  {
   "cell_type": "code",
   "execution_count": null,
   "metadata": {},
   "outputs": [],
   "source": [
    "annotations = pd.read_csv('/data/wiai-facility/processed/annotation.csv')"
   ]
  },
  {
   "cell_type": "code",
   "execution_count": null,
   "metadata": {},
   "outputs": [],
   "source": [
    "annotations['patient_id'] = annotations['users'].apply(get_unique_id)\n",
    "annotations['audio_type'] = annotations['file'].apply(get_audio_type)"
   ]
  },
  {
   "cell_type": "code",
   "execution_count": null,
   "metadata": {},
   "outputs": [],
   "source": [
    "annotations.shape"
   ]
  },
  {
   "cell_type": "markdown",
   "metadata": {},
   "source": [
    "#### Load current set"
   ]
  },
  {
   "cell_type": "code",
   "execution_count": null,
   "metadata": {},
   "outputs": [],
   "source": [
    "current_data_config = read_yml('/data/wiai-facility/processed/versions/v9.4.yml')"
   ]
  },
  {
   "cell_type": "code",
   "execution_count": null,
   "metadata": {},
   "outputs": [],
   "source": [
    "df_train = pd.DataFrame(current_data_config['train'])\n",
    "df_train['set'] = 'train'\n",
    "df_val = pd.DataFrame(current_data_config['val'])\n",
    "df_val['set'] = 'val'\n",
    "df_test = pd.DataFrame(current_data_config['test'])\n",
    "df_test['set'] = 'test'\n",
    "\n",
    "current_set = pd.concat([df_train, df_val, df_test],axis=0)\n",
    "current_set = current_set.reset_index()\n",
    "\n",
    "current_set['patient_id'] = current_set['file'].apply(get_unique_id)\n",
    "current_set['audio_type'] = current_set['file'].apply(get_audio_type)"
   ]
  },
  {
   "cell_type": "code",
   "execution_count": null,
   "metadata": {},
   "outputs": [],
   "source": [
    "len(current_set['file'].unique())"
   ]
  },
  {
   "cell_type": "code",
   "execution_count": null,
   "metadata": {},
   "outputs": [],
   "source": [
    "current_set.shape, current_set.shape[0] // 3"
   ]
  },
  {
   "cell_type": "code",
   "execution_count": null,
   "metadata": {},
   "outputs": [],
   "source": [
    "current_set = pd.merge(current_set, attributes, on='patient_id')"
   ]
  },
  {
   "cell_type": "code",
   "execution_count": null,
   "metadata": {},
   "outputs": [],
   "source": [
    "current_set.shape"
   ]
  },
  {
   "cell_type": "code",
   "execution_count": null,
   "metadata": {},
   "outputs": [],
   "source": [
    "current_set = current_set.drop_duplicates(subset=['patient_id'])"
   ]
  },
  {
   "cell_type": "code",
   "execution_count": null,
   "metadata": {},
   "outputs": [],
   "source": [
    "current_set.shape"
   ]
  },
  {
   "cell_type": "code",
   "execution_count": null,
   "metadata": {},
   "outputs": [],
   "source": [
    "current_set['Age (years)'] = pd.cut(current_set.enroll_patient_age, bins=[0, 19, 29, 39, 49, 59, 69, 79, 89, 100])"
   ]
  },
  {
   "cell_type": "code",
   "execution_count": null,
   "metadata": {},
   "outputs": [],
   "source": [
    "current_set['Gender'] = current_set['enroll_patient_gender']"
   ]
  },
  {
   "cell_type": "code",
   "execution_count": null,
   "metadata": {},
   "outputs": [],
   "source": [
    "current_set['set'].value_counts()"
   ]
  },
  {
   "cell_type": "code",
   "execution_count": null,
   "metadata": {},
   "outputs": [],
   "source": [
    "current_set['label'].astype(str).value_counts() * 3"
   ]
  },
  {
   "cell_type": "code",
   "execution_count": null,
   "metadata": {},
   "outputs": [],
   "source": [
    "apply_filters(current_set, {'set': 'test'})['enroll_facility'].value_counts()"
   ]
  },
  {
   "cell_type": "code",
   "execution_count": null,
   "metadata": {},
   "outputs": [],
   "source": [
    "apply_filters(current_set, {'set': 'test'})['testresult_end_time'].min()"
   ]
  },
  {
   "cell_type": "code",
   "execution_count": null,
   "metadata": {},
   "outputs": [],
   "source": [
    "# taken from V9.4\n",
    "cutoff_date = '2020-10-09T19:34:01.272GMT+05:30'"
   ]
  },
  {
   "cell_type": "markdown",
   "metadata": {},
   "source": [
    "### Data splitting strategy"
   ]
  },
  {
   "cell_type": "code",
   "execution_count": null,
   "metadata": {},
   "outputs": [],
   "source": [
    "from datetime import datetime as dt"
   ]
  },
  {
   "cell_type": "code",
   "execution_count": null,
   "metadata": {},
   "outputs": [],
   "source": [
    "current_set['week_number'] = current_set['testresult_end_time'].apply(\n",
    "    lambda x: dt.strptime(x.split('T')[0], '%Y-%m-%d').isocalendar()[1]\n",
    ")"
   ]
  },
  {
   "cell_type": "code",
   "execution_count": null,
   "metadata": {},
   "outputs": [],
   "source": [
    "current_set['facility_code'] = current_set['enroll_facility'].apply(lambda x: x if x not in ['NMCH', 'KIMS, Satara', 'DCH Baleshwar'] else f'Z-{x}')"
   ]
  },
  {
   "cell_type": "code",
   "execution_count": null,
   "metadata": {},
   "outputs": [],
   "source": [
    "current_set['facility_code'].value_counts()"
   ]
  },
  {
   "cell_type": "code",
   "execution_count": null,
   "metadata": {},
   "outputs": [],
   "source": [
    "cutoff_week_number = apply_filters(current_set, {'testresult_end_time': cutoff_date})['week_number'][0] - 0.5 - current_set['week_number'].min()"
   ]
  },
  {
   "cell_type": "code",
   "execution_count": null,
   "metadata": {},
   "outputs": [],
   "source": [
    "current_set['facility_code'] = current_set['facility_code'].astype('category').cat.codes"
   ]
  },
  {
   "cell_type": "code",
   "execution_count": null,
   "metadata": {},
   "outputs": [],
   "source": [
    "current_set['week_number_recounted'] = current_set['week_number'] - current_set['week_number'].min()\n",
    "all_weeks = list(sorted(current_set['week_number_recounted'].unique()))\n",
    "all_sites = list(sorted(current_set['facility_code'].unique()))\n",
    "\n",
    "df = pd.DataFrame(0, index=all_sites, columns=all_weeks)\n",
    "\n",
    "weekwise_groups = current_set.groupby('week_number_recounted').groups\n",
    "for week_number, indices in weekwise_groups.items():\n",
    "    for index in indices:\n",
    "        row = current_set.loc[index]\n",
    "        site = row['facility_code']\n",
    "        df.at[site, week_number] += 1"
   ]
  },
  {
   "cell_type": "code",
   "execution_count": null,
   "metadata": {},
   "outputs": [],
   "source": [
    "TEST_SEPERATION_INDEX_FOR_SITE = 23.5\n",
    "TEST_SEPERATION_INDEX_FOR_TIME = cutoff_week_number"
   ]
  },
  {
   "cell_type": "code",
   "execution_count": null,
   "metadata": {},
   "outputs": [],
   "source": [
    "fig, ax = plt.subplots(1, 1, figsize=(13, 7))\n",
    "\n",
    "ax.grid()\n",
    "# ax.set_title(\"Data Slicing Grid\", fontsize=35)\n",
    "ax.set_xlabel(\"Time (No. weeks from start of data collection)\", fontsize=27)\n",
    "ax.set_ylabel(\"Collection site index\", fontsize=27)\n",
    "ax.set_xticks(df.columns)\n",
    "ax.set_yticks(df.index)\n",
    "\n",
    "for week in df.columns:\n",
    "    for site in df.index:\n",
    "        count = df.at[site, week]\n",
    "        ax.scatter(week, site, s= (count * 1.8 + 0), c='red')\n",
    "\n",
    "# ax.axvline(x=TEST_SEPERATION_INDEX_FOR_TIME, label=\"Time-based\", c='blue')\n",
    "# ax.axhline(y=TEST_SEPERATION_INDEX_FOR_SITE, label=\"Site-based\", c='darkgreen')\n",
    "ax.axvline(x=TEST_SEPERATION_INDEX_FOR_TIME, c='blue')\n",
    "ax.axhline(y=TEST_SEPERATION_INDEX_FOR_SITE, c='darkgreen')\n",
    "\n",
    "ax.margins(x=0, y=0)\n",
    "ax.axvspan(TEST_SEPERATION_INDEX_FOR_TIME, 30, alpha=0.1, color='blue', label='Time-based')\n",
    "ax.axhspan(TEST_SEPERATION_INDEX_FOR_SITE, 27, alpha=0.1, color='green', label='Site-based')\n",
    "\n",
    "plt.legend(loc='center left', fontsize=27, bbox_to_anchor=(0.0,0.35))\n",
    "\n",
    "path = join(FIGURES_SAVE_DIR, 'data_slicing_grid_v3.pdf')\n",
    "plt.savefig(path, bbox_inches='tight')\n",
    "plt.show()"
   ]
  },
  {
   "cell_type": "markdown",
   "metadata": {},
   "source": [
    "### Age and gender distribution"
   ]
  },
  {
   "cell_type": "code",
   "execution_count": null,
   "metadata": {},
   "outputs": [],
   "source": [
    "def lighten_color(color, amount=0.5):\n",
    "    \"\"\"\n",
    "    Lightens the given color by multiplying (1-luminosity) by the given amount.\n",
    "    Input can be matplotlib color string, hex string, or RGB tuple.\n",
    "\n",
    "    Examples:\n",
    "    >> lighten_color('g', 0.3)\n",
    "    >> lighten_color('#F034A3', 0.6)\n",
    "    >> lighten_color((.3,.55,.1), 0.5)\n",
    "    \"\"\"\n",
    "    try:\n",
    "        c = mc.cnames[color]\n",
    "    except:\n",
    "        c = color\n",
    "    c = colorsys.rgb_to_hls(*mc.to_rgb(c))\n",
    "    return colorsys.hls_to_rgb(c[0], 1 - amount * (1 - c[1]), c[2])"
   ]
  },
  {
   "cell_type": "code",
   "execution_count": null,
   "metadata": {},
   "outputs": [],
   "source": [
    "def plot_real_valued_distribution(df, column, title, legend=False, show_mean=True, show_xlabel=True, show_ylabel=True,\n",
    "                                  loc='upper right', size=(20, 6), kde=False,\n",
    "                                  ceil=100, save=False, name='sample', ylabel=None, xlabel=None):\n",
    "\n",
    "    fig, ax = plt.subplots(1, 1, figsize=size)\n",
    "    \n",
    "    ax.grid()\n",
    "    df.at[df[column] > ceil, column] = ceil\n",
    "\n",
    "    g = sns.distplot(df[column], color=lighten_color('#FE7465', 1.0), ax=ax, kde=kde, hist_kws=dict(edgecolor=\"#FE7465\", linewidth=1))\n",
    "    ax.set_title(title, fontsize=25)\n",
    "    \n",
    "    if show_mean:\n",
    "        mean = np.round(df[column].mean(), 2)\n",
    "        ax.axvline(x=mean, label=f'Mean: {mean} sec', linestyle='--', color='black', linewidth=1.5)\n",
    "\n",
    "    ylabel = ylabel if ylabel is not None else g.get_ylabel()\n",
    "    ylabel = '' if not show_ylabel else ylabel\n",
    "    ax.set_ylabel(ylabel, fontsize=22)\n",
    "    \n",
    "    xlabel = xlabel if xlabel is not None else g.get_xlabel()\n",
    "    xlabel = '' if not show_xlabel else xlabel\n",
    "    ax.set_xlabel(xlabel, fontsize=22)\n",
    "\n",
    "    ax.tick_params(axis=\"x\", labelsize=18)\n",
    "    ax.tick_params(axis=\"y\", labelsize=18)\n",
    "\n",
    "    if legend:\n",
    "        plt.legend(loc=loc, fontsize=22)\n",
    "    \n",
    "    if save:\n",
    "        path = join(FIGURES_SAVE_DIR, f'{name}.pdf')\n",
    "        plt.savefig(path, bbox_inches='tight')\n",
    "\n",
    "    plt.show()"
   ]
  },
  {
   "cell_type": "code",
   "execution_count": null,
   "metadata": {},
   "outputs": [],
   "source": [
    "def show_counts(graph, df, column=None, use_list=False, list_of_values=None):\n",
    "    i = 0\n",
    "    for p in graph.patches:\n",
    "        height = p.get_height()\n",
    "        label = g.get_xticklabels()[i].get_text()\n",
    "        if not use_list:\n",
    "            count = df[column].value_counts()[label]\n",
    "        else:\n",
    "            assert list_of_values is not None\n",
    "            vals, counts = np.unique(list_of_values, return_counts=True)\n",
    "            count = dict(zip(vals, counts))[label]\n",
    "        graph.text(p.get_x()+p.get_width()/2., height + 2.0, count, ha=\"center\")\n",
    "        i += 1\n",
    "\n",
    "\n",
    "def change_width(ax, new_value, num_hue=2, num_classes=2):\n",
    "\n",
    "    for i, patch in enumerate(ax.patches):\n",
    "        current_width = patch.get_width()\n",
    "        diff = current_width - new_value\n",
    "\n",
    "        # we change the bar width\n",
    "        patch.set_width(new_value)\n",
    "\n",
    "        # we recenter the bar\n",
    "        if i < 2:\n",
    "            patch.set_x(patch.get_x() + diff*0.5)\n",
    "        else:\n",
    "            patch.set_x(patch.get_x() - diff*0.5)\n",
    "#         import ipdb; ipdb.set_trace()\n",
    "    \n",
    "#     ax.get_xticklabels()[0].set_x(diff)\n",
    "\n",
    "\n",
    "def plot_categorical_distribution(df, column, title, show_xlabel=True, show_ylabel=True, loc='upper right',\n",
    "                                  show_hue=True, hue='testresult_covid_test_result',\n",
    "                                  hue_order=['Positive', 'Negative'], size=(15, 6), rotation=0, palette='Blues_r',\n",
    "                                  counts=False, ylabel=None, xlabel=None, save=False, name='sample',\n",
    "                                  reduce_width=False, new_width=0.3, xticklabels=[]):\n",
    "\n",
    "    fig, ax = plt.subplots(1, 1, figsize=size)\n",
    "\n",
    "    ax.set_title(title, fontsize=28)\n",
    "    \n",
    "    df['COVID'] = df['testresult_covid_test_result']\n",
    "    palette = ['#FE7465', '#51B867']\n",
    "    \n",
    "    if show_hue:\n",
    "        g = sns.countplot(x=column, data=df, ax=ax, hue='COVID', hue_order=hue_order, palette=palette)\n",
    "    else:\n",
    "        g = sns.countplot(x=column, data=df, ax=ax, palette=palette, label=list(df[column].unique()))\n",
    "    \n",
    "    if not len(xticklabels):\n",
    "        xticklabels = g.get_xticklabels()\n",
    "    g.set_xticklabels(xticklabels, rotation=rotation)\n",
    "    if counts:\n",
    "        show_counts(g, df, column)\n",
    "    \n",
    "    ylabel = ylabel if ylabel is not None else g.get_ylabel()\n",
    "    ylabel = '' if not show_ylabel else ylabel\n",
    "    ax.set_ylabel(ylabel, fontsize=24)\n",
    "    \n",
    "    xlabel = xlabel if xlabel is not None else g.get_xlabel()\n",
    "    xlabel = '' if not show_xlabel else xlabel\n",
    "    ax.set_xlabel(xlabel, fontsize=24)\n",
    "\n",
    "    if reduce_width:\n",
    "        change_width(ax, new_width)\n",
    "\n",
    "    ax.tick_params(axis=\"x\", labelsize=21)\n",
    "    ax.tick_params(axis=\"y\", labelsize=21)\n",
    "\n",
    "    ax.grid()\n",
    "    if show_hue:\n",
    "        plt.legend(loc=loc, fontsize=24)\n",
    "    \n",
    "    if save:\n",
    "        path = join(FIGURES_SAVE_DIR, f'{name}.pdf')\n",
    "        plt.savefig(path, bbox_inches='tight')\n",
    "    \n",
    "\n",
    "    plt.show()"
   ]
  },
  {
   "cell_type": "code",
   "execution_count": null,
   "metadata": {},
   "outputs": [],
   "source": [
    "def plot_pie_chart(df, column, title, size):\n",
    "    fig, ax = plt.subplots(1, 1, figsize=size)\n",
    "    \n",
    "    _dict = dict(df[column].value_counts())\n",
    "    total = len(df[column])\n",
    "    labels = list(_dict.keys())\n",
    "    colors = ['#fc4f30', '#008fd5']\n",
    "#     colors = ['pink', 'lightblue']\n",
    "    explode = (0, 0.1)\n",
    "    explode2 = (0.2, 0)\n",
    "    \n",
    "    autopct = '%.2f%%'\n",
    "    ax.pie(list(_dict.values()), startangle=90, colors=colors, wedgeprops={'edgecolor': 'grey'}, autopct=lambda x: f'{np.round(x, 2)} \\%',\n",
    "           labels=labels, explode=explode, shadow=True, labeldistance=None, pctdistance=0.5, textprops={'fontsize': 15})\n",
    "    ax.set_title(title)\n",
    "    \n",
    "    plt.legend(loc='upper right', fontsize=15)\n",
    "    plt.show()"
   ]
  },
  {
   "cell_type": "code",
   "execution_count": null,
   "metadata": {},
   "outputs": [],
   "source": [
    "# plot_pie_chart(current_set, 'enroll_patient_gender', '', (12, 12))"
   ]
  },
  {
   "cell_type": "code",
   "execution_count": null,
   "metadata": {},
   "outputs": [],
   "source": [
    "plot_categorical_distribution(current_set, 'Age (years)', title='Age (Years)', show_xlabel=False, show_ylabel=False, ylabel='No. of individuals',\n",
    "                              rotation=0, palette='ch:start=0.5,hue=3.5_r', save=True, name='age_v4', size=(14, 6))"
   ]
  },
  {
   "cell_type": "code",
   "execution_count": null,
   "metadata": {},
   "outputs": [],
   "source": [
    "plot_categorical_distribution(current_set, 'Gender', title='Sex', ylabel='No. of individuals', show_xlabel=False, show_ylabel=False,\n",
    "                              rotation=0, palette='ch:start=0.5,hue=3.5_r', size=(6, 6), loc='upper right',\n",
    "                              save=True, name='gender_v5', reduce_width=True, new_width=0.25)"
   ]
  },
  {
   "cell_type": "code",
   "execution_count": null,
   "metadata": {},
   "outputs": [],
   "source": [
    "current_set['Facility'] = current_set['enroll_facility']"
   ]
  },
  {
   "cell_type": "code",
   "execution_count": null,
   "metadata": {},
   "outputs": [],
   "source": [
    "num_facilities = len(current_set['Facility'].unique())"
   ]
  },
  {
   "cell_type": "code",
   "execution_count": null,
   "metadata": {},
   "outputs": [],
   "source": [
    "num_facilities"
   ]
  },
  {
   "cell_type": "code",
   "execution_count": null,
   "metadata": {},
   "outputs": [],
   "source": [
    "plot_categorical_distribution(current_set, 'Facility', title='LOCATION', ylabel='No. of individuals', show_xlabel=False, show_ylabel=False,\n",
    "                              rotation=0, palette='ch:start=0.5,hue=3.5_r', size=(20, 6),\n",
    "                              loc='best', save=True, name='facility_v6', xticklabels=[f'F{x}' for x in range(num_facilities)])"
   ]
  },
  {
   "cell_type": "code",
   "execution_count": null,
   "metadata": {},
   "outputs": [],
   "source": [
    "current_set['testresult_covid_test_result'].value_counts()"
   ]
  },
  {
   "cell_type": "code",
   "execution_count": null,
   "metadata": {},
   "outputs": [],
   "source": [
    "current_set['COVID Status'] = current_set['testresult_covid_test_result']\n",
    "plot_categorical_distribution(current_set, 'COVID Status', title='Disease Status', ylabel='No. of individuals', show_xlabel=False, show_ylabel=True,\n",
    "                              show_hue=False, size=(5, 6), loc='upper right', save=True, name='covid_v4', reduce_width=True, new_width=0.3)"
   ]
  },
  {
   "cell_type": "code",
   "execution_count": null,
   "metadata": {},
   "outputs": [],
   "source": [
    "current_set['Duration (seconds)'] = current_set['end']\n",
    "plot_real_valued_distribution(current_set, 'Duration (seconds)', title='DURATION (seconds)', size=(12, 5), show_xlabel=False,\n",
    "                              ylabel='No. of cough samples', legend=True, save=True, name='duration_v4')"
   ]
  },
  {
   "cell_type": "code",
   "execution_count": null,
   "metadata": {},
   "outputs": [],
   "source": [
    "current_set.enroll_patient_gender.value_counts()"
   ]
  },
  {
   "cell_type": "code",
   "execution_count": null,
   "metadata": {},
   "outputs": [],
   "source": []
  }
 ],
 "metadata": {
  "kernelspec": {
   "display_name": "Python 3",
   "language": "python",
   "name": "python3"
  },
  "language_info": {
   "codemirror_mode": {
    "name": "ipython",
    "version": 3
   },
   "file_extension": ".py",
   "mimetype": "text/x-python",
   "name": "python",
   "nbconvert_exporter": "python",
   "pygments_lexer": "ipython3",
   "version": "3.6.9"
  }
 },
 "nbformat": 4,
 "nbformat_minor": 4
}
