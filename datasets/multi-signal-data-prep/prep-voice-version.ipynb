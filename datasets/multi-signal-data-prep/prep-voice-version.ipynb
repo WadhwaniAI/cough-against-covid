{
 "cells": [
  {
   "cell_type": "code",
   "execution_count": 18,
   "metadata": {},
   "outputs": [],
   "source": [
    "from cac.utils.io import read_yml, save_yml\n",
    "import pandas as pd\n",
    "import numpy as np\n",
    "from os import makedirs\n",
    "from os.path import join, dirname, basename, splitext\n",
    "from librosa.core import get_duration\n",
    "from tqdm import tqdm"
   ]
  },
  {
   "cell_type": "code",
   "execution_count": 9,
   "metadata": {},
   "outputs": [],
   "source": [
    "version = 'v9.8'"
   ]
  },
  {
   "cell_type": "code",
   "execution_count": 14,
   "metadata": {},
   "outputs": [],
   "source": [
    "data_root = '/data/wiai-facility'\n",
    "load_dir = join(data_root, 'processed/audio/')"
   ]
  },
  {
   "cell_type": "code",
   "execution_count": 10,
   "metadata": {},
   "outputs": [],
   "source": [
    "data_config = read_yml(join(f'/data/wiai-facility/processed/versions/{version}.yml'))\n",
    "attributes = pd.read_csv('/data/wiai-facility/processed/attributes.csv')"
   ]
  },
  {
   "cell_type": "code",
   "execution_count": 11,
   "metadata": {},
   "outputs": [],
   "source": [
    "def get_user_from_path(path):\n",
    "    filename = splitext(basename(path))[0]\n",
    "    split_index = filename.find('_cough')\n",
    "    user = filename[:split_index]\n",
    "    user = '_'.join(user.split('_')[:-2])\n",
    "    return user"
   ]
  },
  {
   "cell_type": "code",
   "execution_count": 12,
   "metadata": {},
   "outputs": [],
   "source": [
    "keys = ['all', 'train', 'val', 'test']"
   ]
  },
  {
   "cell_type": "code",
   "execution_count": 19,
   "metadata": {},
   "outputs": [
    {
     "name": "stderr",
     "output_type": "stream",
     "text": [
      "  1%|          | 67/12780 [00:00<00:19, 659.38it/s]"
     ]
    },
    {
     "name": "stdout",
     "output_type": "stream",
     "text": [
      "Working on all\n"
     ]
    },
    {
     "name": "stderr",
     "output_type": "stream",
     "text": [
      "100%|██████████| 12780/12780 [01:18<00:00, 163.53it/s]\n",
      "  1%|          | 112/10224 [00:00<00:09, 1093.63it/s]"
     ]
    },
    {
     "name": "stdout",
     "output_type": "stream",
     "text": [
      "Number of files from 12780 reduced to 4260\n",
      "Working on train\n"
     ]
    },
    {
     "name": "stderr",
     "output_type": "stream",
     "text": [
      "100%|██████████| 10224/10224 [00:07<00:00, 1345.86it/s]\n",
      " 14%|█▍        | 178/1278 [00:00<00:00, 1766.95it/s]"
     ]
    },
    {
     "name": "stdout",
     "output_type": "stream",
     "text": [
      "Number of files from 10224 reduced to 3408\n",
      "Working on val\n"
     ]
    },
    {
     "name": "stderr",
     "output_type": "stream",
     "text": [
      "100%|██████████| 1278/1278 [00:00<00:00, 1812.07it/s]\n",
      " 15%|█▌        | 193/1278 [00:00<00:00, 1917.63it/s]"
     ]
    },
    {
     "name": "stdout",
     "output_type": "stream",
     "text": [
      "Number of files from 1278 reduced to 426\n",
      "Working on test\n"
     ]
    },
    {
     "name": "stderr",
     "output_type": "stream",
     "text": [
      "100%|██████████| 1278/1278 [00:00<00:00, 1848.60it/s]"
     ]
    },
    {
     "name": "stdout",
     "output_type": "stream",
     "text": [
      "Number of files from 1278 reduced to 426\n"
     ]
    },
    {
     "name": "stderr",
     "output_type": "stream",
     "text": [
      "\n"
     ]
    }
   ],
   "source": [
    "new_config = dict()\n",
    "for key in keys:\n",
    "    print (f'Working on {key}')\n",
    "    d = data_config[key]\n",
    "    files = []\n",
    "    labels = []\n",
    "    starts = []\n",
    "    ends = []\n",
    "    users = []\n",
    "    \n",
    "    length = len(d['file'])\n",
    "    for i in tqdm(range(length)):\n",
    "        file = d['file'][i]\n",
    "        label = d['label'][i]\n",
    "        start = d['start'][i]\n",
    "        end = d['end'][i]\n",
    "        user = get_user_from_path(file)\n",
    "        \n",
    "        if user not in users:\n",
    "            users.append(user)\n",
    "\n",
    "            filename = splitext(basename(file))[0]\n",
    "            split_index = filename.find('_cough')\n",
    "            path = join(load_dir, ''.join([filename[:split_index], '_audio_1_to_10.wav']))\n",
    "            end = get_duration(filename=path)\n",
    "\n",
    "            files.append(path)\n",
    "            labels.append(label)\n",
    "            starts.append(start)\n",
    "            ends.append(end)\n",
    "    \n",
    "    print (f'Number of files from {length} reduced to {len(ends)}')\n",
    "    new_config[key] = {'end' : ends,\n",
    "                       'file' : files,\n",
    "                       'label' : labels,\n",
    "                       'start' : starts}"
   ]
  },
  {
   "cell_type": "code",
   "execution_count": 20,
   "metadata": {},
   "outputs": [
    {
     "name": "stdout",
     "output_type": "stream",
     "text": [
      "/data/wiai-facility/processed/versions/v9.8_voice.yml\n"
     ]
    }
   ],
   "source": [
    "data_root = '/data/wiai-facility/processed/'\n",
    "save_version = f'{version}_voice'\n",
    "save_path = join(data_root, 'versions', f'{save_version}.yml')\n",
    "\n",
    "print (save_path)\n",
    "save_yml(new_config, save_path)"
   ]
  },
  {
   "cell_type": "code",
   "execution_count": null,
   "metadata": {},
   "outputs": [],
   "source": []
  }
 ],
 "metadata": {
  "kernelspec": {
   "display_name": "Python 3",
   "language": "python",
   "name": "python3"
  },
  "language_info": {
   "codemirror_mode": {
    "name": "ipython",
    "version": 3
   },
   "file_extension": ".py",
   "mimetype": "text/x-python",
   "name": "python",
   "nbconvert_exporter": "python",
   "pygments_lexer": "ipython3",
   "version": "3.6.9"
  }
 },
 "nbformat": 4,
 "nbformat_minor": 4
}
