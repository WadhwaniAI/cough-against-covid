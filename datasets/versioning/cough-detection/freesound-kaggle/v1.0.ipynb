{
 "cells": [
  {
   "cell_type": "code",
   "execution_count": null,
   "metadata": {},
   "outputs": [],
   "source": [
    "from os import makedirs\n",
    "from os.path import join, dirname\n",
    "from collections import defaultdict\n",
    "import pandas as pd\n",
    "import numpy as np\n",
    "from sklearn.model_selection import train_test_split\n",
    "\n",
    "from cac.utils.io import save_yml"
   ]
  },
  {
   "cell_type": "code",
   "execution_count": null,
   "metadata": {},
   "outputs": [],
   "source": [
    "data_root = '/data/freesound-kaggle/processed/'"
   ]
  },
  {
   "cell_type": "code",
   "execution_count": null,
   "metadata": {},
   "outputs": [],
   "source": [
    "annotation = pd.read_csv(join(data_root, 'annotation.csv'))\n",
    "attributes = pd.read_csv(join(data_root, 'attributes.csv'))"
   ]
  },
  {
   "cell_type": "code",
   "execution_count": null,
   "metadata": {},
   "outputs": [],
   "source": [
    "tasks = {\n",
    "    'classification': {\n",
    "        'valid_labels': ['cough']\n",
    "    }\n",
    "}"
   ]
  },
  {
   "cell_type": "code",
   "execution_count": null,
   "metadata": {},
   "outputs": [],
   "source": [
    "annotation.head()"
   ]
  },
  {
   "cell_type": "code",
   "execution_count": null,
   "metadata": {},
   "outputs": [],
   "source": [
    "# ignore 'file'\n",
    "columns = annotation.columns[1:]"
   ]
  },
  {
   "cell_type": "code",
   "execution_count": null,
   "metadata": {},
   "outputs": [],
   "source": [
    "annotation['classification'] = annotation['classification'].apply(lambda x: eval(x))"
   ]
  },
  {
   "cell_type": "code",
   "execution_count": null,
   "metadata": {},
   "outputs": [],
   "source": [
    "files = [join(data_root, 'audio', file + '.wav') for file in annotation['file']]\n",
    "starts = annotation['start'].values\n",
    "ends = annotation['end'].values"
   ]
  },
  {
   "cell_type": "code",
   "execution_count": null,
   "metadata": {},
   "outputs": [],
   "source": [
    "labels = []\n",
    "\n",
    "for _ in files:\n",
    "    labels.append(dict())\n",
    "    \n",
    "for task in tasks:\n",
    "    valid_values = tasks[task]['valid_labels']\n",
    "\n",
    "    for i, _values in enumerate(annotation[task]):   \n",
    "        _labels = []\n",
    "        \n",
    "        for valid_value in valid_values:\n",
    "            if valid_value in _values:\n",
    "                _labels.append(valid_value)\n",
    "        \n",
    "        labels[i][task] = _labels"
   ]
  },
  {
   "cell_type": "code",
   "execution_count": null,
   "metadata": {},
   "outputs": [],
   "source": [
    "df = pd.DataFrame({'file': files, 'label': labels, 'start': starts, 'end': ends})"
   ]
  },
  {
   "cell_type": "code",
   "execution_count": null,
   "metadata": {},
   "outputs": [],
   "source": [
    "df.head()"
   ]
  },
  {
   "cell_type": "code",
   "execution_count": null,
   "metadata": {},
   "outputs": [],
   "source": [
    "len(df)"
   ]
  },
  {
   "cell_type": "code",
   "execution_count": null,
   "metadata": {},
   "outputs": [],
   "source": [
    "indices = list(range(len(df)))\n",
    "train_indices, val_test_indices = train_test_split(indices, test_size=0.2, random_state=20)\n",
    "val_indices, test_indices = train_test_split(val_test_indices, test_size=0.5, random_state=20)"
   ]
  },
  {
   "cell_type": "code",
   "execution_count": null,
   "metadata": {},
   "outputs": [],
   "source": [
    "len(train_indices), len(val_indices), len(test_indices)"
   ]
  },
  {
   "cell_type": "code",
   "execution_count": null,
   "metadata": {},
   "outputs": [],
   "source": [
    "df_train = df.loc[train_indices].reset_index(drop=True)\n",
    "df_val = df.loc[val_indices].reset_index(drop=True)\n",
    "df_test = df.loc[test_indices].reset_index(drop=True)"
   ]
  },
  {
   "cell_type": "code",
   "execution_count": null,
   "metadata": {},
   "outputs": [],
   "source": [
    "version = 'v1.0'\n",
    "save_path = join(data_root, 'versions', '{}.yml'.format(version))"
   ]
  },
  {
   "cell_type": "code",
   "execution_count": null,
   "metadata": {},
   "outputs": [],
   "source": [
    "description = dict()\n",
    "description['tasks'] = tasks\n",
    "description['description'] = 'cough vs non-cough with random split'\n",
    "\n",
    "for name, _df in zip(['all', 'train', 'val', 'test'], [df, df_train, df_val, df_test]):\n",
    "    description[name] = {\n",
    "        'file': _df['file'].values.tolist(),\n",
    "        'label': _df['label'].values.tolist(),\n",
    "    }"
   ]
  },
  {
   "cell_type": "code",
   "execution_count": null,
   "metadata": {},
   "outputs": [],
   "source": [
    "# save description\n",
    "makedirs(dirname(save_path), exist_ok=True)\n",
    "save_yml(description, save_path)"
   ]
  },
  {
   "cell_type": "code",
   "execution_count": null,
   "metadata": {},
   "outputs": [],
   "source": []
  }
 ],
 "metadata": {
  "kernelspec": {
   "display_name": "Python 3",
   "language": "python",
   "name": "python3"
  },
  "language_info": {
   "codemirror_mode": {
    "name": "ipython",
    "version": 3
   },
   "file_extension": ".py",
   "mimetype": "text/x-python",
   "name": "python",
   "nbconvert_exporter": "python",
   "pygments_lexer": "ipython3",
   "version": "3.6.9"
  }
 },
 "nbformat": 4,
 "nbformat_minor": 4
}
