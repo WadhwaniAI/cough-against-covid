{
 "cells": [
  {
   "cell_type": "markdown",
   "metadata": {},
   "source": [
    "This notebook is based on unsupervised analysis of classical feature pipeline proposed by the paper from [Cambridge](https://arxiv.org/pdf/2006.05919.pdf)"
   ]
  },
  {
   "cell_type": "code",
   "execution_count": null,
   "metadata": {},
   "outputs": [],
   "source": [
    "%load_ext autoreload\n",
    "%autoreload 2"
   ]
  },
  {
   "cell_type": "code",
   "execution_count": null,
   "metadata": {},
   "outputs": [],
   "source": [
    "import warnings\n",
    "import argparse\n",
    "import os\n",
    "from os.path import join, dirname\n",
    "from typing import List\n",
    "import multiprocessing as mp\n",
    "import wandb\n",
    "import numpy as np\n",
    "import matplotlib.pyplot as plt\n",
    "import matplotlib.cm as cm\n",
    "from cac.config import Config\n",
    "from cac.models import factory as model_factory\n",
    "from cac.utils.logger import set_logger\n",
    "from training.utils import seed_everything\n",
    "\n",
    "warnings.simplefilter('ignore')"
   ]
  },
  {
   "cell_type": "markdown",
   "metadata": {},
   "source": [
    "### Define the config"
   ]
  },
  {
   "cell_type": "code",
   "execution_count": null,
   "metadata": {},
   "outputs": [],
   "source": [
    "VERSION = 'experiments/unsupervised/cambridge.yml'\n",
    "NUM_WORKERS = 4"
   ]
  },
  {
   "cell_type": "code",
   "execution_count": null,
   "metadata": {},
   "outputs": [],
   "source": [
    "seed_everything()\n",
    "config = Config(VERSION)"
   ]
  },
  {
   "cell_type": "code",
   "execution_count": null,
   "metadata": {},
   "outputs": [],
   "source": [
    "set_logger(join(config.log_dir, 'unsupervised.log'))\n",
    "config.num_workers = NUM_WORKERS"
   ]
  },
  {
   "cell_type": "markdown",
   "metadata": {},
   "source": [
    "### Define the model"
   ]
  },
  {
   "cell_type": "code",
   "execution_count": null,
   "metadata": {},
   "outputs": [],
   "source": [
    "model = model_factory.create(config.model['name'], **{'config': config})"
   ]
  },
  {
   "cell_type": "code",
   "execution_count": null,
   "metadata": {},
   "outputs": [],
   "source": [
    "data = model.fit(batch_size=8, return_predictions=True, debug=False)"
   ]
  },
  {
   "cell_type": "code",
   "execution_count": null,
   "metadata": {},
   "outputs": [],
   "source": [
    "X, Z, Y = data['input'], data['latent'], data['labels']"
   ]
  },
  {
   "cell_type": "code",
   "execution_count": null,
   "metadata": {},
   "outputs": [],
   "source": [
    "X.shape"
   ]
  },
  {
   "cell_type": "code",
   "execution_count": null,
   "metadata": {},
   "outputs": [],
   "source": [
    "Y[0]"
   ]
  },
  {
   "cell_type": "markdown",
   "metadata": {},
   "source": [
    "### Plotting and Analysis"
   ]
  },
  {
   "cell_type": "code",
   "execution_count": null,
   "metadata": {},
   "outputs": [],
   "source": [
    "def scatter2d(x1, x2, row_values : dict, label: str, legend: bool = True, title=None):\n",
    "\n",
    "    labels = np.array([row_value[label] for row_value in row_values])\n",
    "\n",
    "    unique_labels = np.unique(labels)\n",
    "\n",
    "    colors = cm.plasma(np.linspace(0, 1, len(unique_labels)))\n",
    "\n",
    "    f, ax = plt.subplots(1, figsize=(10, 10))\n",
    "\n",
    "    for label, color in zip(unique_labels, colors):\n",
    "        indices = np.where(labels == label)\n",
    "        num = len(indices[0])\n",
    "        ax.scatter(x1[indices], x2[indices], label='{} : {}'.format(label, num), color=color)\n",
    "\n",
    "    ax.set_ylabel('Component 2')\n",
    "    ax.set_xlabel('Component 1')\n",
    "    \n",
    "    if title is not None:\n",
    "        ax.set_title('title')\n",
    "\n",
    "    ax.grid()\n",
    "\n",
    "    if legend:\n",
    "        ax.legend(loc='best')"
   ]
  },
  {
   "cell_type": "code",
   "execution_count": null,
   "metadata": {},
   "outputs": [],
   "source": [
    "scatter2d(Z[:, 0], Z[:, 1], Y, label='dataset-name')"
   ]
  },
  {
   "cell_type": "code",
   "execution_count": null,
   "metadata": {},
   "outputs": [],
   "source": [
    "scatter2d(Z[:, 0], Z[:, 1], Y, label='enroll_patient_gender')"
   ]
  },
  {
   "cell_type": "code",
   "execution_count": null,
   "metadata": {},
   "outputs": [],
   "source": [
    "scatter2d(Z[:, 0], Z[:, 1], Y, label='enroll_facility')"
   ]
  },
  {
   "cell_type": "code",
   "execution_count": null,
   "metadata": {},
   "outputs": [],
   "source": []
  }
 ],
 "metadata": {
  "kernelspec": {
   "display_name": "Python 3",
   "language": "python",
   "name": "python3"
  },
  "language_info": {
   "codemirror_mode": {
    "name": "ipython",
    "version": 3
   },
   "file_extension": ".py",
   "mimetype": "text/x-python",
   "name": "python",
   "nbconvert_exporter": "python",
   "pygments_lexer": "ipython3",
   "version": "3.6.9"
  }
 },
 "nbformat": 4,
 "nbformat_minor": 4
}
