{
 "cells": [
  {
   "cell_type": "markdown",
   "metadata": {},
   "source": [
    "#### Create `version` with repitition for Multi-Signal Training Models"
   ]
  },
  {
   "cell_type": "code",
   "execution_count": 1,
   "metadata": {},
   "outputs": [],
   "source": [
    "from cac.utils.io import read_yml, save_yml\n",
    "import pandas as pd\n",
    "import numpy as np\n",
    "from os import makedirs\n",
    "from os.path import join, dirname, basename, splitext"
   ]
  },
  {
   "cell_type": "code",
   "execution_count": 2,
   "metadata": {},
   "outputs": [],
   "source": [
    "version = 'v9.8'"
   ]
  },
  {
   "cell_type": "code",
   "execution_count": 3,
   "metadata": {},
   "outputs": [],
   "source": [
    "config = read_yml(f'/data/wiai-facility/processed/versions/{version}_voice.yml')"
   ]
  },
  {
   "cell_type": "code",
   "execution_count": 4,
   "metadata": {},
   "outputs": [
    {
     "data": {
      "text/plain": [
       "dict_keys(['all', 'test', 'train', 'val'])"
      ]
     },
     "execution_count": 4,
     "metadata": {},
     "output_type": "execute_result"
    }
   ],
   "source": [
    "config.keys()"
   ]
  },
  {
   "cell_type": "code",
   "execution_count": 5,
   "metadata": {},
   "outputs": [],
   "source": [
    "keys = ['all', 'train', 'val', 'test']"
   ]
  },
  {
   "cell_type": "markdown",
   "metadata": {},
   "source": [
    "The number of repititions is `3` because we have 3 cough samples and 1 voice sample for each person"
   ]
  },
  {
   "cell_type": "code",
   "execution_count": 6,
   "metadata": {},
   "outputs": [],
   "source": [
    "new_config = dict()\n",
    "for key in keys:\n",
    "    df = pd.DataFrame(config[key])\n",
    "    new_df = pd.DataFrame(np.repeat(df.values, 3, axis=0), columns=df.columns)\n",
    "    new_config[key] = {\n",
    "        'end' : list(new_df['end'].values),\n",
    "        'file' : list(new_df['file'].values),\n",
    "        'label' : list(new_df['label'].values),\n",
    "        'start' : list(new_df['start'].values)\n",
    "    }"
   ]
  },
  {
   "cell_type": "code",
   "execution_count": 7,
   "metadata": {},
   "outputs": [
    {
     "name": "stdout",
     "output_type": "stream",
     "text": [
      "path :/data/wiai-facility/processed/versions/v9.8_voice_repeated.yml\n"
     ]
    }
   ],
   "source": [
    "data_root = '/data/wiai-facility/processed/'\n",
    "save_version = f'{version}_voice_repeated'\n",
    "save_path = join(data_root, 'versions', f'{save_version}.yml')\n",
    "print (f'path :{save_path}')\n",
    "\n",
    "save_yml(new_config, save_path)"
   ]
  },
  {
   "cell_type": "code",
   "execution_count": null,
   "metadata": {},
   "outputs": [],
   "source": []
  }
 ],
 "metadata": {
  "kernelspec": {
   "display_name": "Python 3",
   "language": "python",
   "name": "python3"
  },
  "language_info": {
   "codemirror_mode": {
    "name": "ipython",
    "version": 3
   },
   "file_extension": ".py",
   "mimetype": "text/x-python",
   "name": "python",
   "nbconvert_exporter": "python",
   "pygments_lexer": "ipython3",
   "version": "3.6.9"
  }
 },
 "nbformat": 4,
 "nbformat_minor": 4
}
