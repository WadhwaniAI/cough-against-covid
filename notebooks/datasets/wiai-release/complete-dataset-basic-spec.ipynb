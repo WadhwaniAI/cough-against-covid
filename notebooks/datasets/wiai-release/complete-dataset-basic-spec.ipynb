{
 "cells": [
  {
   "cell_type": "markdown",
   "metadata": {},
   "source": [
    "#### Creating mini-dataset"
   ]
  },
  {
   "cell_type": "code",
   "execution_count": 1,
   "metadata": {},
   "outputs": [],
   "source": [
    "%load_ext autoreload\n",
    "%autoreload 2"
   ]
  },
  {
   "cell_type": "code",
   "execution_count": 2,
   "metadata": {},
   "outputs": [],
   "source": [
    "import os\n",
    "from cac.utils.io import read_yml\n",
    "from os.path import join\n",
    "from glob import glob\n",
    "import matplotlib.pyplot as plt\n",
    "import numpy as np\n",
    "from tqdm import tqdm\n",
    "import pandas as pd\n",
    "\n",
    "from cac.data.audio import AudioItem\n",
    "from cac.data.transforms import DataProcessor\n",
    "from cac.utils.viz import plot_raw_audio_signal, plot_spectrogram_image"
   ]
  },
  {
   "cell_type": "code",
   "execution_count": 3,
   "metadata": {},
   "outputs": [],
   "source": [
    "DATA_DIR = \"/data/wiai-facility/\"\n",
    "all_audio_files = glob(join(DATA_DIR, \"processed\", \"audio\", \"*.wav\"))"
   ]
  },
  {
   "cell_type": "markdown",
   "metadata": {},
   "source": [
    "#### Create Sym links of data for which spectrogram is created"
   ]
  },
  {
   "cell_type": "code",
   "execution_count": 4,
   "metadata": {},
   "outputs": [],
   "source": [
    "DATA_RELEASE_DIR = \"/data/wiai-release-audios/\"\n",
    "SPECTROGRAM_DATA_RELEASE_DIR = \"/data/wiai-release-spectrograms/\"\n",
    "os.makedirs(DATA_RELEASE_DIR, exist_ok = True)\n",
    "os.makedirs(SPECTROGRAM_DATA_RELEASE_DIR, exist_ok = True)"
   ]
  },
  {
   "cell_type": "code",
   "execution_count": 5,
   "metadata": {},
   "outputs": [],
   "source": [
    "os.makedirs(os.path.join(DATA_RELEASE_DIR, 'processed', 'audio'), exist_ok = True)"
   ]
  },
  {
   "cell_type": "markdown",
   "metadata": {},
   "source": [
    "##### Note: No conditions, creating spectrograms for all kinds of sounds"
   ]
  },
  {
   "cell_type": "code",
   "execution_count": 17,
   "metadata": {},
   "outputs": [
    {
     "name": "stderr",
     "output_type": "stream",
     "text": [
      "100%|██████████| 83838/83838 [02:11<00:00, 637.24it/s]\n"
     ]
    }
   ],
   "source": [
    "i = 0\n",
    "for audio_file in tqdm(all_audio_files):\n",
    "    src_path = audio_file\n",
    "    dest_path = os.path.join(DATA_RELEASE_DIR, 'processed', 'audio', audio_file.split('/')[-1])\n",
    "    os.symlink(src_path, dest_path)\n",
    "    i += 1"
   ]
  },
  {
   "cell_type": "code",
   "execution_count": null,
   "metadata": {},
   "outputs": [],
   "source": []
  },
  {
   "cell_type": "code",
   "execution_count": null,
   "metadata": {},
   "outputs": [],
   "source": []
  }
 ],
 "metadata": {
  "kernelspec": {
   "display_name": "Python 3",
   "language": "python",
   "name": "python3"
  },
  "language_info": {
   "codemirror_mode": {
    "name": "ipython",
    "version": 3
   },
   "file_extension": ".py",
   "mimetype": "text/x-python",
   "name": "python",
   "nbconvert_exporter": "python",
   "pygments_lexer": "ipython3",
   "version": "3.6.9"
  }
 },
 "nbformat": 4,
 "nbformat_minor": 4
}
