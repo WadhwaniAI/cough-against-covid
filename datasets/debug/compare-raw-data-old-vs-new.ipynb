{
 "cells": [
  {
   "cell_type": "code",
   "execution_count": null,
   "metadata": {},
   "outputs": [],
   "source": [
    "%load_ext autoreload\n",
    "%autoreload 2"
   ]
  },
  {
   "cell_type": "code",
   "execution_count": null,
   "metadata": {},
   "outputs": [],
   "source": [
    "from os.path import join, basename, dirname\n",
    "from glob import glob\n",
    "from tqdm import tqdm\n",
    "from natsort import natsorted\n",
    "import numpy as np\n",
    "import librosa\n",
    "\n",
    "from cac.utils.io import read_yml"
   ]
  },
  {
   "cell_type": "code",
   "execution_count": null,
   "metadata": {},
   "outputs": [],
   "source": [
    "OLD_DIR = '/scratche/data/cac/data/'\n",
    "NEW_DIR = '/data/'"
   ]
  },
  {
   "cell_type": "markdown",
   "metadata": {},
   "source": [
    "#### Checking equality for `freesound-kaggle`"
   ]
  },
  {
   "cell_type": "code",
   "execution_count": null,
   "metadata": {},
   "outputs": [],
   "source": [
    "dataset = 'freesound-kaggle'"
   ]
  },
  {
   "cell_type": "markdown",
   "metadata": {},
   "source": [
    "1. Check `raw` data"
   ]
  },
  {
   "cell_type": "code",
   "execution_count": null,
   "metadata": {},
   "outputs": [],
   "source": [
    "old_raw = natsorted(glob(join(OLD_DIR, dataset, 'raw/audio/*')))\n",
    "new_raw = natsorted(glob(join(NEW_DIR, dataset, 'raw/audio/*')))"
   ]
  },
  {
   "cell_type": "code",
   "execution_count": null,
   "metadata": {},
   "outputs": [],
   "source": [
    "len(old_raw), len(new_raw)"
   ]
  },
  {
   "cell_type": "code",
   "execution_count": null,
   "metadata": {},
   "outputs": [],
   "source": [
    "indices = np.random.choice(range(len(old_raw)), 100)\n",
    "\n",
    "for index in tqdm(indices, desc='Checking randomly selected files'):\n",
    "    old_signal, old_rate = librosa.load(old_raw[index])\n",
    "    new_signal, new_rate = librosa.load(new_raw[index])\n",
    "    assert (old_signal == new_signal).all() and old_rate == new_rate"
   ]
  },
  {
   "cell_type": "markdown",
   "metadata": {},
   "source": [
    "2. Check `processed` data"
   ]
  },
  {
   "cell_type": "code",
   "execution_count": null,
   "metadata": {},
   "outputs": [],
   "source": [
    "old_raw = natsorted(glob(join(OLD_DIR, dataset, 'processed/audio/*')))\n",
    "new_raw = natsorted(glob(join(NEW_DIR, dataset, 'processed/audio/*')))"
   ]
  },
  {
   "cell_type": "code",
   "execution_count": null,
   "metadata": {},
   "outputs": [],
   "source": [
    "len(old_raw), len(new_raw)"
   ]
  },
  {
   "cell_type": "code",
   "execution_count": null,
   "metadata": {},
   "outputs": [],
   "source": [
    "indices = np.random.choice(range(len(old_raw)), 100)\n",
    "\n",
    "for index in tqdm(indices, desc='Checking randomly selected files'):\n",
    "    old_signal, old_rate = librosa.load(old_raw[index])\n",
    "    new_signal, new_rate = librosa.load(new_raw[index])\n",
    "    assert (old_signal == new_signal).all() and old_rate == new_rate"
   ]
  },
  {
   "cell_type": "markdown",
   "metadata": {},
   "source": [
    "#### Checking equality for `flusense` dataset"
   ]
  },
  {
   "cell_type": "code",
   "execution_count": null,
   "metadata": {},
   "outputs": [],
   "source": [
    "dataset = 'flusense'"
   ]
  },
  {
   "cell_type": "markdown",
   "metadata": {},
   "source": [
    "1. Check `raw` data"
   ]
  },
  {
   "cell_type": "code",
   "execution_count": null,
   "metadata": {},
   "outputs": [],
   "source": [
    "old_raw = natsorted(glob(join(OLD_DIR, dataset, 'raw/audio/*')))\n",
    "new_raw = natsorted(glob(join(NEW_DIR, dataset, 'raw/audio/*')))"
   ]
  },
  {
   "cell_type": "code",
   "execution_count": null,
   "metadata": {},
   "outputs": [],
   "source": [
    "len(old_raw), len(new_raw)"
   ]
  },
  {
   "cell_type": "code",
   "execution_count": null,
   "metadata": {},
   "outputs": [],
   "source": [
    "indices = np.random.choice(range(len(old_raw)), 100)\n",
    "\n",
    "for index in tqdm(indices, desc='Checking randomly selected files'):\n",
    "    old_signal, old_rate = librosa.load(old_raw[index])\n",
    "    new_signal, new_rate = librosa.load(new_raw[index])\n",
    "    assert (old_signal == new_signal).all() and old_rate == new_rate"
   ]
  },
  {
   "cell_type": "markdown",
   "metadata": {},
   "source": [
    "2. Check `processed` data"
   ]
  },
  {
   "cell_type": "code",
   "execution_count": null,
   "metadata": {},
   "outputs": [],
   "source": [
    "old_raw = natsorted(glob(join(OLD_DIR, dataset, 'processed/audio/*')))\n",
    "new_raw = natsorted(glob(join(NEW_DIR, dataset, 'processed/audio/*')))"
   ]
  },
  {
   "cell_type": "code",
   "execution_count": null,
   "metadata": {},
   "outputs": [],
   "source": [
    "len(old_raw), len(new_raw)"
   ]
  },
  {
   "cell_type": "code",
   "execution_count": null,
   "metadata": {},
   "outputs": [],
   "source": [
    "indices = np.random.choice(range(len(old_raw)), 100)\n",
    "\n",
    "for index in tqdm(indices, desc='Checking randomly selected files'):\n",
    "    old_signal, old_rate = librosa.load(old_raw[index])\n",
    "    new_signal, new_rate = librosa.load(new_raw[index])\n",
    "    assert (old_signal == new_signal).all() and old_rate == new_rate"
   ]
  },
  {
   "cell_type": "markdown",
   "metadata": {},
   "source": [
    "#### Checking inequality for `coswara` dataset"
   ]
  },
  {
   "cell_type": "code",
   "execution_count": null,
   "metadata": {},
   "outputs": [],
   "source": [
    "dataset = 'coswara'"
   ]
  },
  {
   "cell_type": "markdown",
   "metadata": {},
   "source": [
    "1. Check `raw` data"
   ]
  },
  {
   "cell_type": "code",
   "execution_count": null,
   "metadata": {},
   "outputs": [],
   "source": [
    "old_raw = natsorted(glob(join(OLD_DIR, dataset, 'raw/data/*/*.wav')))\n",
    "new_raw = natsorted(glob(join(NEW_DIR, dataset + '-15-03-21', 'raw/audio/*/*/*.wav')))"
   ]
  },
  {
   "cell_type": "code",
   "execution_count": null,
   "metadata": {},
   "outputs": [],
   "source": [
    "len(old_raw), len(new_raw)"
   ]
  },
  {
   "cell_type": "code",
   "execution_count": null,
   "metadata": {},
   "outputs": [],
   "source": [
    "new_raw_ids = [basename(dirname(x)) for x in new_raw]"
   ]
  },
  {
   "cell_type": "code",
   "execution_count": null,
   "metadata": {},
   "outputs": [],
   "source": [
    "old_raw_ids = [basename(dirname(x)) for x in old_raw]"
   ]
  },
  {
   "cell_type": "code",
   "execution_count": null,
   "metadata": {},
   "outputs": [],
   "source": [
    "len(old_raw_ids), len(new_raw_ids)"
   ]
  },
  {
   "cell_type": "code",
   "execution_count": null,
   "metadata": {},
   "outputs": [],
   "source": [
    "set(old_raw_ids).issubset(new_raw_ids)"
   ]
  },
  {
   "cell_type": "markdown",
   "metadata": {},
   "source": [
    "2. Check `processed` data"
   ]
  },
  {
   "cell_type": "code",
   "execution_count": null,
   "metadata": {},
   "outputs": [],
   "source": [
    "old_raw = natsorted(glob(join(OLD_DIR, dataset, 'processed/audio/*.wav')))\n",
    "new_raw = natsorted(glob(join(NEW_DIR, dataset + '-15-03-21', 'processed/audio/*.wav')))"
   ]
  },
  {
   "cell_type": "code",
   "execution_count": null,
   "metadata": {},
   "outputs": [],
   "source": [
    "len(old_raw), len(new_raw)"
   ]
  },
  {
   "cell_type": "code",
   "execution_count": null,
   "metadata": {},
   "outputs": [],
   "source": [
    "new_raw_ids = [basename(dirname(x)) for x in new_raw]"
   ]
  },
  {
   "cell_type": "code",
   "execution_count": null,
   "metadata": {},
   "outputs": [],
   "source": [
    "old_raw_ids = [basename(dirname(x)) for x in old_raw]"
   ]
  },
  {
   "cell_type": "code",
   "execution_count": null,
   "metadata": {},
   "outputs": [],
   "source": [
    "len(old_raw_ids), len(new_raw_ids)"
   ]
  },
  {
   "cell_type": "code",
   "execution_count": null,
   "metadata": {},
   "outputs": [],
   "source": [
    "set(old_raw_ids).issubset(new_raw_ids)"
   ]
  },
  {
   "cell_type": "code",
   "execution_count": null,
   "metadata": {},
   "outputs": [],
   "source": [
    "len(old_raw), len(new_raw)"
   ]
  },
  {
   "cell_type": "code",
   "execution_count": null,
   "metadata": {},
   "outputs": [],
   "source": []
  }
 ],
 "metadata": {
  "kernelspec": {
   "display_name": "Python 3",
   "language": "python",
   "name": "python3"
  },
  "language_info": {
   "codemirror_mode": {
    "name": "ipython",
    "version": 3
   },
   "file_extension": ".py",
   "mimetype": "text/x-python",
   "name": "python",
   "nbconvert_exporter": "python",
   "pygments_lexer": "ipython3",
   "version": "3.6.9"
  }
 },
 "nbformat": 4,
 "nbformat_minor": 4
}
