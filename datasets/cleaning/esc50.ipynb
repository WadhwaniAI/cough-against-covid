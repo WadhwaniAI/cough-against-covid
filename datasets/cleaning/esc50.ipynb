{
 "cells": [
  {
   "cell_type": "code",
   "execution_count": null,
   "metadata": {},
   "outputs": [],
   "source": [
    "from collections import defaultdict\n",
    "from os.path import join, exists, splitext\n",
    "from os import listdir, symlink, makedirs\n",
    "from shutil import copyfile\n",
    "from praatio import tgio\n",
    "import pandas as pd"
   ]
  },
  {
   "cell_type": "code",
   "execution_count": null,
   "metadata": {},
   "outputs": [],
   "source": [
    "# directory where the data resides\n",
    "data_root = '/data/esc-50/'"
   ]
  },
  {
   "cell_type": "code",
   "execution_count": null,
   "metadata": {},
   "outputs": [],
   "source": [
    "# src and destination directories\n",
    "load_dir = join(data_root, 'raw')\n",
    "save_root = join(data_root, 'processed')"
   ]
  },
  {
   "cell_type": "code",
   "execution_count": null,
   "metadata": {},
   "outputs": [],
   "source": [
    "makedirs(save_root, exist_ok=True)"
   ]
  },
  {
   "cell_type": "code",
   "execution_count": null,
   "metadata": {},
   "outputs": [],
   "source": [
    "load_audio_dir = join(load_dir, 'audio')\n",
    "load_annotation_dir = join(load_dir, 'annotations')"
   ]
  },
  {
   "cell_type": "code",
   "execution_count": null,
   "metadata": {},
   "outputs": [],
   "source": [
    "files = listdir(load_audio_dir)"
   ]
  },
  {
   "cell_type": "code",
   "execution_count": null,
   "metadata": {},
   "outputs": [],
   "source": [
    "save_audio_dir = join(save_root, 'audio')\n",
    "makedirs(save_audio_dir, exist_ok=True)"
   ]
  },
  {
   "cell_type": "markdown",
   "metadata": {},
   "source": [
    "Create symlinks to the original `.wav` files"
   ]
  },
  {
   "cell_type": "code",
   "execution_count": null,
   "metadata": {},
   "outputs": [],
   "source": [
    "for file in files:\n",
    "    dest = join(save_audio_dir, file)\n",
    "    if not exists(dest):\n",
    "        symlink(join(load_audio_dir, file), dest)"
   ]
  },
  {
   "cell_type": "code",
   "execution_count": null,
   "metadata": {},
   "outputs": [],
   "source": [
    "copyfile(join(load_dir, 'meta/esc50.csv'), join(save_root, 'attributes.csv'))"
   ]
  },
  {
   "cell_type": "code",
   "execution_count": null,
   "metadata": {},
   "outputs": [],
   "source": [
    "df = pd.read_csv(join(load_dir, 'meta/esc50.csv'))"
   ]
  },
  {
   "cell_type": "code",
   "execution_count": null,
   "metadata": {},
   "outputs": [],
   "source": [
    "df.head()"
   ]
  },
  {
   "cell_type": "code",
   "execution_count": null,
   "metadata": {},
   "outputs": [],
   "source": [
    "# to maintain the format that one file can contain many classification targets, and hence, \n",
    "# corresponding to each file there should be a list of classification values.\n",
    "classification_targets = [[v] for v in df['category'].values]\n",
    "files = [splitext(f)[0] for f in df.filename.values]"
   ]
  },
  {
   "cell_type": "code",
   "execution_count": null,
   "metadata": {},
   "outputs": [],
   "source": [
    "# create dataframe storing the data\n",
    "df = pd.DataFrame({'file': files, 'classification': classification_targets})"
   ]
  },
  {
   "cell_type": "code",
   "execution_count": null,
   "metadata": {},
   "outputs": [],
   "source": [
    "df.head()"
   ]
  },
  {
   "cell_type": "code",
   "execution_count": null,
   "metadata": {},
   "outputs": [],
   "source": [
    "# save the dataframe\n",
    "annotation_save_path = join(save_root, 'annotation.csv')\n",
    "df.to_csv(annotation_save_path, index=False)"
   ]
  },
  {
   "cell_type": "code",
   "execution_count": null,
   "metadata": {},
   "outputs": [],
   "source": [
    "description = \"\\\n",
    "Annotation columns: \\n \\\n",
    "`classification`: valid labels = ['airplane', 'breathing', 'brushing_teeth', \\\n",
    " 'can_opening', 'car_horn', 'cat', 'chainsaw', 'chirping_birds', \\\n",
    " 'church_bells', 'clapping', 'clock_alarm', 'clock_tick', 'coughing', \\\n",
    " 'cow', 'crackling_fire', 'crickets', 'crow', 'crying_baby', 'dog', \\\n",
    " 'door_wood_creaks', 'door_wood_knock', 'drinking_sipping', 'engine', 'fireworks', \\\n",
    " 'footsteps', 'frog', 'glass_breaking', 'hand_saw', \\\n",
    " 'helicopter', 'hen', 'insects', 'keyboard_typing', 'laughing', 'mouse_click', 'pig', 'pouring_water', \\\n",
    " 'rain', 'rooster', 'sea_waves', 'sheep', 'siren', 'sneezing', 'snoring', 'thunderstorm', \\\n",
    " 'toilet_flush', 'train', 'vacuum_cleaner', 'washing_machine', 'water_drops', 'wind'] \\n \\\n",
    "\\n \\\n",
    "File format: \\n \\\n",
    "'audio/*.wav' \\\n",
    "2000 audio recordings in WAV format (5 seconds, 44.1 kHz, mono) with the following naming convention: \\n \\\n",
    "`{FOLD}-{CLIP_ID}-{TAKE}-{TARGET}.wav` \\n \\\n",
    "- `{FOLD}` - index of the cross-validation fold, \\n \\\n",
    "- `{CLIP_ID}` - ID of the original Freesound clip, \\n \\\n",
    "- `{TAKE}` - letter disambiguating between different fragments from the same Freesound clip, \\n \\\n",
    "- `{TARGET}` - class in numeric format [0, 49].\""
   ]
  },
  {
   "cell_type": "code",
   "execution_count": null,
   "metadata": {},
   "outputs": [],
   "source": [
    "with open(join(save_root, 'description.txt'), 'w') as f:\n",
    "    f.write(description)"
   ]
  },
  {
   "cell_type": "code",
   "execution_count": null,
   "metadata": {},
   "outputs": [],
   "source": []
  }
 ],
 "metadata": {
  "kernelspec": {
   "display_name": "Python 3",
   "language": "python",
   "name": "python3"
  },
  "language_info": {
   "codemirror_mode": {
    "name": "ipython",
    "version": 3
   },
   "file_extension": ".py",
   "mimetype": "text/x-python",
   "name": "python",
   "nbconvert_exporter": "python",
   "pygments_lexer": "ipython3",
   "version": "3.6.9"
  }
 },
 "nbformat": 4,
 "nbformat_minor": 4
}
