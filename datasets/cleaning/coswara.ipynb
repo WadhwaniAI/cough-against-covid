{
 "cells": [
  {
   "cell_type": "code",
   "execution_count": null,
   "metadata": {},
   "outputs": [],
   "source": [
    "from collections import defaultdict\n",
    "from os.path import join, exists, splitext, basename\n",
    "from os import listdir, symlink, makedirs\n",
    "from shutil import copyfile\n",
    "from praatio import tgio\n",
    "from tqdm import tqdm\n",
    "from glob import glob\n",
    "import librosa\n",
    "import pandas as pd\n",
    "\n",
    "from cac.utils.io import load_json, write_txt"
   ]
  },
  {
   "cell_type": "code",
   "execution_count": null,
   "metadata": {},
   "outputs": [],
   "source": [
    "# directory where the data resides\n",
    "data_root = '/data/coswara-15-03-21/'"
   ]
  },
  {
   "cell_type": "code",
   "execution_count": null,
   "metadata": {},
   "outputs": [],
   "source": [
    "# src and destination directories\n",
    "load_dir = join(data_root, 'raw')\n",
    "save_root = join(data_root, 'processed')"
   ]
  },
  {
   "cell_type": "code",
   "execution_count": null,
   "metadata": {},
   "outputs": [],
   "source": [
    "makedirs(save_root, exist_ok=True)"
   ]
  },
  {
   "cell_type": "code",
   "execution_count": null,
   "metadata": {},
   "outputs": [],
   "source": [
    "load_audio_dir = join(load_dir, 'audio')\n",
    "load_annotation_dir = join(load_dir, 'annotations')"
   ]
  },
  {
   "cell_type": "code",
   "execution_count": null,
   "metadata": {},
   "outputs": [],
   "source": [
    "save_audio_dir = join(save_root, 'audio')\n",
    "makedirs(save_audio_dir, exist_ok=True)"
   ]
  },
  {
   "cell_type": "markdown",
   "metadata": {},
   "source": [
    "### Create symlinks to the original .wav files"
   ]
  },
  {
   "cell_type": "code",
   "execution_count": null,
   "metadata": {},
   "outputs": [],
   "source": [
    "date_dirs = glob(join(load_audio_dir, '*'))\n",
    "\n",
    "user_dirs = []\n",
    "for date in date_dirs:\n",
    "    user_dirs.extend(glob(join(date, '*')))"
   ]
  },
  {
   "cell_type": "code",
   "execution_count": null,
   "metadata": {},
   "outputs": [],
   "source": [
    "len(date_dirs), len(user_dirs)"
   ]
  },
  {
   "cell_type": "code",
   "execution_count": null,
   "metadata": {},
   "outputs": [],
   "source": [
    "for user_dir in tqdm(user_dirs):\n",
    "    user_name = basename(user_dir)\n",
    "    date = basename(basename(user_dir))\n",
    "\n",
    "    user_audio_files = glob(join(user_dir, '*.wav'))\n",
    "    for audio_file in user_audio_files:\n",
    "        file_name = basename(audio_file)\n",
    "        dest = join(save_audio_dir, '{}-{}-{}'.format(date, user_name, file_name))\n",
    "        if not exists(dest):\n",
    "            symlink(audio_file, dest)"
   ]
  },
  {
   "cell_type": "markdown",
   "metadata": {},
   "source": [
    "### Create attributes and annotation files"
   ]
  },
  {
   "cell_type": "code",
   "execution_count": null,
   "metadata": {},
   "outputs": [],
   "source": [
    "attributes = pd.read_csv(join(load_dir, 'annotations/combined_data.csv'))"
   ]
  },
  {
   "cell_type": "code",
   "execution_count": null,
   "metadata": {},
   "outputs": [],
   "source": [
    "labels_legend = load_json(join(load_dir, 'annotations/csv_labels_legend.json'))"
   ]
  },
  {
   "cell_type": "code",
   "execution_count": null,
   "metadata": {},
   "outputs": [],
   "source": [
    "attributes"
   ]
  },
  {
   "cell_type": "code",
   "execution_count": null,
   "metadata": {},
   "outputs": [],
   "source": [
    "files, users, labels = [], [], []\n",
    "\n",
    "for user_dir in tqdm(user_dirs):\n",
    "    user_name = basename(user_dir)\n",
    "    user_audio_files = glob(join(user_dir, '*.wav'))\n",
    "    for audio_file in user_audio_files:\n",
    "        duration = librosa.get_duration(filename=audio_file)\n",
    "        if duration == 0:\n",
    "            continue\n",
    "\n",
    "        file_name = basename(audio_file)\n",
    "        labels.append(splitext(file_name)[0])\n",
    "        files.append(file_name)\n",
    "        users.append(user_name)"
   ]
  },
  {
   "cell_type": "code",
   "execution_count": null,
   "metadata": {},
   "outputs": [],
   "source": [
    "annotation = pd.DataFrame({'file': files, 'id': users, 'label': labels})"
   ]
  },
  {
   "cell_type": "code",
   "execution_count": null,
   "metadata": {},
   "outputs": [],
   "source": [
    "full_attributes = pd.merge(annotation, attributes, on='id')"
   ]
  },
  {
   "cell_type": "code",
   "execution_count": null,
   "metadata": {},
   "outputs": [],
   "source": [
    "# save the dataframe\n",
    "attributes_save_path = join(save_root, 'attributes.csv')\n",
    "full_attributes.to_csv(attributes_save_path, index=False)"
   ]
  },
  {
   "cell_type": "code",
   "execution_count": null,
   "metadata": {},
   "outputs": [],
   "source": [
    "annotation = annotation.rename(columns={'label': 'classification'})"
   ]
  },
  {
   "cell_type": "code",
   "execution_count": null,
   "metadata": {},
   "outputs": [],
   "source": [
    "annotation['classification'] = annotation['classification'].apply(lambda x: [x])"
   ]
  },
  {
   "cell_type": "code",
   "execution_count": null,
   "metadata": {},
   "outputs": [],
   "source": [
    "annotation.head()"
   ]
  },
  {
   "cell_type": "code",
   "execution_count": null,
   "metadata": {},
   "outputs": [],
   "source": [
    "annotation[annotation['id'] == 'Na6w7stX7ocNYZPQW9MQAiM6mrw2']['classification'].values"
   ]
  },
  {
   "cell_type": "code",
   "execution_count": null,
   "metadata": {},
   "outputs": [],
   "source": [
    "# save the dataframe\n",
    "annotation_save_path = join(save_root, 'annotation.csv')\n",
    "annotation.to_csv(annotation_save_path, index=False)"
   ]
  },
  {
   "cell_type": "code",
   "execution_count": null,
   "metadata": {},
   "outputs": [],
   "source": [
    "description = \"\\\n",
    "Annotation columns: \\n \\\n",
    "`classification`: valid labels = [''cough-heavy', 'counting-fast', 'counting-normal', \\\n",
    " 'cough-shallow','vowel-o', 'breathing-deep', 'vowel-e', 'vowel-a','breathing-shallow''] \\n \\\n",
    "\\\n",
    "Voice samples collected include breathing sounds (fast and slow), cough sounds (deep and shallow), \\\n",
    "phonation of sustained vowels (/a/ as in made, /i/,/o/), and counting numbers at slow and fast pace. \\\n",
    "Metadata information collected includes the participant's age, gender, location (country, state/ province), \\\n",
    "current health status (healthy/ exposed/ cured/ infected) and the presence of comorbidities \\\n",
    "(pre-existing medical conditions).\\n\""
   ]
  },
  {
   "cell_type": "code",
   "execution_count": null,
   "metadata": {},
   "outputs": [],
   "source": [
    "write_txt(description, join(save_root, 'description.txt'))"
   ]
  },
  {
   "cell_type": "code",
   "execution_count": null,
   "metadata": {},
   "outputs": [],
   "source": []
  }
 ],
 "metadata": {
  "kernelspec": {
   "display_name": "Python 3",
   "language": "python",
   "name": "python3"
  },
  "language_info": {
   "codemirror_mode": {
    "name": "ipython",
    "version": 3
   },
   "file_extension": ".py",
   "mimetype": "text/x-python",
   "name": "python",
   "nbconvert_exporter": "python",
   "pygments_lexer": "ipython3",
   "version": "3.6.9"
  }
 },
 "nbformat": 4,
 "nbformat_minor": 4
}
