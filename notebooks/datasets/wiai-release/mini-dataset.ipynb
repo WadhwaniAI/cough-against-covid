{
 "cells": [
  {
   "cell_type": "markdown",
   "metadata": {},
   "source": [
    "#### Creating mini-dataset"
   ]
  },
  {
   "cell_type": "code",
   "execution_count": 1,
   "metadata": {},
   "outputs": [],
   "source": [
    "%load_ext autoreload\n",
    "%autoreload 2"
   ]
  },
  {
   "cell_type": "code",
   "execution_count": 2,
   "metadata": {},
   "outputs": [],
   "source": [
    "import os\n",
    "from cac.utils.io import read_yml\n",
    "from os.path import join\n",
    "from glob import glob\n",
    "import matplotlib.pyplot as plt\n",
    "import numpy as np\n",
    "from tqdm import tqdm\n",
    "import pandas as pd\n",
    "\n",
    "from cac.data.audio import AudioItem\n",
    "from cac.data.transforms import DataProcessor\n",
    "from cac.utils.viz import plot_raw_audio_signal, plot_spectrogram_image"
   ]
  },
  {
   "cell_type": "code",
   "execution_count": 3,
   "metadata": {},
   "outputs": [],
   "source": [
    "DATA_DIR = \"/data/wiai-facility/\"\n",
    "all_audio_files = glob(join(DATA_DIR, \"processed\", \"audio\", \"*.wav\"))"
   ]
  },
  {
   "cell_type": "code",
   "execution_count": 4,
   "metadata": {},
   "outputs": [],
   "source": [
    "MINI_DATA_RELEASE_DIR = \"/data/wiai-release-mini-audios/\"\n",
    "MINI_SPECTROGRAM_DATA_RELEASE_DIR = \"/data/wiai-release-mini-spectrograms/\"\n",
    "os.makedirs(MINI_DATA_RELEASE_DIR, exist_ok = True)\n",
    "os.makedirs(MINI_SPECTROGRAM_DATA_RELEASE_DIR, exist_ok = True)"
   ]
  },
  {
   "cell_type": "markdown",
   "metadata": {},
   "source": [
    "### Add 100 raw audio files"
   ]
  },
  {
   "cell_type": "code",
   "execution_count": 5,
   "metadata": {},
   "outputs": [],
   "source": [
    "os.makedirs(os.path.join(MINI_DATA_RELEASE_DIR, 'raw', 'audio'), exist_ok = True)"
   ]
  },
  {
   "cell_type": "code",
   "execution_count": 6,
   "metadata": {},
   "outputs": [],
   "source": [
    "annotations = pd.read_csv('/data/wiai-facility/processed/annotation_nov23.csv')"
   ]
  },
  {
   "cell_type": "code",
   "execution_count": 7,
   "metadata": {},
   "outputs": [
    {
     "name": "stderr",
     "output_type": "stream",
     "text": [
      "  0%|          | 290/83838 [00:00<02:29, 559.98it/s]\n"
     ]
    }
   ],
   "source": [
    "i = 0\n",
    "for audio_file in tqdm(all_audio_files):\n",
    "    src_path = audio_file\n",
    "    dest_path = os.path.join(MINI_DATA_RELEASE_DIR, 'raw', 'audio', audio_file.split('/')[-1])\n",
    "    if 'cough' in src_path and audio_file in annotations.file.values:\n",
    "        i += 1\n",
    "        os.symlink(src_path, dest_path)\n",
    "    if i == 100:\n",
    "        break"
   ]
  },
  {
   "cell_type": "markdown",
   "metadata": {},
   "source": [
    "### Create spectrogram inputs from mini dataset"
   ]
  },
  {
   "cell_type": "code",
   "execution_count": 8,
   "metadata": {},
   "outputs": [],
   "source": [
    "mini_dataset_audio_files = glob(join(MINI_DATA_RELEASE_DIR, \"raw\", \"audio\", \"*.wav\"))"
   ]
  },
  {
   "cell_type": "code",
   "execution_count": 9,
   "metadata": {},
   "outputs": [
    {
     "data": {
      "text/plain": [
       "100"
      ]
     },
     "execution_count": 9,
     "metadata": {},
     "output_type": "execute_result"
    }
   ],
   "source": [
    "len(mini_dataset_audio_files)"
   ]
  },
  {
   "cell_type": "code",
   "execution_count": 10,
   "metadata": {
    "jupyter": {
     "source_hidden": true
    }
   },
   "outputs": [],
   "source": [
    "transforms_cfg = [\n",
    "    {\n",
    "        \"name\": \"ToTensor\",\n",
    "        \"params\": {\"device\": \"cpu\"}\n",
    "    },\n",
    "    {\n",
    "        \"name\": \"Resample\",\n",
    "        \"params\": {\n",
    "            \"orig_freq\": 44100,\n",
    "            \"new_freq\": 16000\n",
    "        }\n",
    "    },\n",
    "    {\n",
    "        \"name\": \"BackgroundNoise\",\n",
    "        \"params\": {\n",
    "            \"dataset_config\": [\n",
    "                {\n",
    "                    \"name\": \"esc-50\",\n",
    "                    \"version\": \"default\",\n",
    "                    \"mode\": \"all\"\n",
    "                }\n",
    "            ],\n",
    "            \"min_noise_scale\": 0.4,\n",
    "            \"max_noise_scale\": 0.75\n",
    "        }\n",
    "    },\n",
    "    {\n",
    "        \"name\": \"Spectrogram\",\n",
    "        \"params\": {\n",
    "            \"n_fft\": 512,\n",
    "            \"win_length\": 512,\n",
    "            \"hop_length\": 160\n",
    "        }\n",
    "    },\n",
    "    {\n",
    "        \"name\": \"MelScale\",\n",
    "        \"params\": {\n",
    "            \"n_mels\": 64,\n",
    "            \"sample_rate\": 16000,\n",
    "            \"f_min\": 125,\n",
    "            \"f_max\": 7500\n",
    "        }\n",
    "    },\n",
    "    {\n",
    "        \"name\": \"AmplitudeToDB\",\n",
    "        \"params\": {}\n",
    "    },\n",
    "    {\n",
    "        \"name\": \"ToNumpy\",\n",
    "        \"params\": {}\n",
    "    },\n",
    "]"
   ]
  },
  {
   "cell_type": "code",
   "execution_count": 11,
   "metadata": {},
   "outputs": [
    {
     "name": "stderr",
     "output_type": "stream",
     "text": [
      "Loading items: 100%|██████████| 2000/2000 [00:00<00:00, 387984.27it/s]\n"
     ]
    }
   ],
   "source": [
    "signal_transform = DataProcessor(transforms_cfg)"
   ]
  },
  {
   "cell_type": "code",
   "execution_count": 12,
   "metadata": {},
   "outputs": [],
   "source": [
    "os.makedirs(os.path.join(MINI_SPECTROGRAM_DATA_RELEASE_DIR, 'processed', 'spectrograms'), exist_ok = True)\n",
    "spec_save_path = os.path.join(MINI_SPECTROGRAM_DATA_RELEASE_DIR, 'processed', 'spectrograms')"
   ]
  },
  {
   "cell_type": "code",
   "execution_count": 13,
   "metadata": {},
   "outputs": [
    {
     "name": "stderr",
     "output_type": "stream",
     "text": [
      "100%|██████████| 100/100 [00:14<00:00,  5.54it/s]\n"
     ]
    }
   ],
   "source": [
    "for mini_audio_file in tqdm(mini_dataset_audio_files):\n",
    "    audio_file_name = mini_audio_file.split('/')[-1].split('.')[0]\n",
    "    item = AudioItem(path=mini_audio_file)\n",
    "    signal = item.load()[\"signal\"]\n",
    "    transformed_signal = signal_transform(signal)\n",
    "    \n",
    "    dest_path = os.path.join(spec_save_path, f'{audio_file_name}.npy')\n",
    "    np.save(dest_path, transformed_signal)"
   ]
  },
  {
   "cell_type": "markdown",
   "metadata": {},
   "source": [
    "### Create Corresponding yml file"
   ]
  },
  {
   "cell_type": "code",
   "execution_count": 14,
   "metadata": {},
   "outputs": [],
   "source": [
    "from cac.utils.io import read_yml\n",
    "import librosa"
   ]
  },
  {
   "cell_type": "code",
   "execution_count": 15,
   "metadata": {},
   "outputs": [],
   "source": [
    "# ['end', 'file', 'label', 'start']\n",
    "# {'classification': []}, {'classification': ['covid']}"
   ]
  },
  {
   "cell_type": "code",
   "execution_count": 16,
   "metadata": {},
   "outputs": [],
   "source": [
    "spec_input_yml = dict()"
   ]
  },
  {
   "cell_type": "code",
   "execution_count": 17,
   "metadata": {},
   "outputs": [],
   "source": [
    "splits = ['all', 'train', 'val', 'test']"
   ]
  },
  {
   "cell_type": "code",
   "execution_count": 18,
   "metadata": {},
   "outputs": [],
   "source": [
    "start_list, file_list, end_list, label_list = [], [], [], []"
   ]
  },
  {
   "cell_type": "code",
   "execution_count": 19,
   "metadata": {},
   "outputs": [
    {
     "name": "stderr",
     "output_type": "stream",
     "text": [
      "100%|██████████| 100/100 [00:00<00:00, 177.44it/s]\n"
     ]
    }
   ],
   "source": [
    "for mini_audio_file in tqdm(mini_dataset_audio_files):\n",
    "    start = 0.\n",
    "    end = librosa.get_duration(filename = mini_audio_file)\n",
    "    file_name = mini_audio_file.split('/')[-1]\n",
    "    path = os.path.join('/data/wiai-facility/processed/audio', file_name)\n",
    "    label_ = eval(annotations[annotations.file == path].iloc[:, 1].values[0])[-1]\n",
    "    if label_ == 'Negative':\n",
    "        label = {'classification': []}\n",
    "    else:\n",
    "        label = {'classification': ['covid']}\n",
    "    file_name_prep = file_name.split('.')[0]\n",
    "    spec_file_path = os.path.join(spec_save_path, f'{file_name_prep}.npy')\n",
    "    os.path.exists(spec_file_path)\n",
    "    \n",
    "    start_list.append(start)\n",
    "    end_list.append(end)\n",
    "    file_list.append(spec_file_path)\n",
    "    label_list.append(label)"
   ]
  },
  {
   "cell_type": "code",
   "execution_count": 20,
   "metadata": {},
   "outputs": [],
   "source": [
    "for split in splits:\n",
    "    spec_input_yml[split] = {\n",
    "        'file' : file_list,\n",
    "        'label' : label_list,\n",
    "        'start' : start_list,\n",
    "        'end' : end_list\n",
    "    }"
   ]
  },
  {
   "cell_type": "markdown",
   "metadata": {},
   "source": [
    "#### Save yml file"
   ]
  },
  {
   "cell_type": "code",
   "execution_count": 21,
   "metadata": {},
   "outputs": [],
   "source": [
    "from cac.utils.io import save_yml"
   ]
  },
  {
   "cell_type": "code",
   "execution_count": 22,
   "metadata": {},
   "outputs": [],
   "source": [
    "split_file_path = os.path.join(MINI_SPECTROGRAM_DATA_RELEASE_DIR, 'processed', 'versions')\n",
    "os.makedirs(split_file_path, exist_ok = True)"
   ]
  },
  {
   "cell_type": "code",
   "execution_count": 23,
   "metadata": {},
   "outputs": [],
   "source": [
    "spec_split_file_name = os.path.join(split_file_path, 'default.yml')\n",
    "save_yml(spec_input_yml, spec_split_file_name)"
   ]
  },
  {
   "cell_type": "code",
   "execution_count": 24,
   "metadata": {},
   "outputs": [
    {
     "data": {
      "text/plain": [
       "'/data/wiai-release-mini-spectrograms/processed/versions/default.yml'"
      ]
     },
     "execution_count": 24,
     "metadata": {},
     "output_type": "execute_result"
    }
   ],
   "source": [
    "spec_split_file_name"
   ]
  },
  {
   "cell_type": "code",
   "execution_count": null,
   "metadata": {},
   "outputs": [],
   "source": []
  }
 ],
 "metadata": {
  "kernelspec": {
   "display_name": "Python 3",
   "language": "python",
   "name": "python3"
  },
  "language_info": {
   "codemirror_mode": {
    "name": "ipython",
    "version": 3
   },
   "file_extension": ".py",
   "mimetype": "text/x-python",
   "name": "python",
   "nbconvert_exporter": "python",
   "pygments_lexer": "ipython3",
   "version": "3.6.9"
  }
 },
 "nbformat": 4,
 "nbformat_minor": 4
}
