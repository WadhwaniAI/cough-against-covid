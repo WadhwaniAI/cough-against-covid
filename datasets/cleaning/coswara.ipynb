{
 "cells": [
  {
   "cell_type": "code",
   "execution_count": 1,
   "metadata": {},
   "outputs": [],
   "source": [
    "from collections import defaultdict\n",
    "from os.path import join, exists, splitext, basename\n",
    "from os import listdir, symlink, makedirs\n",
    "from shutil import copyfile\n",
    "from praatio import tgio\n",
    "from tqdm import tqdm\n",
    "from glob import glob\n",
    "import librosa\n",
    "import pandas as pd"
   ]
  },
  {
   "cell_type": "code",
   "execution_count": 2,
   "metadata": {},
   "outputs": [],
   "source": [
    "# directory where the data resides\n",
    "data_root = '/data/coswara-15-03-21/'"
   ]
  },
  {
   "cell_type": "code",
   "execution_count": 3,
   "metadata": {},
   "outputs": [],
   "source": [
    "# src and destination directories\n",
    "load_dir = join(data_root, 'raw')\n",
    "save_root = join(data_root, 'processed')"
   ]
  },
  {
   "cell_type": "code",
   "execution_count": 4,
   "metadata": {},
   "outputs": [],
   "source": [
    "makedirs(save_root, exist_ok=True)"
   ]
  },
  {
   "cell_type": "code",
   "execution_count": 5,
   "metadata": {},
   "outputs": [],
   "source": [
    "load_audio_dir = join(load_dir, 'audio')\n",
    "load_annotation_dir = join(load_dir, 'annotations')"
   ]
  },
  {
   "cell_type": "code",
   "execution_count": 14,
   "metadata": {},
   "outputs": [],
   "source": [
    "save_audio_dir = join(save_root, 'audio')\n",
    "makedirs(save_audio_dir, exist_ok=True)"
   ]
  },
  {
   "cell_type": "markdown",
   "metadata": {},
   "source": [
    "### Create symlinks to the original .wav files"
   ]
  },
  {
   "cell_type": "code",
   "execution_count": 8,
   "metadata": {},
   "outputs": [],
   "source": [
    "date_dirs = glob(join(load_audio_dir, '*'))\n",
    "\n",
    "user_dirs = []\n",
    "for date in date_dirs:\n",
    "    user_dirs.append(glob(join(date, '*')))"
   ]
  },
  {
   "cell_type": "code",
   "execution_count": 16,
   "metadata": {},
   "outputs": [
    {
     "name": "stdout",
     "output_type": "stream",
     "text": [
      "processed\n"
     ]
    }
   ],
   "source": [
    "!ls /data/coswara-15-03-21"
   ]
  },
  {
   "cell_type": "code",
   "execution_count": 15,
   "metadata": {},
   "outputs": [
    {
     "name": "stdout",
     "output_type": "stream",
     "text": [
      "ls: cannot access '/data/coswara-15-03-21/raw/audio': No such file or directory\n"
     ]
    }
   ],
   "source": [
    "!ls $load_audio_dir"
   ]
  },
  {
   "cell_type": "code",
   "execution_count": 9,
   "metadata": {},
   "outputs": [
    {
     "data": {
      "text/plain": [
       "[]"
      ]
     },
     "execution_count": 9,
     "metadata": {},
     "output_type": "execute_result"
    }
   ],
   "source": [
    "date_dirs"
   ]
  },
  {
   "cell_type": "code",
   "execution_count": null,
   "metadata": {},
   "outputs": [],
   "source": [
    "for user_dir in tqdm(user_dirs):\n",
    "    user_name = basename(user_dir)\n",
    "    date = basename(basename(user_dir))\n",
    "\n",
    "    user_audio_files = glob(join(user_dir, '*.wav'))\n",
    "    for audio_file in user_audio_files:\n",
    "        file_name = basename(audio_file)\n",
    "        dest = join(save_audio_dir, '{}-{}-{}'.format(date, user_name, file_name))\n",
    "        if not exists(dest):\n",
    "            symlink(audio_file, dest)\n",
    "    break"
   ]
  },
  {
   "cell_type": "markdown",
   "metadata": {},
   "source": [
    "### Create attributes file"
   ]
  },
  {
   "cell_type": "code",
   "execution_count": null,
   "metadata": {},
   "outputs": [],
   "source": []
  },
  {
   "cell_type": "markdown",
   "metadata": {},
   "source": [
    "### Create annotations file"
   ]
  },
  {
   "cell_type": "code",
   "execution_count": null,
   "metadata": {},
   "outputs": [],
   "source": []
  }
 ],
 "metadata": {
  "kernelspec": {
   "display_name": "Python 3",
   "language": "python",
   "name": "python3"
  },
  "language_info": {
   "codemirror_mode": {
    "name": "ipython",
    "version": 3
   },
   "file_extension": ".py",
   "mimetype": "text/x-python",
   "name": "python",
   "nbconvert_exporter": "python",
   "pygments_lexer": "ipython3",
   "version": "3.6.9"
  }
 },
 "nbformat": 4,
 "nbformat_minor": 4
}
