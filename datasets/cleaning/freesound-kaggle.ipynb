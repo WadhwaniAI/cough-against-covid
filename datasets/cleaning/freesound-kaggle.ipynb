{
 "cells": [
  {
   "cell_type": "code",
   "execution_count": null,
   "metadata": {},
   "outputs": [],
   "source": [
    "%load_ext autoreload\n",
    "%autoreload 2"
   ]
  },
  {
   "cell_type": "code",
   "execution_count": null,
   "metadata": {},
   "outputs": [],
   "source": [
    "import pickle\n",
    "from collections import defaultdict\n",
    "from os.path import join, exists, splitext, basename, isdir\n",
    "from os import listdir, symlink, makedirs\n",
    "from glob import glob\n",
    "from praatio import tgio\n",
    "from termcolor import colored\n",
    "from tqdm import tqdm\n",
    "import pandas as pd\n",
    "import numpy as np\n",
    "from librosa import get_duration\n",
    "import scipy.io.wavfile as wav\n",
    "\n",
    "from cac.utils.pandas import apply_antifilters"
   ]
  },
  {
   "cell_type": "code",
   "execution_count": null,
   "metadata": {},
   "outputs": [],
   "source": [
    "# directory where the data resides\n",
    "data_root = '/data/freesound-kaggle/'\n",
    "\n",
    "# src and destination directories\n",
    "load_dir = join(data_root, 'raw')\n",
    "save_root = join(data_root, 'processed')\n",
    "\n",
    "makedirs(save_root, exist_ok=True)\n",
    "\n",
    "load_audio_dir = join(load_dir, 'audio')\n",
    "save_audio_dir = join(save_root, 'audio')\n",
    "makedirs(save_audio_dir, exist_ok=True)"
   ]
  },
  {
   "cell_type": "code",
   "execution_count": null,
   "metadata": {},
   "outputs": [],
   "source": [
    "files = glob(join(load_audio_dir, '*.wav'))"
   ]
  },
  {
   "cell_type": "code",
   "execution_count": null,
   "metadata": {},
   "outputs": [],
   "source": [
    "len(files)"
   ]
  },
  {
   "cell_type": "code",
   "execution_count": null,
   "metadata": {},
   "outputs": [],
   "source": [
    "invalid_files = []\n",
    "\n",
    "for file in tqdm(files, desc='Checking valid files'):\n",
    "    try:\n",
    "        fs,signal = wav.read(file)\n",
    "    except:\n",
    "        import ipdb; ipdb.set_trace()\n",
    "        invalid_files.append(file)"
   ]
  },
  {
   "cell_type": "code",
   "execution_count": null,
   "metadata": {},
   "outputs": [],
   "source": [
    "len(invalid_files)"
   ]
  },
  {
   "cell_type": "code",
   "execution_count": null,
   "metadata": {},
   "outputs": [],
   "source": [
    "# -------- Creating `processed/audio` -------- #"
   ]
  },
  {
   "cell_type": "code",
   "execution_count": null,
   "metadata": {},
   "outputs": [],
   "source": [
    "files = []\n",
    "\n",
    "for file in tqdm(glob(join(load_audio_dir, '*.wav')), desc='Creating symlinks processed/ <- raw/'):\n",
    "#     print(file)\n",
    "        \n",
    "    save_filename = basename(file)\n",
    "    save_path = join(save_audio_dir, save_filename)\n",
    "\n",
    "    # ignore .wav\n",
    "    files.append(splitext(save_filename)[0])\n",
    "\n",
    "    if not exists(save_path):\n",
    "        symlink(file, save_path)"
   ]
  },
  {
   "cell_type": "code",
   "execution_count": null,
   "metadata": {},
   "outputs": [],
   "source": [
    "# -------- Creating `processed/annotation.csv` -------- #"
   ]
  },
  {
   "cell_type": "code",
   "execution_count": null,
   "metadata": {},
   "outputs": [],
   "source": [
    "train_annotations = pd.read_csv(join(load_dir, 'train_post_competition.csv'))\n",
    "test_annotations = pd.read_csv(join(load_dir, 'test_post_competition_scoring_clips.csv'))"
   ]
  },
  {
   "cell_type": "code",
   "execution_count": null,
   "metadata": {},
   "outputs": [],
   "source": [
    "# making both the DFs have the same columns"
   ]
  },
  {
   "cell_type": "code",
   "execution_count": null,
   "metadata": {},
   "outputs": [],
   "source": [
    "train_annotations['usage'] = 'Public'"
   ]
  },
  {
   "cell_type": "code",
   "execution_count": null,
   "metadata": {},
   "outputs": [],
   "source": [
    "train_annotations.head()"
   ]
  },
  {
   "cell_type": "code",
   "execution_count": null,
   "metadata": {},
   "outputs": [],
   "source": [
    "test_annotations['manually_verified'] = 1"
   ]
  },
  {
   "cell_type": "code",
   "execution_count": null,
   "metadata": {},
   "outputs": [],
   "source": [
    "test_annotations.head()"
   ]
  },
  {
   "cell_type": "code",
   "execution_count": null,
   "metadata": {},
   "outputs": [],
   "source": [
    "len(train_annotations), len(test_annotations)"
   ]
  },
  {
   "cell_type": "code",
   "execution_count": null,
   "metadata": {},
   "outputs": [],
   "source": [
    "attributes = train_annotations.append(test_annotations)"
   ]
  },
  {
   "cell_type": "code",
   "execution_count": null,
   "metadata": {},
   "outputs": [],
   "source": [
    "# removing rows for which audio file was not extracted properly or does not exist"
   ]
  },
  {
   "cell_type": "code",
   "execution_count": null,
   "metadata": {},
   "outputs": [],
   "source": [
    "len(invalid_files)"
   ]
  },
  {
   "cell_type": "code",
   "execution_count": null,
   "metadata": {},
   "outputs": [],
   "source": [
    "attributes = apply_antifilters(attributes, {'fname': [basename(x) for x in invalid_files]})"
   ]
  },
  {
   "cell_type": "code",
   "execution_count": null,
   "metadata": {},
   "outputs": [],
   "source": [
    "attributes.shape"
   ]
  },
  {
   "cell_type": "code",
   "execution_count": null,
   "metadata": {},
   "outputs": [],
   "source": [
    "attributes['label'] = attributes['label'].apply(lambda x: x.lower())"
   ]
  },
  {
   "cell_type": "code",
   "execution_count": null,
   "metadata": {},
   "outputs": [],
   "source": [
    "files = [splitext(f)[0] for f in attributes['fname']]\n",
    "classification_targets = [[label] for label in attributes['label']]\n",
    "len(files), len(classification_targets)"
   ]
  },
  {
   "cell_type": "code",
   "execution_count": null,
   "metadata": {},
   "outputs": [],
   "source": [
    "starts = [0.0 for _ in files]\n",
    "ends = [get_duration(filename=join(load_dir, 'audio', x + '.wav')) for x in tqdm(files)]"
   ]
  },
  {
   "cell_type": "code",
   "execution_count": null,
   "metadata": {},
   "outputs": [],
   "source": [
    "# create dataframe storing the data\n",
    "final_df = pd.DataFrame(\n",
    "    {'file': files, 'classification': classification_targets, 'manually_verified': attributes['manually_verified'], 'start': starts, 'end': ends}\n",
    ")"
   ]
  },
  {
   "cell_type": "code",
   "execution_count": null,
   "metadata": {},
   "outputs": [],
   "source": [
    "final_df.head()"
   ]
  },
  {
   "cell_type": "code",
   "execution_count": null,
   "metadata": {},
   "outputs": [],
   "source": [
    "# save the dataframe\n",
    "annotation_save_path = join(save_root, 'annotation.csv')\n",
    "final_df.to_csv(annotation_save_path, index=False)"
   ]
  },
  {
   "cell_type": "code",
   "execution_count": null,
   "metadata": {},
   "outputs": [],
   "source": [
    "# -------- Creating `processed/attributes.csv` -------- #"
   ]
  },
  {
   "cell_type": "code",
   "execution_count": null,
   "metadata": {},
   "outputs": [],
   "source": [
    "attributes.head()"
   ]
  },
  {
   "cell_type": "code",
   "execution_count": null,
   "metadata": {},
   "outputs": [],
   "source": [
    "# save the dataframe\n",
    "attribute_save_path = join(save_root, 'attributes.csv')\n",
    "attributes.to_csv(attribute_save_path, index=False)"
   ]
  },
  {
   "cell_type": "code",
   "execution_count": null,
   "metadata": {},
   "outputs": [],
   "source": [
    "# -------- Creating `processed/description.txt` -------- #"
   ]
  },
  {
   "cell_type": "code",
   "execution_count": null,
   "metadata": {},
   "outputs": [],
   "source": [
    "description = '\\\n",
    "Annotation columns: \\n \\\n",
    "`classification`: valid labels = [\"Acoustic_guitar\", \"Applause\", \"Bark\", \"Bass_drum\", \"Burping_or_eructation\", \"Bus\", \\n \\\n",
    "    \"Cello\", \"Chime\", \"Clarinet\", \"Computer_keyboard\", \"Cough\", \"Cowbell\", \"Double_bass\", \"Drawer_open_or_close\", \\n \\\n",
    "    \"Electric_piano\", \"Fart\", \"Finger_snapping\", \"Fireworks\", \"Flute\", \"Glockenspiel\", \"Gong\", \"Gunshot_or_gunfire\", \\n \\\n",
    "    \"Harmonica\", \"Hi-hat\", \"Keys_jangling\", \"Knock\", \"Laughter\", \"Meow\", \"Microwave_oven\", \"Oboe\", \"Saxophone\", \"Scissors\", \\n \\\n",
    "    \"Shatter\", \"Snare_drum\", \"Squeak\", \"Tambourine\", \"Tearing\", \"Telephone\", \"Trumpet\", \"Violin_or_fiddle\", \"Writing\"\\n \\\n",
    "\\n \\\n",
    "Attributes: \\n \\\n",
    "`names`: [\"fname\", \"label\", \"manually_verified\", \"freesound_id\", \"license\", \"usage\"]'"
   ]
  },
  {
   "cell_type": "code",
   "execution_count": null,
   "metadata": {},
   "outputs": [],
   "source": [
    "with open(join(save_root, 'description.txt'), 'w') as f:\n",
    "    f.write(description)"
   ]
  },
  {
   "cell_type": "code",
   "execution_count": null,
   "metadata": {},
   "outputs": [],
   "source": []
  }
 ],
 "metadata": {
  "kernelspec": {
   "display_name": "Python 3",
   "language": "python",
   "name": "python3"
  },
  "language_info": {
   "codemirror_mode": {
    "name": "ipython",
    "version": 3
   },
   "file_extension": ".py",
   "mimetype": "text/x-python",
   "name": "python",
   "nbconvert_exporter": "python",
   "pygments_lexer": "ipython3",
   "version": "3.6.9"
  }
 },
 "nbformat": 4,
 "nbformat_minor": 4
}
