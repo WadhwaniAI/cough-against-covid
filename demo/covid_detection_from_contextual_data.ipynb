{
 "cells": [
  {
   "cell_type": "markdown",
   "metadata": {},
   "source": [
    "<center>\n",
    "    <h3>\n",
    "        <a href=\"https://www.wadhwaniai.org/work/cough-against-covid/\">Cough Against COVID-19</a>\n",
    "    </h3>\n",
    "    This is a demo notebook to test COVID-19 detector model on a sample contextual data\n",
    "</center>\n",
    "\n",
    "### Instructions for use:\n",
    "1. Manually fill in values in the load contextual data step\n",
    "\n",
    "> **Important Note**: Please understand that these predictions are from a model that has not gone through clinical trials and thus, please treat these predictions only as a demo and consult your medical professionals for clinical advice. "
   ]
  },
  {
   "cell_type": "code",
   "execution_count": null,
   "metadata": {},
   "outputs": [],
   "source": [
    "%load_ext autoreload\n",
    "%autoreload 2"
   ]
  },
  {
   "cell_type": "code",
   "execution_count": 2,
   "metadata": {},
   "outputs": [],
   "source": [
    "import os\n",
    "from os.path import join, splitext, exists\n",
    "from subprocess import call\n",
    "from IPython.display import Markdown as md\n",
    "import torch\n",
    "\n",
    "from cac.config import Config\n",
    "from cac.utils.logger import set_logger, color\n",
    "from cac.models import factory as model_factory\n",
    "from utils import _preprocess_raw_context_data, check_data_correct_format\n",
    "import ipywidgets as widgets"
   ]
  },
  {
   "cell_type": "markdown",
   "metadata": {},
   "source": [
    "##### Load trained model"
   ]
  },
  {
   "cell_type": "code",
   "execution_count": 3,
   "metadata": {},
   "outputs": [],
   "source": [
    "version = \"iclrw/context/v9.7/context-neural.yml\"\n",
    "config_path = join(\"experiments\", version)\n",
    "\n",
    "ckpt = 31\n",
    "ckpt_path = join(splitext(version)[0], f'checkpoints/{ckpt}_ckpt.pth.tar')\n",
    "\n",
    "# please configure threshold based on model performance on validation set\n",
    "# for the given model, we observed best threshold to be as follows in order\n",
    "# to maximize precision at a recall of 90%\n",
    "threshold = 0.3862"
   ]
  },
  {
   "cell_type": "code",
   "execution_count": 4,
   "metadata": {},
   "outputs": [],
   "source": [
    "# # check if model exists within the repository\n",
    "assert exists(join(\"../assets/models\", ckpt_path))"
   ]
  },
  {
   "cell_type": "code",
   "execution_count": 5,
   "metadata": {},
   "outputs": [],
   "source": [
    "# # check if config file exists within the repository\n",
    "assert exists(join('../configs/', config_path))"
   ]
  },
  {
   "cell_type": "code",
   "execution_count": 6,
   "metadata": {},
   "outputs": [
    {
     "name": "stdout",
     "output_type": "stream",
     "text": [
      "\u001b[33mCopying from /workspace/cough-against-covid/assets/models/iclrw/context/v9.7/context-neural/checkpoints/31_ckpt.pth.tar to /output//iclrw/context/v9.7/context-neural/checkpoints/31_ckpt.pth.tar\u001b[0m\n",
      "sending incremental file list\n",
      "\n",
      "sent 54 bytes  received 12 bytes  132.00 bytes/sec\n",
      "total size is 433,841  speedup is 6,573.35\n"
     ]
    }
   ],
   "source": [
    "!python ../training/copy_model_ckpts.py -p $ckpt_path"
   ]
  },
  {
   "cell_type": "markdown",
   "metadata": {},
   "source": [
    "##### Load and set config parameters appropriately"
   ]
  },
  {
   "cell_type": "code",
   "execution_count": 7,
   "metadata": {},
   "outputs": [],
   "source": [
    "config = Config(config_path)"
   ]
  },
  {
   "cell_type": "code",
   "execution_count": 8,
   "metadata": {},
   "outputs": [],
   "source": [
    "# set logging\n",
    "set_logger(join(config.log_dir, 'demo_inference.log'))"
   ]
  },
  {
   "cell_type": "code",
   "execution_count": 9,
   "metadata": {},
   "outputs": [],
   "source": [
    "# add info about the model\n",
    "config.model['load']['epoch'] = ckpt\n",
    "config.model['load']['load_best'] = False\n",
    "config.model['load']['version'] = config_path.replace(\".yml\", \"\")"
   ]
  },
  {
   "cell_type": "code",
   "execution_count": 10,
   "metadata": {},
   "outputs": [],
   "source": [
    "# set inference directories for logging\n",
    "dirpaths = ['config_save_path', 'output_dir', 'log_dir', 'checkpoint_dir']\n",
    "for key in dirpaths:\n",
    "    train_version = splitext(version)[0]\n",
    "    infer_version = train_version + \"_demo_inference\"\n",
    "\n",
    "    dirpath = getattr(config, key).replace(train_version, infer_version)\n",
    "    os.makedirs(dirpath, exist_ok=True)\n",
    "    setattr(config, key + '_demo_inference', dirpath)"
   ]
  },
  {
   "cell_type": "code",
   "execution_count": 11,
   "metadata": {},
   "outputs": [
    {
     "name": "stderr",
     "output_type": "stream",
     "text": [
      "\u001b[33mBuilding the network\u001b[0m\n",
      "\u001b[33mSetting up the optimizer ...\u001b[0m\n",
      "\u001b[33m=> Loading model weights from /output/experiments/iclrw/context/v9.7/context-neural/checkpoints/31_ckpt.pth.tar\u001b[0m\n",
      "\u001b[33mFreezing specified layers\u001b[0m\n",
      "\u001b[33mUsing loss functions:\u001b[0m\n",
      "{'train': {'name': 'cross-entropy', 'params': {'reduction': 'none'}}, 'val': {'name': 'cross-entropy', 'params': {'reduction': 'none'}}}\n"
     ]
    }
   ],
   "source": [
    "model = model_factory.create(config.model['name'], **{'config': config})"
   ]
  },
  {
   "cell_type": "code",
   "execution_count": 12,
   "metadata": {},
   "outputs": [],
   "source": [
    "model.network = model.network.eval()"
   ]
  },
  {
   "cell_type": "markdown",
   "metadata": {},
   "source": [
    "#### Load and process contextual data"
   ]
  },
  {
   "cell_type": "markdown",
   "metadata": {},
   "source": [
    "##### Insert Values Here "
   ]
  },
  {
   "cell_type": "code",
   "execution_count": 13,
   "metadata": {},
   "outputs": [],
   "source": [
    "input_ = {\n",
    "# Choose Age between [1, 100]\n",
    "'enroll_patient_age' : 65,\n",
    "\n",
    "# Choose Temperature between [95, 103]\n",
    "'enroll_patient_temperature' : 98.,\n",
    "\n",
    "# Choose Days with Symptom (Cough, Voice & Shortness of Breath), Values usually range between [0., 30.]\n",
    "'enroll_days_with_cough' : 10 ,\n",
    "'enroll_days_with_shortness_of_breath' : 0,\n",
    "'enroll_days_with_fever' : 0 ,\n",
    "\n",
    "# Choose Travel history, Four Options either {0 : 'No', 1 : 'Other country', 2 : 'Other district', 3 : 'Other state'}\n",
    "'enroll_travel_history' : 0.,   \n",
    "\n",
    "# Binary either {0 : No, 1 : Yes}\n",
    "'enroll_contact_with_confirmed_covid_case' : 0., # Have you come in contact with Covid confirmed Case\n",
    "'enroll_health_worker' : 0., # Are you a Health Worker\n",
    "'enroll_fever' : 0., # Do you have Fever\n",
    "'enroll_cough' : 1., # Do you have Cough \n",
    "'enroll_shortness_of_breath' : 0. # Do you have Shortness of Breath\n",
    "}\n",
    "# Assert Statements to Check if Data Inserted is Correct\n",
    "check_data_correct_format(input_)"
   ]
  },
  {
   "cell_type": "markdown",
   "metadata": {},
   "source": [
    "#### Preprocessing (Normalizing continuous values)"
   ]
  },
  {
   "cell_type": "code",
   "execution_count": 14,
   "metadata": {},
   "outputs": [],
   "source": [
    "input_processed = _preprocess_raw_context_data(input_)"
   ]
  },
  {
   "cell_type": "code",
   "execution_count": 15,
   "metadata": {},
   "outputs": [],
   "source": [
    "x = [input_processed['enroll_patient_age'],\n",
    "    input_processed['enroll_patient_temperature'],\n",
    "    input_processed['enroll_days_with_cough'],\n",
    "    input_processed['enroll_days_with_shortness_of_breath'],\n",
    "    input_processed['enroll_days_with_fever'],\n",
    "    input_processed['enroll_travel_history'],\n",
    "    input_processed['enroll_contact_with_confirmed_covid_case'],\n",
    "    input_processed['enroll_health_worker'],\n",
    "    input_processed['enroll_fever'],\n",
    "    input_processed['enroll_cough'],\n",
    "    input_processed['enroll_shortness_of_breath']]"
   ]
  },
  {
   "cell_type": "code",
   "execution_count": 16,
   "metadata": {},
   "outputs": [],
   "source": [
    "batch = torch.cat([torch.tensor(x).float()]).unsqueeze(0)"
   ]
  },
  {
   "cell_type": "code",
   "execution_count": 17,
   "metadata": {},
   "outputs": [],
   "source": [
    "batch = batch.to(model.device)"
   ]
  },
  {
   "cell_type": "code",
   "execution_count": 18,
   "metadata": {},
   "outputs": [
    {
     "data": {
      "text/plain": [
       "torch.Size([1, 11])"
      ]
     },
     "execution_count": 18,
     "metadata": {},
     "output_type": "execute_result"
    }
   ],
   "source": [
    "batch.shape"
   ]
  },
  {
   "cell_type": "markdown",
   "metadata": {},
   "source": [
    "##### Forward pass through the model to obtain prediction"
   ]
  },
  {
   "cell_type": "code",
   "execution_count": 19,
   "metadata": {},
   "outputs": [],
   "source": [
    "predictions = model.network(batch)\n",
    "predicted_proba = torch.nn.functional.softmax(predictions, dim=1)[:, 1]\n",
    "final_predicted_label = predicted_proba >= threshold"
   ]
  },
  {
   "cell_type": "code",
   "execution_count": 20,
   "metadata": {},
   "outputs": [],
   "source": [
    "output_string = \"<center>Based on the model prediction, <b>COVID-19 is NOT detected given the contextual information</b>. </center>\"\n",
    "if final_predicted_label:\n",
    "    output_string = \"<center>Based on the model prediction, <b>COVID-19 is detected given the contextual information</b>. </center>\""
   ]
  },
  {
   "cell_type": "code",
   "execution_count": 21,
   "metadata": {},
   "outputs": [
    {
     "data": {
      "text/markdown": [
       "<center>Based on the model prediction, <b>COVID-19 is NOT detected given the contextual information</b>. </center>"
      ],
      "text/plain": [
       "<IPython.core.display.Markdown object>"
      ]
     },
     "execution_count": 21,
     "metadata": {},
     "output_type": "execute_result"
    }
   ],
   "source": [
    "md(output_string)"
   ]
  },
  {
   "cell_type": "markdown",
   "metadata": {},
   "source": [
    "> **Important Note**: Please understand that these predictions are from a model that has not gone through clinical trials and thus, please treat these predictions only as a demo and consult your medical professionals for clinical advice. "
   ]
  },
  {
   "cell_type": "code",
   "execution_count": null,
   "metadata": {},
   "outputs": [],
   "source": []
  }
 ],
 "metadata": {
  "kernelspec": {
   "display_name": "Python 3",
   "language": "python",
   "name": "python3"
  },
  "language_info": {
   "codemirror_mode": {
    "name": "ipython",
    "version": 3
   },
   "file_extension": ".py",
   "mimetype": "text/x-python",
   "name": "python",
   "nbconvert_exporter": "python",
   "pygments_lexer": "ipython3",
   "version": "3.6.9"
  }
 },
 "nbformat": 4,
 "nbformat_minor": 4
}
