{
 "cells": [
  {
   "cell_type": "code",
   "execution_count": null,
   "metadata": {},
   "outputs": [],
   "source": [
    "%load_ext autoreload\n",
    "%autoreload 2"
   ]
  },
  {
   "cell_type": "code",
   "execution_count": null,
   "metadata": {},
   "outputs": [],
   "source": [
    "import os\n",
    "from os.path import join, splitext, basename\n",
    "import numpy as np\n",
    "import pandas as pd\n",
    "from tqdm import tqdm\n",
    "import matplotlib.pyplot as plt\n",
    "import seaborn as sns\n",
    "import matplotlib.colors as mc\n",
    "from matplotlib import rc\n",
    "import matplotlib.cm as cm\n",
    "import colorsys\n",
    "\n",
    "from cac.analysis.utils import get_audio_type, get_unique_id\n",
    "from cac.utils.audio import get_duration\n",
    "from cac.utils.io import read_yml\n",
    "from cac.utils.pandas import custom_read_csv, apply_filters\n",
    "from cac.utils.viz import lighten_color"
   ]
  },
  {
   "cell_type": "code",
   "execution_count": null,
   "metadata": {},
   "outputs": [],
   "source": [
    "FIGURES_SAVE_DIR = '/all-output/paper/iclrw/figures'\n",
    "os.makedirs(FIGURES_SAVE_DIR, exist_ok=True)"
   ]
  },
  {
   "cell_type": "code",
   "execution_count": null,
   "metadata": {},
   "outputs": [],
   "source": [
    "DATA_CONFIG_DIR = '/data/wiai-facility/processed/versions/'"
   ]
  },
  {
   "cell_type": "markdown",
   "metadata": {},
   "source": [
    "#### Helper functions"
   ]
  },
  {
   "cell_type": "markdown",
   "metadata": {},
   "source": [
    "#### Load attributes"
   ]
  },
  {
   "cell_type": "code",
   "execution_count": null,
   "metadata": {},
   "outputs": [],
   "source": [
    "attributes = custom_read_csv(\n",
    "    '/data/wiai-facility/processed/attributes.csv',\n",
    "    ['enroll_comorbidities', 'enroll_habits']\n",
    ")"
   ]
  },
  {
   "cell_type": "code",
   "execution_count": null,
   "metadata": {},
   "outputs": [],
   "source": [
    "symptoms = ['enroll_cough', 'enroll_fever', 'enroll_shortness_of_breath']\n",
    "attributes['all_symptoms'] = attributes[symptoms].apply(lambda x: \"Yes\" if \"No\" not in list(x) else \"No\", axis=1)\n",
    "attributes['any_symptoms'] = attributes[symptoms].apply(lambda x: \"Yes\" if \"Yes\" in list(x) else \"No\", axis=1)"
   ]
  },
  {
   "cell_type": "code",
   "execution_count": null,
   "metadata": {},
   "outputs": [],
   "source": [
    "attributes.shape"
   ]
  },
  {
   "cell_type": "markdown",
   "metadata": {},
   "source": [
    "#### Load annotations"
   ]
  },
  {
   "cell_type": "code",
   "execution_count": null,
   "metadata": {},
   "outputs": [],
   "source": [
    "annotations = pd.read_csv('/data/wiai-facility/processed/annotation.csv')"
   ]
  },
  {
   "cell_type": "code",
   "execution_count": null,
   "metadata": {},
   "outputs": [],
   "source": [
    "annotations['patient_id'] = annotations['users'].apply(get_unique_id)\n",
    "annotations['audio_type'] = annotations['file'].apply(get_audio_type)"
   ]
  },
  {
   "cell_type": "code",
   "execution_count": null,
   "metadata": {},
   "outputs": [],
   "source": [
    "annotations.shape"
   ]
  },
  {
   "cell_type": "markdown",
   "metadata": {},
   "source": [
    "#### Load data"
   ]
  },
  {
   "cell_type": "code",
   "execution_count": null,
   "metadata": {},
   "outputs": [],
   "source": [
    "DATA_VERSIONS_TO_LOAD = ['v9.4', 'v9.7', 'v9.8']"
   ]
  },
  {
   "cell_type": "code",
   "execution_count": null,
   "metadata": {},
   "outputs": [],
   "source": [
    "def get_data_from_mode(data_config, mode, audio='cough'):\n",
    "    df = pd.DataFrame(data_config[mode])\n",
    "    users = []\n",
    "\n",
    "    for file in df.file.values:\n",
    "        user = splitext(basename(file))[0]\n",
    "        user = user[:user.find(f'_{audio}')]\n",
    "        user = '_'.join(user.split('_')[:-2])\n",
    "        users.append(user)\n",
    "    \n",
    "    df['patient_id'] = users\n",
    "    df['set'] = mode\n",
    "    df = pd.merge(df, attributes, on=['patient_id'])\n",
    "    return df"
   ]
  },
  {
   "cell_type": "code",
   "execution_count": null,
   "metadata": {},
   "outputs": [],
   "source": [
    "data_cfgs = dict()\n",
    "\n",
    "for data_version in tqdm(DATA_VERSIONS_TO_LOAD, desc='Loading data versions'):\n",
    "    data_cfg_path = join(DATA_CONFIG_DIR, data_version + '.yml')\n",
    "    data_cfg = read_yml(data_cfg_path)\n",
    "    data_cfgs[data_version] = data_cfg\n",
    "    \n",
    "    for mode in data_cfg.keys():\n",
    "        if mode in ['train', 'val', 'test', 'all']:\n",
    "            data_cfg[mode] = get_data_from_mode(data_cfg, mode, audio='cough')"
   ]
  },
  {
   "cell_type": "code",
   "execution_count": null,
   "metadata": {},
   "outputs": [],
   "source": [
    "data_cfgs.keys()"
   ]
  },
  {
   "cell_type": "code",
   "execution_count": null,
   "metadata": {},
   "outputs": [],
   "source": [
    "data_cfgs['v9.8']['val'].shape"
   ]
  },
  {
   "cell_type": "code",
   "execution_count": null,
   "metadata": {},
   "outputs": [],
   "source": [
    "data_cfgs['v9.8']['all'].shape, data_cfgs['v9.7']['all'].shape, data_cfgs['v9.4']['all'].shape"
   ]
  },
  {
   "cell_type": "code",
   "execution_count": null,
   "metadata": {},
   "outputs": [],
   "source": [
    "data_cfgs['v9.8']['all'].testresult_covid_test_result.value_counts()"
   ]
  },
  {
   "cell_type": "code",
   "execution_count": null,
   "metadata": {},
   "outputs": [],
   "source": [
    "rc('text', usetex=True)\n",
    "rc(\"font\", family=\"serif\", serif='Computer Modern Roman')"
   ]
  },
  {
   "cell_type": "code",
   "execution_count": null,
   "metadata": {},
   "outputs": [],
   "source": [
    "plt.rcParams['font.size'] = '23'"
   ]
  },
  {
   "cell_type": "code",
   "execution_count": null,
   "metadata": {},
   "outputs": [],
   "source": [
    "FIGURES_SAVE_DIR = '/all-output/paper/iclrw/figures'"
   ]
  },
  {
   "cell_type": "code",
   "execution_count": null,
   "metadata": {},
   "outputs": [],
   "source": [
    "version_to_title = {\n",
    "    'v9.4': \"Time-based\",\n",
    "    'v9.7': \"Site-based\",\n",
    "    'v9.8': \"Random\"\n",
    "}"
   ]
  },
  {
   "cell_type": "code",
   "execution_count": null,
   "metadata": {},
   "outputs": [],
   "source": [
    "attribute = 'testresult_covid_test_result'\n",
    "mode = 'all'\n",
    "fig, ax = plt.subplots(1, len(data_cfgs), figsize=(8 * len(data_cfgs), 8))\n",
    "\n",
    "for i, version in enumerate(data_cfgs.keys()):\n",
    "    \n",
    "    data_cfgs[version]['train']['set'] = 'Train'\n",
    "    data_cfgs[version]['val']['set'] = None\n",
    "    data_cfgs[version]['test']['set'] = 'Test'\n",
    "\n",
    "    df = pd.concat([data_cfgs[version]['train'], data_cfgs[version]['val'], data_cfgs[version]['test']])\n",
    "    df['Test result'] = df[attribute]\n",
    "    df = df.drop_duplicates(['patient_id'])\n",
    "\n",
    "    order = ['Train', 'Test']\n",
    "    hue_order = ['Positive', 'Negative']\n",
    "\n",
    "    sns.countplot(data=df, x='set', ax=ax[i], hue='Test result', order=order, hue_order=hue_order, palette=['red', 'limegreen'])\n",
    "    ax[i].grid()\n",
    "    ax[i].set_title(version_to_title[version], fontsize=30)\n",
    "    ax[i].set_xlabel('')\n",
    "    if i > 0:\n",
    "        ax[i].set_ylabel('')\n",
    "\n",
    "    _ax = ax[i]\n",
    "    patches = _ax.patches\n",
    "    for patch in patches:\n",
    "        x, _ = patch.xy\n",
    "        counts = patch.get_height()\n",
    "        _ax.text(x + 0.1, counts + 25, counts)\n",
    "\n",
    "plt.savefig(join(FIGURES_SAVE_DIR, 'data-dist-v2.pdf'), bbox_inches='tight')\n",
    "plt.show()"
   ]
  },
  {
   "cell_type": "code",
   "execution_count": null,
   "metadata": {},
   "outputs": [],
   "source": []
  }
 ],
 "metadata": {
  "kernelspec": {
   "display_name": "Python 3",
   "language": "python",
   "name": "python3"
  },
  "language_info": {
   "codemirror_mode": {
    "name": "ipython",
    "version": 3
   },
   "file_extension": ".py",
   "mimetype": "text/x-python",
   "name": "python",
   "nbconvert_exporter": "python",
   "pygments_lexer": "ipython3",
   "version": "3.6.9"
  }
 },
 "nbformat": 4,
 "nbformat_minor": 4
}
