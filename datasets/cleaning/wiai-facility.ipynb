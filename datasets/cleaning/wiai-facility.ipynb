{
 "cells": [
  {
   "cell_type": "markdown",
   "metadata": {},
   "source": [
    "The goal of data cleaning notebook for `wiai-facility` is 3-fold:\n",
    "\n",
    "1. Create symlinks from `raw/audio/*.wav` <- `processed/audio/*.wav`\n",
    "2. Use `CaC_work_sheet.csv` to create `processed/annotations.csv`\n",
    "3. Use `CaC_work_sheet.csv` to create `processed/attributes.csv`"
   ]
  },
  {
   "cell_type": "code",
   "execution_count": null,
   "metadata": {},
   "outputs": [],
   "source": [
    "%load_ext autoreload\n",
    "%autoreload 2"
   ]
  },
  {
   "cell_type": "code",
   "execution_count": null,
   "metadata": {},
   "outputs": [],
   "source": [
    "from os import makedirs, symlink, rmdir\n",
    "from os.path import join, dirname, exists, isdir, basename, splitext\n",
    "from shutil import rmtree\n",
    "import math\n",
    "from collections import defaultdict\n",
    "import pandas as pd\n",
    "import numpy as np\n",
    "from glob import glob\n",
    "from tqdm import tqdm\n",
    "from librosa import get_duration\n",
    "from sklearn.model_selection import train_test_split\n",
    "import matplotlib.pyplot as plt\n",
    "from termcolor import colored\n",
    "\n",
    "from cac.utils.io import save_yml\n",
    "from cac.utils.pandas import apply_filters\n",
    "from cac.utils.file import get_audio_type, get_unique_id"
   ]
  },
  {
   "cell_type": "code",
   "execution_count": null,
   "metadata": {},
   "outputs": [],
   "source": [
    "# directory where the data resides\n",
    "data_root = '/data/wiai-facility/'\n",
    "\n",
    "# src and destination directories\n",
    "load_root = join(data_root, 'raw')\n",
    "save_root = join(data_root, 'processed')\n",
    "makedirs(save_root, exist_ok=True)\n",
    "\n",
    "load_audio_dir = join(load_root, 'audio')\n",
    "save_audio_dir = join(save_root, 'audio')\n",
    "makedirs(save_audio_dir, exist_ok=True)"
   ]
  },
  {
   "cell_type": "code",
   "execution_count": null,
   "metadata": {},
   "outputs": [],
   "source": [
    "data_sheet = pd.read_csv(join(load_audio_dir, 'CaC_work_sheet_nov23-anonymized.csv'))"
   ]
  },
  {
   "cell_type": "code",
   "execution_count": null,
   "metadata": {},
   "outputs": [],
   "source": [
    "data_sheet.shape"
   ]
  },
  {
   "cell_type": "markdown",
   "metadata": {},
   "source": [
    "#### Generate symlinks from `raw` <- `processed`"
   ]
  },
  {
   "cell_type": "code",
   "execution_count": null,
   "metadata": {},
   "outputs": [],
   "source": [
    "user_dirs = [f for f in glob(join(load_audio_dir, '*')) if isdir(f)]\n",
    "files = []\n",
    "timestamps = []\n",
    "users = []\n",
    "\n",
    "for user_dir in tqdm(user_dirs):\n",
    "    user_files = glob(join(user_dir, '*/*.wav'))\n",
    "    for user_file in user_files:\n",
    "        users.append(basename(user_dir))\n",
    "        filename = basename(user_file)\n",
    "\n",
    "        if 'breathing' in filename:\n",
    "            filename = 'breathing'\n",
    "        elif 'cough_sound_recording_1' in filename:\n",
    "            filename = 'cough_1'\n",
    "        elif 'cough_sound_recording_2' in filename:\n",
    "            filename = 'cough_2'\n",
    "        elif 'cough_sound_recording_3' in filename:\n",
    "            filename = 'cough_3'\n",
    "        elif 'speech_recording' in filename:\n",
    "            filename = 'audio_1_to_10'\n",
    "        elif 'room_recording' in filename:\n",
    "            filename = 'room_sound'\n",
    "        elif 'aaaaa_recording' in filename:\n",
    "            filename = 'a_sound'\n",
    "        elif 'eeeee_recording' in filename:\n",
    "            filename = 'e_sound'\n",
    "        elif 'ooooo_recording' in filename:\n",
    "            filename = 'o_sound'\n",
    "        else:\n",
    "            import ipdb; ipdb.set_trace()\n",
    "\n",
    "        # strongly dependent on structure\n",
    "        timestamps.append(user_file.split('/')[-2])\n",
    "        \n",
    "        save_filename = '_'.join([*user_file.split('/')[-3:-1], filename + '.wav'])\n",
    "        save_path = join(save_audio_dir, save_filename)\n",
    "            \n",
    "        # ignore .wav\n",
    "        files.append(splitext(save_filename)[0])\n",
    "        \n",
    "        if not exists(save_path):\n",
    "            symlink(user_file, save_path)"
   ]
  },
  {
   "cell_type": "markdown",
   "metadata": {},
   "source": [
    "#### Creating `attributes.csv` and `annotations.csv`"
   ]
  },
  {
   "cell_type": "code",
   "execution_count": null,
   "metadata": {},
   "outputs": [],
   "source": [
    "sound_labels = {\n",
    "    'breathing': 'breathing',\n",
    "    'cough_1': 'cough',\n",
    "    'cough_2': 'cough',\n",
    "    'cough_3': 'cough',\n",
    "    'audio_1_to_10': 'audio_1_to_10',\n",
    "    'room_sound': 'room_sound',\n",
    "    'a_sound': 'a_sound',\n",
    "    'e_sound': 'e_sound',\n",
    "    'o_sound': 'o_sound'\n",
    "}"
   ]
  },
  {
   "cell_type": "code",
   "execution_count": null,
   "metadata": {},
   "outputs": [],
   "source": [
    "unsup_label_keys = [\n",
    "    'enroll_patient_gender',\n",
    "    'patient_id',\n",
    "    'enroll_patient_age',\n",
    "    'enroll_state',\n",
    "    'enroll_facility',\n",
    "    'enroll_habits',\n",
    "    'enroll_travel_history',\n",
    "    'enroll_comorbidities',\n",
    "    'enroll_contact_with_confirmed_covid_case',\n",
    "    'enroll_fever',\n",
    "    'enroll_days_with_fever',\n",
    "    'enroll_cough',\n",
    "    'enroll_days_with_cough',\n",
    "    'enroll_shortness_of_breath',\n",
    "    'enroll_days_with_shortness_of_breath',\n",
    "    'enroll_patient_temperature',\n",
    "    'enroll_patient_respiratory_rate',\n",
    "    'enroll_cough_relief_measures',\n",
    "    'testresult_covid_test_result'\n",
    "]"
   ]
  },
  {
   "cell_type": "code",
   "execution_count": null,
   "metadata": {},
   "outputs": [],
   "source": [
    "data_sheet[unsup_label_keys] = data_sheet[unsup_label_keys].fillna('NA')"
   ]
  },
  {
   "cell_type": "code",
   "execution_count": null,
   "metadata": {},
   "outputs": [],
   "source": [
    "files = []\n",
    "unsup_labels = []\n",
    "clf_labels = []\n",
    "users = []\n",
    "\n",
    "for index in tqdm(range(len(data_sheet)), desc=\"Iterating over all patients\"):\n",
    "\n",
    "    row = data_sheet.loc[index]\n",
    "\n",
    "    recording_dir = row['audio_folder']\n",
    "    user_timestamp = '_'.join(recording_dir.split('/')[-2:])\n",
    "    user = user_timestamp.split('/')[0]\n",
    "    disease_status = row['testresult_covid_test_result']\n",
    "\n",
    "    user_files = []\n",
    "    user_clf_labels = []\n",
    "    user_unsup_labels = []\n",
    "    user_ids = []\n",
    "    \n",
    "    for key, value in sound_labels.items():\n",
    "        file = '/'.join([save_audio_dir, '_'.join([user_timestamp, f'{key}.wav'])])\n",
    "        if key != 'room_sound':\n",
    "            clf_label = [value, disease_status]\n",
    "        else:\n",
    "            clf_label = [value]\n",
    "\n",
    "        unsup_label = dict(row[unsup_label_keys])\n",
    "        unsup_label['dataset-name'] = 'wiai-facility'\n",
    "\n",
    "        if exists(file):\n",
    "            user_files.append(file)\n",
    "            user_clf_labels.append(clf_label)\n",
    "            user_ids.append(user)\n",
    "            user_unsup_labels.append(unsup_label)\n",
    "    \n",
    "    files.extend(user_files)\n",
    "    clf_labels.extend(user_clf_labels)\n",
    "    unsup_labels.extend(user_unsup_labels)\n",
    "    users.extend(user_ids)"
   ]
  },
  {
   "cell_type": "code",
   "execution_count": null,
   "metadata": {},
   "outputs": [],
   "source": [
    "# len(starts), len(ends), \\\n",
    "len(files), len(users), len(clf_labels), len(unsup_labels)"
   ]
  },
  {
   "cell_type": "code",
   "execution_count": null,
   "metadata": {},
   "outputs": [],
   "source": [
    "df = pd.DataFrame({'file': files, 'classification': clf_labels, 'unsupervised': unsup_labels, 'users': users})"
   ]
  },
  {
   "cell_type": "code",
   "execution_count": null,
   "metadata": {},
   "outputs": [],
   "source": [
    "df.shape"
   ]
  },
  {
   "cell_type": "code",
   "execution_count": null,
   "metadata": {},
   "outputs": [],
   "source": [
    "df['id'] = df['file'].apply(get_unique_id)\n",
    "df['audio_type'] = df['file'].apply(get_audio_type)"
   ]
  },
  {
   "cell_type": "code",
   "execution_count": null,
   "metadata": {},
   "outputs": [],
   "source": [
    "df.head()"
   ]
  },
  {
   "cell_type": "code",
   "execution_count": null,
   "metadata": {},
   "outputs": [],
   "source": [
    "df.tail()"
   ]
  },
  {
   "cell_type": "code",
   "execution_count": null,
   "metadata": {},
   "outputs": [],
   "source": [
    "# save the dataframe\n",
    "annotation_save_path = join(save_root, 'annotation.csv')\n",
    "df.to_csv(annotation_save_path, index=False)"
   ]
  },
  {
   "cell_type": "code",
   "execution_count": null,
   "metadata": {},
   "outputs": [],
   "source": [
    "# save the dataframe\n",
    "annotation_save_path = join(save_root, 'attributes.csv')\n",
    "data_sheet.to_csv(annotation_save_path, index=False)"
   ]
  },
  {
   "cell_type": "code",
   "execution_count": null,
   "metadata": {},
   "outputs": [],
   "source": []
  },
  {
   "cell_type": "code",
   "execution_count": null,
   "metadata": {},
   "outputs": [],
   "source": []
  },
  {
   "cell_type": "code",
   "execution_count": null,
   "metadata": {},
   "outputs": [],
   "source": []
  },
  {
   "cell_type": "markdown",
   "metadata": {},
   "source": [
    "Check the total duration of the dataset"
   ]
  },
  {
   "cell_type": "code",
   "execution_count": null,
   "metadata": {},
   "outputs": [],
   "source": [
    "durations = []\n",
    "for filename in tqdm(files, desc='Durations'):\n",
    "    filepath = join(save_audio_dir, filename + '.wav')\n",
    "    if exists(filepath):\n",
    "        duration = get_duration(filename=filepath)\n",
    "        durations.append(duration)"
   ]
  },
  {
   "cell_type": "code",
   "execution_count": null,
   "metadata": {},
   "outputs": [],
   "source": [
    "sum(durations)"
   ]
  },
  {
   "cell_type": "markdown",
   "metadata": {},
   "source": [
    "#### Junk code"
   ]
  },
  {
   "cell_type": "code",
   "execution_count": null,
   "metadata": {},
   "outputs": [],
   "source": [
    "from joblib import Parallel, delayed"
   ]
  },
  {
   "cell_type": "code",
   "execution_count": null,
   "metadata": {},
   "outputs": [],
   "source": [
    "df = {'file': [], 'classification': [], 'users': [], 'start': [], 'end': []}"
   ]
  },
  {
   "cell_type": "code",
   "execution_count": null,
   "metadata": {},
   "outputs": [],
   "source": [
    "def update_df_by_user_files(index):\n",
    "    row = data_sheet.loc[index]\n",
    "    recording_dir = row['audio_folder']\n",
    "    user_timestamp = '_'.join(recording_dir.split('/')[-2:])\n",
    "    user = user_timestamp.split('/')[0]\n",
    "    disease_status = row['testresult_covid_test_result']\n",
    "\n",
    "    user_files = []\n",
    "    user_labels = []\n",
    "    user_filesecs = []\n",
    "    user_ids = []\n",
    "    user_fstarts = []\n",
    "    \n",
    "    for key, value in sound_labels.items():\n",
    "        file = '/'.join([save_audio_dir, '_'.join([user_timestamp, f'{key}.wav'])])\n",
    "        if key != 'room_sound':\n",
    "            label = [value, disease_status]\n",
    "        else:\n",
    "            label = [value]\n",
    "\n",
    "        if exists(file):\n",
    "            user_files.append(file)\n",
    "            user_labels.append(label)\n",
    "            user_filesecs.append(get_duration(filename=file))\n",
    "            user_fstarts.append(0)\n",
    "            user_ids.append(user)\n",
    "    \n",
    "    df['file'].extend(user_files)\n",
    "    df['classification'].extend(user_labels)\n",
    "    df['end'].extend(user_filesecs)\n",
    "    df['users'].extend(user_ids)\n",
    "    df['start'].extend(user_fstarts)"
   ]
  },
  {
   "cell_type": "code",
   "execution_count": null,
   "metadata": {},
   "outputs": [],
   "source": [
    "iterator = tqdm(range(len(data_sheet)), desc=\"Iterating over all patients\")\n",
    "Parallel(n_jobs=10, require='sharedmem')(delayed(update_df_by_user_files)(index) for index in iterator);"
   ]
  },
  {
   "cell_type": "code",
   "execution_count": null,
   "metadata": {},
   "outputs": [],
   "source": [
    "df = pd.DataFrame(df)"
   ]
  },
  {
   "cell_type": "code",
   "execution_count": null,
   "metadata": {},
   "outputs": [],
   "source": []
  }
 ],
 "metadata": {
  "kernelspec": {
   "display_name": "Python 3",
   "language": "python",
   "name": "python3"
  },
  "language_info": {
   "codemirror_mode": {
    "name": "ipython",
    "version": 3
   },
   "file_extension": ".py",
   "mimetype": "text/x-python",
   "name": "python",
   "nbconvert_exporter": "python",
   "pygments_lexer": "ipython3",
   "version": "3.6.9"
  }
 },
 "nbformat": 4,
 "nbformat_minor": 4
}
