{
 "cells": [
  {
   "cell_type": "markdown",
   "metadata": {},
   "source": [
    "The goal of data cleaning notebook for `wiai-crowdsourced` is 3-fold:\n",
    "\n",
    "1. Create symlinks from `raw/audio/*.wav` <- `processed/audio/*.wav`\n",
    "2. Use `CaC_work_sheet.csv` to create `processed/annotations.csv`\n",
    "3. Use `CaC_work_sheet.csv` to create `processed/attributes.csv`"
   ]
  },
  {
   "cell_type": "code",
   "execution_count": null,
   "metadata": {},
   "outputs": [],
   "source": [
    "%load_ext autoreload\n",
    "%autoreload 2"
   ]
  },
  {
   "cell_type": "code",
   "execution_count": null,
   "metadata": {},
   "outputs": [],
   "source": [
    "from os import makedirs, symlink, rmdir, listdir\n",
    "from os.path import join, dirname, exists, isdir, basename, splitext\n",
    "from shutil import rmtree\n",
    "import math\n",
    "from collections import defaultdict\n",
    "import pandas as pd\n",
    "import numpy as np\n",
    "from glob import glob\n",
    "from tqdm import tqdm\n",
    "import librosa\n",
    "from librosa import get_duration\n",
    "import scipy.io.wavfile as wav\n",
    "from sklearn.model_selection import train_test_split\n",
    "import matplotlib.pyplot as plt\n",
    "from termcolor import colored\n",
    "\n",
    "from cac.utils.io import save_yml\n",
    "from cac.utils.pandas import apply_filters\n",
    "from cac.utils.file import get_audio_type, get_unique_id"
   ]
  },
  {
   "cell_type": "code",
   "execution_count": null,
   "metadata": {},
   "outputs": [],
   "source": [
    "# directory where the data resides\n",
    "data_root = '/data/wiai-crowdsourced/'\n",
    "\n",
    "# src and destination directories\n",
    "load_root = join(data_root, 'raw')\n",
    "save_root = join(data_root, 'processed')\n",
    "makedirs(save_root, exist_ok=True)\n",
    "\n",
    "load_audio_dir = join(load_root, 'audio')\n",
    "save_audio_dir = join(save_root, 'audio')\n",
    "makedirs(save_audio_dir, exist_ok=True)"
   ]
  },
  {
   "cell_type": "code",
   "execution_count": null,
   "metadata": {},
   "outputs": [],
   "source": [
    "data_sheet = pd.read_csv(join(load_audio_dir, 'CaC_work_sheet-mar15-anonymized.csv'))"
   ]
  },
  {
   "cell_type": "code",
   "execution_count": null,
   "metadata": {},
   "outputs": [],
   "source": [
    "data_sheet.shape"
   ]
  },
  {
   "cell_type": "markdown",
   "metadata": {},
   "source": [
    "#### Important check: find out files that are unreadable via `EOFError` (can't be discovered by `librosa`)"
   ]
  },
  {
   "cell_type": "code",
   "execution_count": null,
   "metadata": {},
   "outputs": [],
   "source": [
    "files = listdir(load_audio_dir)"
   ]
  },
  {
   "cell_type": "code",
   "execution_count": null,
   "metadata": {},
   "outputs": [],
   "source": [
    "len(files)"
   ]
  },
  {
   "cell_type": "code",
   "execution_count": null,
   "metadata": {},
   "outputs": [],
   "source": [
    "files[0]"
   ]
  },
  {
   "cell_type": "code",
   "execution_count": null,
   "metadata": {},
   "outputs": [],
   "source": [
    "invalid_files = []\n",
    "\n",
    "for file in tqdm(files, desc='Checking valid files'):\n",
    "    fpath = f'/data/wiai-crowdsourced/raw/audio/{file}'\n",
    "    try:\n",
    "        S, R = librosa.load(fpath)\n",
    "    except:\n",
    "        invalid_files.append(file)"
   ]
  },
  {
   "cell_type": "code",
   "execution_count": null,
   "metadata": {},
   "outputs": [],
   "source": [
    "len(invalid_files)"
   ]
  },
  {
   "cell_type": "markdown",
   "metadata": {},
   "source": [
    "#### Generate symlinks from `raw` <- `processed`"
   ]
  },
  {
   "cell_type": "code",
   "execution_count": null,
   "metadata": {},
   "outputs": [],
   "source": [
    "user_dirs = [f for f in glob(join(load_audio_dir, '*')) if isdir(f)]\n",
    "files = []\n",
    "timestamps = []\n",
    "users = []\n",
    "\n",
    "for user_dir in tqdm(user_dirs):\n",
    "    user_files = glob(join(user_dir, '*/*.wav'))\n",
    "\n",
    "    for user_file in user_files:\n",
    "        users.append(basename(user_dir))\n",
    "        \n",
    "        # strongly dependent on structure\n",
    "        timestamps.append(user_file.split('/')[-2])\n",
    "        \n",
    "        save_filename = '_'.join(user_file.split('/')[-3:])\n",
    "        save_path = join(save_audio_dir, save_filename)\n",
    "            \n",
    "        # ignore .wav\n",
    "        files.append(splitext(save_filename)[0])\n",
    "        \n",
    "        if not exists(save_path):\n",
    "            symlink(user_file, save_path)"
   ]
  },
  {
   "cell_type": "code",
   "execution_count": null,
   "metadata": {},
   "outputs": [],
   "source": [
    "data_sheet.columns"
   ]
  },
  {
   "cell_type": "markdown",
   "metadata": {},
   "source": [
    "#### Creating `attributes.csv` and `annotations.csv`"
   ]
  },
  {
   "cell_type": "code",
   "execution_count": null,
   "metadata": {},
   "outputs": [],
   "source": [
    "sound_labels = {\n",
    "    'breathing': 'breathing',\n",
    "    'cough_1': 'cough',\n",
    "    'cough_2': 'cough',\n",
    "    'cough_3': 'cough',\n",
    "    'audio_1_to_10': 'audio_1_to_10'\n",
    "}"
   ]
  },
  {
   "cell_type": "code",
   "execution_count": null,
   "metadata": {},
   "outputs": [],
   "source": [
    "unsup_label_keys = [\n",
    "    'sex',\n",
    "    'user_id',\n",
    "    'age',\n",
    "    'country',\n",
    "    'mask_used',\n",
    "    'symptoms',\n",
    "    'browser',\n",
    "    'device',\n",
    "    'test_type',\n",
    "    'test_location',\n",
    "    'respiratory_conditions'\n",
    "]"
   ]
  },
  {
   "cell_type": "code",
   "execution_count": null,
   "metadata": {},
   "outputs": [],
   "source": [
    "data_sheet[unsup_label_keys] = data_sheet[unsup_label_keys].fillna('NA')"
   ]
  },
  {
   "cell_type": "code",
   "execution_count": null,
   "metadata": {},
   "outputs": [],
   "source": [
    "files = []\n",
    "unsup_labels = []\n",
    "clf_labels = []\n",
    "users = []\n",
    "\n",
    "for index in tqdm(range(len(data_sheet)), desc=\"Iterating over all patients\"):\n",
    "\n",
    "    row = data_sheet.loc[index]\n",
    "\n",
    "    recording_dir = row['recording_dir']\n",
    "    user_timestamp = '_'.join(recording_dir.split('/')[-2:])\n",
    "    user = user_timestamp.split('/')[0]\n",
    "    disease_status = row['disease_status']\n",
    "\n",
    "    user_files = []\n",
    "    user_clf_labels = []\n",
    "    user_unsup_labels = []\n",
    "    user_ids = []\n",
    "    \n",
    "    for key, value in sound_labels.items():\n",
    "        file = '/'.join([save_audio_dir, '_'.join([user_timestamp, f'{key}.wav'])])\n",
    "        if key != 'room_sound':\n",
    "            clf_label = [value, disease_status]\n",
    "        else:\n",
    "            clf_label = [value]\n",
    "\n",
    "        unsup_label = dict(row[unsup_label_keys])\n",
    "        unsup_label['dataset-name'] = 'wiai-crowdsourced'\n",
    "\n",
    "        if exists(file):\n",
    "            user_files.append(file)\n",
    "            user_clf_labels.append(clf_label)\n",
    "            user_ids.append(user)\n",
    "            user_unsup_labels.append(unsup_label)\n",
    "    \n",
    "    files.extend(user_files)\n",
    "    clf_labels.extend(user_clf_labels)\n",
    "    unsup_labels.extend(user_unsup_labels)\n",
    "    users.extend(user_ids)"
   ]
  },
  {
   "cell_type": "code",
   "execution_count": null,
   "metadata": {},
   "outputs": [],
   "source": [
    "# len(starts), len(ends), \\\n",
    "len(files), len(users), len(clf_labels), len(unsup_labels)"
   ]
  },
  {
   "cell_type": "code",
   "execution_count": null,
   "metadata": {},
   "outputs": [],
   "source": [
    "df = pd.DataFrame({'file': files, 'classification': clf_labels, 'unsupervised': unsup_labels, 'users': users})"
   ]
  },
  {
   "cell_type": "code",
   "execution_count": null,
   "metadata": {},
   "outputs": [],
   "source": [
    "df.shape"
   ]
  },
  {
   "cell_type": "code",
   "execution_count": null,
   "metadata": {},
   "outputs": [],
   "source": [
    "df['id'] = df['file'].apply(get_unique_id)\n",
    "df['audio_type'] = df['file'].apply(get_audio_type)"
   ]
  },
  {
   "cell_type": "code",
   "execution_count": null,
   "metadata": {},
   "outputs": [],
   "source": [
    "df.head()"
   ]
  },
  {
   "cell_type": "code",
   "execution_count": null,
   "metadata": {},
   "outputs": [],
   "source": [
    "df.tail()"
   ]
  },
  {
   "cell_type": "code",
   "execution_count": null,
   "metadata": {},
   "outputs": [],
   "source": [
    "# save the dataframe\n",
    "annotation_save_path = join(save_root, 'annotation.csv')\n",
    "df.to_csv(annotation_save_path, index=False)"
   ]
  },
  {
   "cell_type": "code",
   "execution_count": null,
   "metadata": {},
   "outputs": [],
   "source": [
    "# save the dataframe\n",
    "annotation_save_path = join(save_root, 'attributes.csv')\n",
    "data_sheet.to_csv(annotation_save_path, index=False)"
   ]
  },
  {
   "cell_type": "markdown",
   "metadata": {},
   "source": [
    "Check the total duration of the dataset"
   ]
  },
  {
   "cell_type": "code",
   "execution_count": null,
   "metadata": {},
   "outputs": [],
   "source": [
    "durations = []\n",
    "for filepath in tqdm(files, desc='Durations'):\n",
    "    if exists(filepath):\n",
    "        try:\n",
    "            duration = get_duration(filename=filepath)\n",
    "            durations.append(duration)\n",
    "        except:\n",
    "            pass"
   ]
  },
  {
   "cell_type": "code",
   "execution_count": null,
   "metadata": {},
   "outputs": [],
   "source": [
    "sum(durations), len(durations)"
   ]
  },
  {
   "cell_type": "markdown",
   "metadata": {},
   "source": [
    "Note that about 26 files have some issue in loading with librosa."
   ]
  },
  {
   "cell_type": "code",
   "execution_count": null,
   "metadata": {},
   "outputs": [],
   "source": []
  }
 ],
 "metadata": {
  "kernelspec": {
   "display_name": "Python 3",
   "language": "python",
   "name": "python3"
  },
  "language_info": {
   "codemirror_mode": {
    "name": "ipython",
    "version": 3
   },
   "file_extension": ".py",
   "mimetype": "text/x-python",
   "name": "python",
   "nbconvert_exporter": "python",
   "pygments_lexer": "ipython3",
   "version": "3.6.9"
  }
 },
 "nbformat": 4,
 "nbformat_minor": 4
}
