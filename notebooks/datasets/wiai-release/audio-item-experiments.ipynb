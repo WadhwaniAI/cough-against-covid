{
 "cells": [
  {
   "cell_type": "markdown",
   "metadata": {},
   "source": [
    "#### Creating Audio Item from Spectrogram Input"
   ]
  },
  {
   "cell_type": "markdown",
   "metadata": {},
   "source": [
    "##### Single Spectrogram Image"
   ]
  },
  {
   "cell_type": "code",
   "execution_count": 7,
   "metadata": {},
   "outputs": [
    {
     "name": "stdout",
     "output_type": "stream",
     "text": [
      "The autoreload extension is already loaded. To reload it, use:\n",
      "  %reload_ext autoreload\n"
     ]
    }
   ],
   "source": [
    "%load_ext autoreload\n",
    "%autoreload 2"
   ]
  },
  {
   "cell_type": "code",
   "execution_count": 1,
   "metadata": {},
   "outputs": [],
   "source": [
    "from cac.utils.io import read_yml\n",
    "from os.path import join\n",
    "from glob import glob\n",
    "import matplotlib.pyplot as plt\n",
    "import numpy as np\n",
    "\n",
    "from cac.data.audio import AudioItem\n",
    "from cac.data.transforms import DataProcessor\n",
    "from cac.utils.viz import plot_raw_audio_signal, plot_spectrogram_image"
   ]
  },
  {
   "cell_type": "code",
   "execution_count": 2,
   "metadata": {},
   "outputs": [],
   "source": [
    "DATA_DIR = \"/data/wiai-facility/\"\n",
    "all_audio_files = glob(join(DATA_DIR, \"processed\", \"audio\", \"*.wav\"))"
   ]
  },
  {
   "cell_type": "code",
   "execution_count": 3,
   "metadata": {},
   "outputs": [
    {
     "data": {
      "text/plain": [
       "83838"
      ]
     },
     "execution_count": 3,
     "metadata": {},
     "output_type": "execute_result"
    }
   ],
   "source": [
    "len(all_audio_files)"
   ]
  },
  {
   "cell_type": "markdown",
   "metadata": {},
   "source": [
    "#### Transform to convert audio to spectrogram"
   ]
  },
  {
   "cell_type": "code",
   "execution_count": 4,
   "metadata": {},
   "outputs": [],
   "source": [
    "transforms_cfg = [\n",
    "    {\n",
    "        \"name\": \"ToTensor\",\n",
    "        \"params\": {\"device\": \"cpu\"}\n",
    "    },\n",
    "    {\n",
    "        \"name\": \"Resample\",\n",
    "        \"params\": {\n",
    "            \"orig_freq\": 44100,\n",
    "            \"new_freq\": 16000\n",
    "        }\n",
    "    },\n",
    "    {\n",
    "        \"name\": \"BackgroundNoise\",\n",
    "        \"params\": {\n",
    "            \"dataset_config\": [\n",
    "                {\n",
    "                    \"name\": \"esc-50\",\n",
    "                    \"version\": \"default\",\n",
    "                    \"mode\": \"all\"\n",
    "                }\n",
    "            ],\n",
    "            \"min_noise_scale\": 0.4,\n",
    "            \"max_noise_scale\": 0.75\n",
    "        }\n",
    "    },\n",
    "    {\n",
    "        \"name\": \"Spectrogram\",\n",
    "        \"params\": {\n",
    "            \"n_fft\": 512,\n",
    "            \"win_length\": 512,\n",
    "            \"hop_length\": 160\n",
    "        }\n",
    "    },\n",
    "    {\n",
    "        \"name\": \"MelScale\",\n",
    "        \"params\": {\n",
    "            \"n_mels\": 64,\n",
    "            \"sample_rate\": 16000,\n",
    "            \"f_min\": 125,\n",
    "            \"f_max\": 7500\n",
    "        }\n",
    "    },\n",
    "    {\n",
    "        \"name\": \"AmplitudeToDB\",\n",
    "        \"params\": {}\n",
    "    },\n",
    "    {\n",
    "        \"name\": \"ToNumpy\",\n",
    "        \"params\": {}\n",
    "    },\n",
    "]"
   ]
  },
  {
   "cell_type": "code",
   "execution_count": 5,
   "metadata": {},
   "outputs": [
    {
     "name": "stderr",
     "output_type": "stream",
     "text": [
      "Loading items: 100%|██████████| 2000/2000 [00:00<00:00, 338810.45it/s]\n"
     ]
    }
   ],
   "source": [
    "signal_transform = DataProcessor(transforms_cfg)"
   ]
  },
  {
   "cell_type": "code",
   "execution_count": 6,
   "metadata": {},
   "outputs": [],
   "source": [
    "item = AudioItem(path=all_audio_files[0])"
   ]
  },
  {
   "cell_type": "code",
   "execution_count": 7,
   "metadata": {},
   "outputs": [],
   "source": [
    "signal = item.load()[\"signal\"]\n",
    "transformed_signal = signal_transform(signal)"
   ]
  },
  {
   "cell_type": "code",
   "execution_count": 8,
   "metadata": {},
   "outputs": [],
   "source": [
    "path = '/data/tmp/temp_spec.npy'\n",
    "np.save(path, transformed_signal)"
   ]
  },
  {
   "cell_type": "markdown",
   "metadata": {},
   "source": [
    "#### Create AudioItem from npy file"
   ]
  },
  {
   "cell_type": "code",
   "execution_count": 9,
   "metadata": {},
   "outputs": [
    {
     "data": {
      "text/plain": [
       "(64, 2032)"
      ]
     },
     "execution_count": 9,
     "metadata": {},
     "output_type": "execute_result"
    }
   ],
   "source": [
    "spec = np.load(path)\n",
    "spec.shape"
   ]
  },
  {
   "cell_type": "code",
   "execution_count": 19,
   "metadata": {},
   "outputs": [],
   "source": [
    "from cac.data.audio import AudioItem"
   ]
  },
  {
   "cell_type": "code",
   "execution_count": 20,
   "metadata": {},
   "outputs": [],
   "source": [
    "path = '/data/tmp/temp_spec.npy'"
   ]
  },
  {
   "cell_type": "code",
   "execution_count": 27,
   "metadata": {},
   "outputs": [],
   "source": [
    "spec_item = AudioItem(path = path, raw_waveform = False, start = 1, end = 2)"
   ]
  },
  {
   "cell_type": "code",
   "execution_count": 28,
   "metadata": {},
   "outputs": [],
   "source": [
    "spec_signal = spec_item.load()['signal']"
   ]
  },
  {
   "cell_type": "code",
   "execution_count": 29,
   "metadata": {},
   "outputs": [
    {
     "data": {
      "text/plain": [
       "(64, 100)"
      ]
     },
     "execution_count": 29,
     "metadata": {},
     "output_type": "execute_result"
    }
   ],
   "source": [
    "spec_signal.shape"
   ]
  },
  {
   "cell_type": "code",
   "execution_count": 17,
   "metadata": {},
   "outputs": [],
   "source": [
    "a = [1, 2, 3]"
   ]
  },
  {
   "cell_type": "code",
   "execution_count": 18,
   "metadata": {},
   "outputs": [
    {
     "data": {
      "text/plain": [
       "[1, 2]"
      ]
     },
     "execution_count": 18,
     "metadata": {},
     "output_type": "execute_result"
    }
   ],
   "source": [
    "a[0:-1]"
   ]
  },
  {
   "cell_type": "code",
   "execution_count": null,
   "metadata": {},
   "outputs": [],
   "source": []
  }
 ],
 "metadata": {
  "kernelspec": {
   "display_name": "Python 3",
   "language": "python",
   "name": "python3"
  },
  "language_info": {
   "codemirror_mode": {
    "name": "ipython",
    "version": 3
   },
   "file_extension": ".py",
   "mimetype": "text/x-python",
   "name": "python",
   "nbconvert_exporter": "python",
   "pygments_lexer": "ipython3",
   "version": "3.6.9"
  }
 },
 "nbformat": 4,
 "nbformat_minor": 4
}
