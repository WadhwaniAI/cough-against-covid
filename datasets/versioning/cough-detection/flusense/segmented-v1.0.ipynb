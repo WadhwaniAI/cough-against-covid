{
 "cells": [
  {
   "cell_type": "code",
   "execution_count": null,
   "metadata": {},
   "outputs": [],
   "source": [
    "from os import makedirs\n",
    "from os.path import join, dirname\n",
    "from collections import defaultdict\n",
    "import pandas as pd\n",
    "import numpy as np\n",
    "from tqdm import tqdm\n",
    "import seaborn as sns\n",
    "import matplotlib.pyplot as plt\n",
    "from sklearn.model_selection import train_test_split\n",
    "\n",
    "from cac.utils.io import save_yml, read_yml\n",
    "from cac.utils.pandas import apply_filters"
   ]
  },
  {
   "cell_type": "code",
   "execution_count": null,
   "metadata": {},
   "outputs": [],
   "source": [
    "random_state = 0\n",
    "np.random.seed(random_state)"
   ]
  },
  {
   "cell_type": "code",
   "execution_count": null,
   "metadata": {},
   "outputs": [],
   "source": [
    "data_root = '/data/flusense/processed/'"
   ]
  },
  {
   "cell_type": "code",
   "execution_count": null,
   "metadata": {},
   "outputs": [],
   "source": [
    "annotation = pd.read_csv(join(data_root, 'annotation.csv'))"
   ]
  },
  {
   "cell_type": "code",
   "execution_count": null,
   "metadata": {},
   "outputs": [],
   "source": [
    "annotation['segmentation'][0]"
   ]
  },
  {
   "cell_type": "code",
   "execution_count": null,
   "metadata": {},
   "outputs": [],
   "source": [
    "annotation['classification'][0]"
   ]
  },
  {
   "cell_type": "code",
   "execution_count": null,
   "metadata": {},
   "outputs": [],
   "source": [
    "annotation['segmentation'] = annotation['segmentation'].apply(lambda x: x if isinstance(x, dict) else eval(x))\n",
    "annotation['classification'] = annotation['classification'].apply(lambda x: x if isinstance(x, list) else eval(x))"
   ]
  },
  {
   "cell_type": "code",
   "execution_count": null,
   "metadata": {},
   "outputs": [],
   "source": [
    "annotation.head()"
   ]
  },
  {
   "cell_type": "code",
   "execution_count": null,
   "metadata": {},
   "outputs": [],
   "source": [
    "annotation['file'] = annotation['file'].apply(lambda x: join(data_root, 'audio', x) + '.wav')"
   ]
  },
  {
   "cell_type": "code",
   "execution_count": null,
   "metadata": {},
   "outputs": [],
   "source": [
    "annotation.head()"
   ]
  },
  {
   "cell_type": "code",
   "execution_count": null,
   "metadata": {},
   "outputs": [],
   "source": [
    "indices = np.arange(len(annotation))"
   ]
  },
  {
   "cell_type": "code",
   "execution_count": null,
   "metadata": {},
   "outputs": [],
   "source": [
    "train_indices, val_test_indices = train_test_split(indices, test_size=0.2, random_state=random_state)"
   ]
  },
  {
   "cell_type": "code",
   "execution_count": null,
   "metadata": {},
   "outputs": [],
   "source": [
    "val_indices, test_indices = train_test_split(val_test_indices, test_size=0.5, random_state=random_state)"
   ]
  },
  {
   "cell_type": "code",
   "execution_count": null,
   "metadata": {},
   "outputs": [],
   "source": [
    "len(train_indices), len(val_indices), len(test_indices)"
   ]
  },
  {
   "cell_type": "code",
   "execution_count": null,
   "metadata": {},
   "outputs": [],
   "source": [
    "annotation_train = annotation.loc[train_indices].reset_index(drop=True)\n",
    "annotation_val = annotation.loc[val_indices].reset_index(drop=True)\n",
    "annotation_test = annotation.loc[test_indices].reset_index(drop=True)"
   ]
  },
  {
   "cell_type": "code",
   "execution_count": null,
   "metadata": {},
   "outputs": [],
   "source": [
    "tasks = {\n",
    "    'classification': {\n",
    "        'valid_labels': ['cough']\n",
    "    }\n",
    "}"
   ]
  },
  {
   "cell_type": "code",
   "execution_count": null,
   "metadata": {},
   "outputs": [],
   "source": [
    "def convert_files_into_segments(df):\n",
    "    segmented_files = defaultdict(list)\n",
    "\n",
    "    for row_idx in tqdm(range(len(df)), desc='Iterating over the dataset'):\n",
    "        row = df.loc[row_idx]\n",
    "        file = row['file']\n",
    "\n",
    "        for label in row['segmentation']:\n",
    "            segments = row['segmentation'][label]\n",
    "\n",
    "            for segment in segments:\n",
    "                start, end = segment\n",
    "\n",
    "                if (end - start) <= 1e-2:\n",
    "                    continue\n",
    "\n",
    "                segmented_files['file'].append(file)\n",
    "                label = {'classification': ['cough']} if label == 'cough' else {'classification': []}\n",
    "                segmented_files['label'].append(label)\n",
    "                segmented_files['start'].append(start)\n",
    "                segmented_files['end'].append(end)\n",
    "\n",
    "    return pd.DataFrame(segmented_files, columns=['file', 'label', 'start', 'end'])"
   ]
  },
  {
   "cell_type": "code",
   "execution_count": null,
   "metadata": {},
   "outputs": [],
   "source": [
    "df_train = convert_files_into_segments(annotation_train)"
   ]
  },
  {
   "cell_type": "code",
   "execution_count": null,
   "metadata": {},
   "outputs": [],
   "source": [
    "df_val = convert_files_into_segments(annotation_val)"
   ]
  },
  {
   "cell_type": "code",
   "execution_count": null,
   "metadata": {},
   "outputs": [],
   "source": [
    "df_test = convert_files_into_segments(annotation_test)"
   ]
  },
  {
   "cell_type": "code",
   "execution_count": null,
   "metadata": {},
   "outputs": [],
   "source": [
    "df_val.label.astype('str').value_counts()"
   ]
  },
  {
   "cell_type": "code",
   "execution_count": null,
   "metadata": {},
   "outputs": [],
   "source": [
    "df_train.shape, df_val.shape, df_test.shape"
   ]
  },
  {
   "cell_type": "code",
   "execution_count": null,
   "metadata": {},
   "outputs": [],
   "source": [
    "fig, ax = plt.subplots(1, 3, figsize=(20, 7))\n",
    "\n",
    "modes = ['train', 'val', 'test']\n",
    "\n",
    "for i, mode in enumerate(modes):\n",
    "    _df = eval('df_{}'.format(mode)).copy()\n",
    "    _df['label'] = _df['label'].apply(lambda x: 'cough' if 'cough' in x['classification'] else 'non-cough')\n",
    "\n",
    "    sns.countplot(x='label', data=_df, ax=ax[i])\n",
    "    \n",
    "    counts = _df['label'].value_counts()\n",
    "    ax[i].set_title(mode.upper() + '   [cough: {}  non-cough: {}]'.format(counts['cough'], counts['non-cough']))\n",
    "    ax[i].set_ylim(0, 10000)\n",
    "    ax[i].grid()\n",
    "\n",
    "plt.show()"
   ]
  },
  {
   "cell_type": "code",
   "execution_count": null,
   "metadata": {},
   "outputs": [],
   "source": [
    "version = 'segmented-v1.0'\n",
    "save_path = join(data_root, 'versions', '{}.yml'.format(version))"
   ]
  },
  {
   "cell_type": "code",
   "execution_count": null,
   "metadata": {},
   "outputs": [],
   "source": [
    "description = dict()\n",
    "description['tasks'] = tasks\n",
    "description['description'] = 'cough vs non-cough classification with split randomly done across files & files segmented within a split'\n",
    "\n",
    "for name, _df in zip(['all', 'train', 'val', 'test'], [pd.concat([df_train, df_val, df_test]), df_train, df_val, df_test]):\n",
    "    description[name] = {\n",
    "        'file': _df['file'].values.tolist(),\n",
    "        'label': _df['label'].values.tolist(),\n",
    "        'start': _df['start'].values.tolist(),\n",
    "        'end': _df['end'].values.tolist()\n",
    "    }"
   ]
  },
  {
   "cell_type": "code",
   "execution_count": null,
   "metadata": {},
   "outputs": [],
   "source": [
    "# save description\n",
    "makedirs(dirname(save_path), exist_ok=True)\n",
    "save_yml(description, save_path)"
   ]
  },
  {
   "cell_type": "code",
   "execution_count": null,
   "metadata": {},
   "outputs": [],
   "source": []
  }
 ],
 "metadata": {
  "kernelspec": {
   "display_name": "Python 3",
   "language": "python",
   "name": "python3"
  },
  "language_info": {
   "codemirror_mode": {
    "name": "ipython",
    "version": 3
   },
   "file_extension": ".py",
   "mimetype": "text/x-python",
   "name": "python",
   "nbconvert_exporter": "python",
   "pygments_lexer": "ipython3",
   "version": "3.6.9"
  }
 },
 "nbformat": 4,
 "nbformat_minor": 4
}
