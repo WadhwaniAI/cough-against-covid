{
 "cells": [
  {
   "cell_type": "code",
   "execution_count": null,
   "metadata": {},
   "outputs": [],
   "source": [
    "%load_ext autoreload\n",
    "%autoreload 2"
   ]
  },
  {
   "cell_type": "code",
   "execution_count": null,
   "metadata": {},
   "outputs": [],
   "source": [
    "import os\n",
    "from os.path import dirname, join, exists\n",
    "from copy import deepcopy\n",
    "from typing import List\n",
    "import multiprocessing as mp\n",
    "import torch\n",
    "import numpy as np\n",
    "import pandas as pd\n",
    "from scipy.special import softmax\n",
    "import matplotlib.pyplot as plt\n",
    "import matplotlib.cm as cm\n",
    "import seaborn as sns\n",
    "from tqdm import tqdm\n",
    "from IPython.display import display, HTML, clear_output, Markdown, Audio\n",
    "from ipywidgets import HBox, Label, VBox, Dropdown, Layout, Output, Image\n",
    "\n",
    "from cac.config import Config, DATA_ROOT\n",
    "from cac.utils.logger import set_logger, color\n",
    "from cac.data.dataloader import get_dataloader\n",
    "from cac.analysis.classification import ClassificationAnalyzer"
   ]
  },
  {
   "cell_type": "code",
   "execution_count": null,
   "metadata": {},
   "outputs": [],
   "source": [
    "import warnings\n",
    "warnings.simplefilter('ignore')"
   ]
  },
  {
   "cell_type": "markdown",
   "metadata": {},
   "source": [
    "### Define inputs"
   ]
  },
  {
   "cell_type": "code",
   "execution_count": null,
   "metadata": {},
   "outputs": [],
   "source": [
    "VERSION = 'experiments/covid-detection/v9_4_cough_adam_1e-4.yml'\n",
    "USER = 'piyush'\n",
    "BEST_EPOCH = 99"
   ]
  },
  {
   "cell_type": "code",
   "execution_count": null,
   "metadata": {},
   "outputs": [],
   "source": [
    "BATCH_SIZE = 10\n",
    "NUM_WORKERS = 10"
   ]
  },
  {
   "cell_type": "markdown",
   "metadata": {},
   "source": [
    "### Define config"
   ]
  },
  {
   "cell_type": "code",
   "execution_count": null,
   "metadata": {},
   "outputs": [],
   "source": [
    "config = Config(VERSION, USER)"
   ]
  },
  {
   "cell_type": "markdown",
   "metadata": {},
   "source": [
    "### Load data"
   ]
  },
  {
   "cell_type": "code",
   "execution_count": null,
   "metadata": {},
   "outputs": [],
   "source": [
    "val_dataloader, _ = get_dataloader(\n",
    "    config.data, 'val',\n",
    "    BATCH_SIZE,\n",
    "    num_workers=NUM_WORKERS,\n",
    "    shuffle=False,\n",
    "    drop_last=False\n",
    ")"
   ]
  },
  {
   "cell_type": "markdown",
   "metadata": {},
   "source": [
    "### Initialize the analyzer module"
   ]
  },
  {
   "cell_type": "code",
   "execution_count": null,
   "metadata": {},
   "outputs": [],
   "source": [
    "analyzer = ClassificationAnalyzer(config, checkpoint=BEST_EPOCH, load_best=False, debug=True)"
   ]
  },
  {
   "cell_type": "markdown",
   "metadata": {},
   "source": [
    "### Compute model embeddings (penultimate layer)"
   ]
  },
  {
   "cell_type": "code",
   "execution_count": null,
   "metadata": {},
   "outputs": [],
   "source": [
    "results = analyzer.compute_features(val_dataloader, last_layer_index=-2)"
   ]
  },
  {
   "cell_type": "code",
   "execution_count": null,
   "metadata": {},
   "outputs": [],
   "source": [
    "results['features'].shape"
   ]
  },
  {
   "cell_type": "markdown",
   "metadata": {},
   "source": [
    "### Apply dimensionality reduction on the embeddings"
   ]
  },
  {
   "cell_type": "code",
   "execution_count": null,
   "metadata": {},
   "outputs": [],
   "source": [
    "X = results['features']"
   ]
  },
  {
   "cell_type": "code",
   "execution_count": null,
   "metadata": {},
   "outputs": [],
   "source": [
    "method_cfg = {\n",
    "    'name': 'TSNE',\n",
    "    'params': {'n_components': 2, 'random_state': 0}\n",
    "}"
   ]
  },
  {
   "cell_type": "code",
   "execution_count": null,
   "metadata": {},
   "outputs": [],
   "source": [
    "Z = analyzer.compute_embeddings(method_cfg, X)"
   ]
  },
  {
   "cell_type": "code",
   "execution_count": null,
   "metadata": {},
   "outputs": [],
   "source": [
    "Z.shape"
   ]
  },
  {
   "cell_type": "markdown",
   "metadata": {},
   "source": [
    "### Converting attributes to DataFrame"
   ]
  },
  {
   "cell_type": "code",
   "execution_count": null,
   "metadata": {},
   "outputs": [],
   "source": [
    "attributes = results['attributes']"
   ]
  },
  {
   "cell_type": "code",
   "execution_count": null,
   "metadata": {},
   "outputs": [],
   "source": [
    "len(attributes)"
   ]
  },
  {
   "cell_type": "code",
   "execution_count": null,
   "metadata": {},
   "outputs": [],
   "source": [
    "df = pd.DataFrame(attributes)"
   ]
  },
  {
   "cell_type": "markdown",
   "metadata": {},
   "source": [
    "### Plotting function (can play around)"
   ]
  },
  {
   "cell_type": "code",
   "execution_count": null,
   "metadata": {},
   "outputs": [],
   "source": [
    "def scatter2d(x1, x2, row_values_: pd.DataFrame, label: str, legend: bool = True,\n",
    "              ignore_list: List[dict] = [\n",
    "                  {\n",
    "                      'key': 'audio_type',\n",
    "                      'values': ['audio_1_to_10', 'breathing']\n",
    "                  }\n",
    "              ], annotate=False,\n",
    "              title=None):\n",
    "\n",
    "    row_values = row_values_.copy()\n",
    "    \n",
    "    # check if the label columns exists\n",
    "    assert label in row_values.columns\n",
    "    \n",
    "    # drop where label column is NaN\n",
    "    row_values.dropna(subset=[label], inplace=True)\n",
    "    \n",
    "    # ignore certain values in given columns\n",
    "    for ignore_dict in ignore_list:\n",
    "        key, values = ignore_dict['key'], ignore_dict['values']\n",
    "        row_values = row_values[~row_values[key].isin(values)]\n",
    "    \n",
    "    # retaining only relevant indices in latent embeddings\n",
    "    keep_indices = list(row_values.index)\n",
    "    x1 = x1[keep_indices]\n",
    "    x2 = x2[keep_indices]\n",
    "\n",
    "    labels = row_values[label].values\n",
    "    unique_labels = np.unique(labels)\n",
    "\n",
    "    colors = cm.plasma(np.linspace(0, 1, len(unique_labels)))\n",
    "\n",
    "    f, ax = plt.subplots(1, figsize=(10, 10))\n",
    "\n",
    "    for (i, label), color in zip(enumerate(unique_labels), colors):\n",
    "        indices = np.where(labels == label)\n",
    "        num = len(indices[0])\n",
    "        ax.scatter(x1[indices], x2[indices], label='{} : {}'.format(label, num), color=color)\n",
    "\n",
    "        if annotate:\n",
    "            for j in indices[0]:\n",
    "                ax.annotate('P{}'.format(i), (x1[j] + 0.1, x2[j] + 0.1))\n",
    "\n",
    "\n",
    "    ax.set_ylabel('Component 2')\n",
    "    ax.set_xlabel('Component 1')\n",
    "    \n",
    "    if title is not None:\n",
    "        ax.set_title(title)\n",
    "\n",
    "    ax.grid()\n",
    "\n",
    "    if legend:\n",
    "        ax.legend(loc='best')"
   ]
  },
  {
   "cell_type": "markdown",
   "metadata": {},
   "source": [
    "\n",
    "### Sanity check plotting function"
   ]
  },
  {
   "cell_type": "code",
   "execution_count": null,
   "metadata": {},
   "outputs": [],
   "source": [
    "scatter2d(Z[:, 0], Z[:, 1], df, label='audio_type', ignore_list=[])"
   ]
  },
  {
   "cell_type": "markdown",
   "metadata": {},
   "source": [
    "### Data source"
   ]
  },
  {
   "cell_type": "code",
   "execution_count": null,
   "metadata": {},
   "outputs": [],
   "source": [
    "df['data-source'] = df[['enroll_state', 'enroll_facility']].apply(lambda x: x[0] + ': {}'.format(x[1]), axis=1)"
   ]
  },
  {
   "cell_type": "code",
   "execution_count": null,
   "metadata": {},
   "outputs": [],
   "source": [
    "ignore_list = [\n",
    "    {\n",
    "        'key': 'audio_type',\n",
    "        'values': []\n",
    "    },\n",
    "    {\n",
    "        'key': 'testresult_covid_test_result',\n",
    "        'values': []\n",
    "    }\n",
    "]\n",
    "\n",
    "ignore_list[1]['values'] = []\n",
    "scatter2d(Z[:, 0], Z[:, 1], df, label='data-source', title='Cough sound embeddings by data source: All', ignore_list=ignore_list)\n",
    "\n",
    "ignore_list[1]['values'] = ['Positive']\n",
    "scatter2d(Z[:, 0], Z[:, 1], df, label='data-source', title='Cough sound embeddings by data source: Negatives', ignore_list=ignore_list)\n",
    "\n",
    "ignore_list[1]['values'] = ['Negative']\n",
    "scatter2d(Z[:, 0], Z[:, 1], df, label='data-source', title='Cough sound embeddings by data source: Positives', ignore_list=ignore_list)"
   ]
  },
  {
   "cell_type": "markdown",
   "metadata": {},
   "source": [
    "### Disease status"
   ]
  },
  {
   "cell_type": "code",
   "execution_count": null,
   "metadata": {},
   "outputs": [],
   "source": [
    "if 'disease_status' in df:\n",
    "    df['covid_status'] = df['disease_status'].combine_first(df['testresult_covid_test_result'])\n",
    "else:\n",
    "    df['covid_status'] = df['testresult_covid_test_result']\n",
    "df['covid_status'] = df['covid_status'].apply(lambda x: x.upper())"
   ]
  },
  {
   "cell_type": "code",
   "execution_count": null,
   "metadata": {},
   "outputs": [],
   "source": [
    "scatter2d(Z[:, 0], Z[:, 1], df, label='covid_status', title='Cough sound embeddings by disease status: V1.1 (Only NMCH)')"
   ]
  },
  {
   "cell_type": "markdown",
   "metadata": {},
   "source": [
    "### Patient Identity"
   ]
  },
  {
   "cell_type": "code",
   "execution_count": null,
   "metadata": {},
   "outputs": [],
   "source": [
    "ignore_list = [\n",
    "    {\n",
    "        'key': 'audio_type',\n",
    "        'values': ['audio_1_to_10', 'breathing']\n",
    "    },\n",
    "    {\n",
    "        'key': 'dataset-name',\n",
    "        'values': []\n",
    "    }\n",
    "]\n",
    "\n",
    "scatter2d(Z[:, 0], Z[:, 1], df, label='unique_id', annotate=True, legend=False, ignore_list=ignore_list, title='[V1.1] Coughs by patient IDs: TSNE')"
   ]
  },
  {
   "cell_type": "markdown",
   "metadata": {},
   "source": [
    "### Gender"
   ]
  },
  {
   "cell_type": "code",
   "execution_count": null,
   "metadata": {},
   "outputs": [],
   "source": [
    "scatter2d(Z[:, 0], Z[:, 1], df, label='enroll_patient_gender', title='Cough sounds by gender: Facility', ignore_list=ignore_list)"
   ]
  },
  {
   "cell_type": "markdown",
   "metadata": {},
   "source": [
    "### Symptoms"
   ]
  },
  {
   "cell_type": "code",
   "execution_count": null,
   "metadata": {},
   "outputs": [],
   "source": [
    "all_symptoms = ['cough', 'fever', 'shortness_of_breath']"
   ]
  },
  {
   "cell_type": "code",
   "execution_count": null,
   "metadata": {},
   "outputs": [],
   "source": [
    "ignore_list: List[dict] = [\n",
    "    {\n",
    "        'key': 'audio_type',\n",
    "        'values': ['audio_1_to_10', 'breathing']\n",
    "    }\n",
    "]\n",
    "\n",
    "for symptom in all_symptoms:\n",
    "    scatter2d(Z[:, 0], Z[:, 1], df, label='enroll_' + symptom, title='Cough sounds by {}'.format(symptom), ignore_list=ignore_list)"
   ]
  },
  {
   "cell_type": "markdown",
   "metadata": {},
   "source": [
    "### Age"
   ]
  },
  {
   "cell_type": "code",
   "execution_count": null,
   "metadata": {},
   "outputs": [],
   "source": [
    "df['age_bucket'] = pd.cut(df.enroll_patient_age, bins=[0, 10, 20, 30, 40, 50, 60, 70, 80, 90, 100])"
   ]
  },
  {
   "cell_type": "code",
   "execution_count": null,
   "metadata": {},
   "outputs": [],
   "source": [
    "scatter2d(Z[:, 0], Z[:, 1], df, label='age_bucket', title='Cough sounds by age-bucket', ignore_list=ignore_list)"
   ]
  },
  {
   "cell_type": "code",
   "execution_count": null,
   "metadata": {},
   "outputs": [],
   "source": []
  },
  {
   "cell_type": "code",
   "execution_count": null,
   "metadata": {},
   "outputs": [],
   "source": []
  }
 ],
 "metadata": {
  "kernelspec": {
   "display_name": "Python 3",
   "language": "python",
   "name": "python3"
  },
  "language_info": {
   "codemirror_mode": {
    "name": "ipython",
    "version": 3
   },
   "file_extension": ".py",
   "mimetype": "text/x-python",
   "name": "python",
   "nbconvert_exporter": "python",
   "pygments_lexer": "ipython3",
   "version": "3.6.9"
  }
 },
 "nbformat": 4,
 "nbformat_minor": 4
}
